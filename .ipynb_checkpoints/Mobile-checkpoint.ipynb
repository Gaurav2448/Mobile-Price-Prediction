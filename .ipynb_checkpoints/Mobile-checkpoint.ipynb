{
 "cells": [
  {
   "cell_type": "code",
   "execution_count": 263,
   "id": "2f3c8fd4-8fd0-40cf-8a44-6ead3739112e",
   "metadata": {},
   "outputs": [],
   "source": [
    "import pandas as pd\n",
    "import numpy as np\n",
    "import matplotlib.pyplot as plt\n",
    "import seaborn as sns\n",
    "%matplotlib inline"
   ]
  },
  {
   "cell_type": "code",
   "execution_count": 264,
   "id": "615b2476-efa0-4f5b-93e6-f7e8904d85e6",
   "metadata": {},
   "outputs": [],
   "source": [
    "df=pd.read_csv(\"mobile phone price prediction.csv\")"
   ]
  },
  {
   "cell_type": "code",
   "execution_count": 265,
   "id": "68988e4d-daff-4a1a-955e-3f72a7dc4011",
   "metadata": {},
   "outputs": [
    {
     "data": {
      "text/html": [
       "<div>\n",
       "<style scoped>\n",
       "    .dataframe tbody tr th:only-of-type {\n",
       "        vertical-align: middle;\n",
       "    }\n",
       "\n",
       "    .dataframe tbody tr th {\n",
       "        vertical-align: top;\n",
       "    }\n",
       "\n",
       "    .dataframe thead th {\n",
       "        text-align: right;\n",
       "    }\n",
       "</style>\n",
       "<table border=\"1\" class=\"dataframe\">\n",
       "  <thead>\n",
       "    <tr style=\"text-align: right;\">\n",
       "      <th></th>\n",
       "      <th>Unnamed: 0</th>\n",
       "      <th>Name</th>\n",
       "      <th>Rating</th>\n",
       "      <th>Spec_score</th>\n",
       "      <th>No_of_sim</th>\n",
       "      <th>Ram</th>\n",
       "      <th>Battery</th>\n",
       "      <th>Display</th>\n",
       "      <th>Camera</th>\n",
       "      <th>External_Memory</th>\n",
       "      <th>Android_version</th>\n",
       "      <th>Price</th>\n",
       "      <th>company</th>\n",
       "      <th>Inbuilt_memory</th>\n",
       "      <th>fast_charging</th>\n",
       "      <th>Screen_resolution</th>\n",
       "      <th>Processor</th>\n",
       "      <th>Processor_name</th>\n",
       "    </tr>\n",
       "  </thead>\n",
       "  <tbody>\n",
       "    <tr>\n",
       "      <th>0</th>\n",
       "      <td>0</td>\n",
       "      <td>Samsung Galaxy F14 5G</td>\n",
       "      <td>4.65</td>\n",
       "      <td>68</td>\n",
       "      <td>Dual Sim, 3G, 4G, 5G, VoLTE,</td>\n",
       "      <td>4 GB RAM</td>\n",
       "      <td>6000 mAh Battery</td>\n",
       "      <td>6.6 inches</td>\n",
       "      <td>50 MP + 2 MP Dual Rear &amp;amp; 13 MP Front Camera</td>\n",
       "      <td>Memory Card Supported, upto 1 TB</td>\n",
       "      <td>13</td>\n",
       "      <td>9,999</td>\n",
       "      <td>Samsung</td>\n",
       "      <td>128 GB inbuilt</td>\n",
       "      <td>25W Fast Charging</td>\n",
       "      <td>2408 x 1080 px Display with Water Drop Notch</td>\n",
       "      <td>Octa Core Processor</td>\n",
       "      <td>Exynos 1330</td>\n",
       "    </tr>\n",
       "    <tr>\n",
       "      <th>1</th>\n",
       "      <td>1</td>\n",
       "      <td>Samsung Galaxy A11</td>\n",
       "      <td>4.20</td>\n",
       "      <td>63</td>\n",
       "      <td>Dual Sim, 3G, 4G, VoLTE,</td>\n",
       "      <td>2 GB RAM</td>\n",
       "      <td>4000 mAh Battery</td>\n",
       "      <td>6.4 inches</td>\n",
       "      <td>13 MP + 5 MP + 2 MP Triple Rear &amp;amp; 8 MP Fro...</td>\n",
       "      <td>Memory Card Supported, upto 512 GB</td>\n",
       "      <td>10</td>\n",
       "      <td>9,990</td>\n",
       "      <td>Samsung</td>\n",
       "      <td>32 GB inbuilt</td>\n",
       "      <td>15W Fast Charging</td>\n",
       "      <td>720 x 1560 px Display with Punch Hole</td>\n",
       "      <td>1.8 GHz Processor</td>\n",
       "      <td>Octa Core</td>\n",
       "    </tr>\n",
       "    <tr>\n",
       "      <th>2</th>\n",
       "      <td>2</td>\n",
       "      <td>Samsung Galaxy A13</td>\n",
       "      <td>4.30</td>\n",
       "      <td>75</td>\n",
       "      <td>Dual Sim, 3G, 4G, VoLTE,</td>\n",
       "      <td>4 GB RAM</td>\n",
       "      <td>5000 mAh Battery</td>\n",
       "      <td>6.6 inches</td>\n",
       "      <td>50 MP Quad Rear &amp;amp; 8 MP Front Camera</td>\n",
       "      <td>Memory Card Supported, upto 1 TB</td>\n",
       "      <td>12</td>\n",
       "      <td>11,999</td>\n",
       "      <td>Samsung</td>\n",
       "      <td>64 GB inbuilt</td>\n",
       "      <td>25W Fast Charging</td>\n",
       "      <td>1080 x 2408 px Display with Water Drop Notch</td>\n",
       "      <td>2 GHz Processor</td>\n",
       "      <td>Octa Core</td>\n",
       "    </tr>\n",
       "    <tr>\n",
       "      <th>3</th>\n",
       "      <td>3</td>\n",
       "      <td>Samsung Galaxy F23</td>\n",
       "      <td>4.10</td>\n",
       "      <td>73</td>\n",
       "      <td>Dual Sim, 3G, 4G, VoLTE,</td>\n",
       "      <td>4 GB RAM</td>\n",
       "      <td>6000 mAh Battery</td>\n",
       "      <td>6.4 inches</td>\n",
       "      <td>48 MP Quad Rear &amp;amp; 13 MP Front Camera</td>\n",
       "      <td>Memory Card Supported, upto 1 TB</td>\n",
       "      <td>12</td>\n",
       "      <td>11,999</td>\n",
       "      <td>Samsung</td>\n",
       "      <td>64 GB inbuilt</td>\n",
       "      <td>NaN</td>\n",
       "      <td>720 x 1600 px</td>\n",
       "      <td>Octa Core</td>\n",
       "      <td>Helio G88</td>\n",
       "    </tr>\n",
       "    <tr>\n",
       "      <th>4</th>\n",
       "      <td>4</td>\n",
       "      <td>Samsung Galaxy A03s (4GB RAM + 64GB)</td>\n",
       "      <td>4.10</td>\n",
       "      <td>69</td>\n",
       "      <td>Dual Sim, 3G, 4G, VoLTE,</td>\n",
       "      <td>4 GB RAM</td>\n",
       "      <td>5000 mAh Battery</td>\n",
       "      <td>6.5 inches</td>\n",
       "      <td>13 MP + 2 MP + 2 MP Triple Rear &amp;amp; 5 MP Fro...</td>\n",
       "      <td>Memory Card Supported, upto 1 TB</td>\n",
       "      <td>11</td>\n",
       "      <td>11,999</td>\n",
       "      <td>Samsung</td>\n",
       "      <td>64 GB inbuilt</td>\n",
       "      <td>15W Fast Charging</td>\n",
       "      <td>720 x 1600 px Display with Water Drop Notch</td>\n",
       "      <td>Octa Core</td>\n",
       "      <td>Helio P35</td>\n",
       "    </tr>\n",
       "  </tbody>\n",
       "</table>\n",
       "</div>"
      ],
      "text/plain": [
       "   Unnamed: 0                                  Name  Rating  Spec_score  \\\n",
       "0           0                 Samsung Galaxy F14 5G    4.65          68   \n",
       "1           1                    Samsung Galaxy A11    4.20          63   \n",
       "2           2                    Samsung Galaxy A13    4.30          75   \n",
       "3           3                    Samsung Galaxy F23    4.10          73   \n",
       "4           4  Samsung Galaxy A03s (4GB RAM + 64GB)    4.10          69   \n",
       "\n",
       "                       No_of_sim       Ram            Battery     Display  \\\n",
       "0  Dual Sim, 3G, 4G, 5G, VoLTE,   4 GB RAM  6000 mAh Battery   6.6 inches   \n",
       "1      Dual Sim, 3G, 4G, VoLTE,   2 GB RAM  4000 mAh Battery   6.4 inches   \n",
       "2      Dual Sim, 3G, 4G, VoLTE,   4 GB RAM  5000 mAh Battery   6.6 inches   \n",
       "3      Dual Sim, 3G, 4G, VoLTE,   4 GB RAM   6000 mAh Battery  6.4 inches   \n",
       "4      Dual Sim, 3G, 4G, VoLTE,   4 GB RAM  5000 mAh Battery   6.5 inches   \n",
       "\n",
       "                                              Camera  \\\n",
       "0    50 MP + 2 MP Dual Rear &amp; 13 MP Front Camera   \n",
       "1  13 MP + 5 MP + 2 MP Triple Rear &amp; 8 MP Fro...   \n",
       "2            50 MP Quad Rear &amp; 8 MP Front Camera   \n",
       "3           48 MP Quad Rear &amp; 13 MP Front Camera   \n",
       "4  13 MP + 2 MP + 2 MP Triple Rear &amp; 5 MP Fro...   \n",
       "\n",
       "                      External_Memory Android_version   Price  company  \\\n",
       "0    Memory Card Supported, upto 1 TB              13   9,999  Samsung   \n",
       "1  Memory Card Supported, upto 512 GB              10   9,990  Samsung   \n",
       "2    Memory Card Supported, upto 1 TB              12  11,999  Samsung   \n",
       "3    Memory Card Supported, upto 1 TB              12  11,999  Samsung   \n",
       "4    Memory Card Supported, upto 1 TB              11  11,999  Samsung   \n",
       "\n",
       "    Inbuilt_memory       fast_charging  \\\n",
       "0   128 GB inbuilt   25W Fast Charging   \n",
       "1    32 GB inbuilt   15W Fast Charging   \n",
       "2    64 GB inbuilt   25W Fast Charging   \n",
       "3    64 GB inbuilt                 NaN   \n",
       "4    64 GB inbuilt   15W Fast Charging   \n",
       "\n",
       "                               Screen_resolution             Processor  \\\n",
       "0   2408 x 1080 px Display with Water Drop Notch   Octa Core Processor   \n",
       "1          720 x 1560 px Display with Punch Hole     1.8 GHz Processor   \n",
       "2   1080 x 2408 px Display with Water Drop Notch       2 GHz Processor   \n",
       "3                                  720 x 1600 px             Octa Core   \n",
       "4    720 x 1600 px Display with Water Drop Notch             Octa Core   \n",
       "\n",
       "  Processor_name  \n",
       "0    Exynos 1330  \n",
       "1      Octa Core  \n",
       "2      Octa Core  \n",
       "3      Helio G88  \n",
       "4      Helio P35  "
      ]
     },
     "execution_count": 265,
     "metadata": {},
     "output_type": "execute_result"
    }
   ],
   "source": [
    "df.head()"
   ]
  },
  {
   "cell_type": "code",
   "execution_count": 266,
   "id": "2b563520-debf-4bbd-a5d3-425240a58525",
   "metadata": {},
   "outputs": [
    {
     "data": {
      "text/plain": [
       "(1370, 18)"
      ]
     },
     "execution_count": 266,
     "metadata": {},
     "output_type": "execute_result"
    }
   ],
   "source": [
    "df.shape"
   ]
  },
  {
   "cell_type": "code",
   "execution_count": 267,
   "id": "bff778b9-3be4-40e4-a33f-0b823bc9c95c",
   "metadata": {},
   "outputs": [
    {
     "name": "stdout",
     "output_type": "stream",
     "text": [
      "<class 'pandas.core.frame.DataFrame'>\n",
      "RangeIndex: 1370 entries, 0 to 1369\n",
      "Data columns (total 18 columns):\n",
      " #   Column             Non-Null Count  Dtype  \n",
      "---  ------             --------------  -----  \n",
      " 0   Unnamed: 0         1370 non-null   int64  \n",
      " 1   Name               1370 non-null   object \n",
      " 2   Rating             1370 non-null   float64\n",
      " 3   Spec_score         1370 non-null   int64  \n",
      " 4   No_of_sim          1370 non-null   object \n",
      " 5   Ram                1370 non-null   object \n",
      " 6   Battery            1370 non-null   object \n",
      " 7   Display            1370 non-null   object \n",
      " 8   Camera             1370 non-null   object \n",
      " 9   External_Memory    1370 non-null   object \n",
      " 10  Android_version    927 non-null    object \n",
      " 11  Price              1370 non-null   object \n",
      " 12  company            1370 non-null   object \n",
      " 13  Inbuilt_memory     1351 non-null   object \n",
      " 14  fast_charging      1281 non-null   object \n",
      " 15  Screen_resolution  1368 non-null   object \n",
      " 16  Processor          1342 non-null   object \n",
      " 17  Processor_name     1370 non-null   object \n",
      "dtypes: float64(1), int64(2), object(15)\n",
      "memory usage: 192.8+ KB\n"
     ]
    }
   ],
   "source": [
    "df.info()"
   ]
  },
  {
   "cell_type": "markdown",
   "id": "65554a94-3deb-4bde-8329-e8de87d5653c",
   "metadata": {},
   "source": [
    "Treating null values"
   ]
  },
  {
   "cell_type": "markdown",
   "id": "ca85734d-88d4-4505-af65-8dd066b910cc",
   "metadata": {},
   "source": [
    "**Cleaning**"
   ]
  },
  {
   "cell_type": "code",
   "execution_count": 268,
   "id": "f074e0fa-8ac2-4b2a-a8e0-ff97c862675c",
   "metadata": {},
   "outputs": [
    {
     "data": {
      "text/plain": [
       "Unnamed: 0             0\n",
       "Name                   0\n",
       "Rating                 0\n",
       "Spec_score             0\n",
       "No_of_sim              0\n",
       "Ram                    0\n",
       "Battery                0\n",
       "Display                0\n",
       "Camera                 0\n",
       "External_Memory        0\n",
       "Android_version      443\n",
       "Price                  0\n",
       "company                0\n",
       "Inbuilt_memory        19\n",
       "fast_charging         89\n",
       "Screen_resolution      2\n",
       "Processor             28\n",
       "Processor_name         0\n",
       "dtype: int64"
      ]
     },
     "execution_count": 268,
     "metadata": {},
     "output_type": "execute_result"
    }
   ],
   "source": [
    "df.isnull().sum()"
   ]
  },
  {
   "cell_type": "code",
   "execution_count": 269,
   "id": "74779db6-52ff-46d0-84ac-1915f36fd670",
   "metadata": {},
   "outputs": [
    {
     "data": {
      "text/plain": [
       "Android_version\n",
       "13                   280\n",
       "12                   202\n",
       "14                   178\n",
       "11                   127\n",
       "10                    55\n",
       "15                    17\n",
       "10.0                  17\n",
       "9.0 (Pie)             17\n",
       "4.0                    8\n",
       "8.1 (Oreo)             5\n",
       "6.0 (Marshmallow)      3\n",
       "3.0                    3\n",
       "2.0                    3\n",
       "3.1                    2\n",
       "7.1.1 (Nougat)         2\n",
       "5.0                    1\n",
       "3.0 (Honeycomb)        1\n",
       "5.1 (Lollipop)         1\n",
       "2                      1\n",
       "3                      1\n",
       "9 (Pie)                1\n",
       "8.0 (Oreo)             1\n",
       "4.1                    1\n",
       "Name: count, dtype: int64"
      ]
     },
     "execution_count": 269,
     "metadata": {},
     "output_type": "execute_result"
    }
   ],
   "source": [
    "df['Android_version'].value_counts()"
   ]
  },
  {
   "cell_type": "markdown",
   "id": "7b574c4f-589d-4fc4-8252-a485ccd4c111",
   "metadata": {},
   "source": [
    "As number of null values in Android_version is more we will drop this column"
   ]
  },
  {
   "cell_type": "code",
   "execution_count": 270,
   "id": "790fc855-37ec-4042-be49-c0813b817ca2",
   "metadata": {},
   "outputs": [],
   "source": [
    "df.drop(columns=['Android_version'],axis=1,inplace=True)"
   ]
  },
  {
   "cell_type": "markdown",
   "id": "58750036-ce8e-4741-ae74-f0b77fd2071d",
   "metadata": {},
   "source": [
    "We will also drop 'Unnamed:0' column as it is not required "
   ]
  },
  {
   "cell_type": "code",
   "execution_count": 271,
   "id": "6f5ddee4-eaff-4494-a6b3-21c6832c93c4",
   "metadata": {},
   "outputs": [],
   "source": [
    "df.drop(columns=['Unnamed: 0'],axis=1,inplace=True)"
   ]
  },
  {
   "cell_type": "code",
   "execution_count": 272,
   "id": "3653b1f1-45f9-4fe8-ae87-26a3e8686f0d",
   "metadata": {},
   "outputs": [
    {
     "data": {
      "text/html": [
       "<div>\n",
       "<style scoped>\n",
       "    .dataframe tbody tr th:only-of-type {\n",
       "        vertical-align: middle;\n",
       "    }\n",
       "\n",
       "    .dataframe tbody tr th {\n",
       "        vertical-align: top;\n",
       "    }\n",
       "\n",
       "    .dataframe thead th {\n",
       "        text-align: right;\n",
       "    }\n",
       "</style>\n",
       "<table border=\"1\" class=\"dataframe\">\n",
       "  <thead>\n",
       "    <tr style=\"text-align: right;\">\n",
       "      <th></th>\n",
       "      <th>Name</th>\n",
       "      <th>Rating</th>\n",
       "      <th>Spec_score</th>\n",
       "      <th>No_of_sim</th>\n",
       "      <th>Ram</th>\n",
       "      <th>Battery</th>\n",
       "      <th>Display</th>\n",
       "      <th>Camera</th>\n",
       "      <th>External_Memory</th>\n",
       "      <th>Price</th>\n",
       "      <th>company</th>\n",
       "      <th>Inbuilt_memory</th>\n",
       "      <th>fast_charging</th>\n",
       "      <th>Screen_resolution</th>\n",
       "      <th>Processor</th>\n",
       "      <th>Processor_name</th>\n",
       "    </tr>\n",
       "  </thead>\n",
       "  <tbody>\n",
       "    <tr>\n",
       "      <th>0</th>\n",
       "      <td>Samsung Galaxy F14 5G</td>\n",
       "      <td>4.65</td>\n",
       "      <td>68</td>\n",
       "      <td>Dual Sim, 3G, 4G, 5G, VoLTE,</td>\n",
       "      <td>4 GB RAM</td>\n",
       "      <td>6000 mAh Battery</td>\n",
       "      <td>6.6 inches</td>\n",
       "      <td>50 MP + 2 MP Dual Rear &amp;amp; 13 MP Front Camera</td>\n",
       "      <td>Memory Card Supported, upto 1 TB</td>\n",
       "      <td>9,999</td>\n",
       "      <td>Samsung</td>\n",
       "      <td>128 GB inbuilt</td>\n",
       "      <td>25W Fast Charging</td>\n",
       "      <td>2408 x 1080 px Display with Water Drop Notch</td>\n",
       "      <td>Octa Core Processor</td>\n",
       "      <td>Exynos 1330</td>\n",
       "    </tr>\n",
       "    <tr>\n",
       "      <th>1</th>\n",
       "      <td>Samsung Galaxy A11</td>\n",
       "      <td>4.20</td>\n",
       "      <td>63</td>\n",
       "      <td>Dual Sim, 3G, 4G, VoLTE,</td>\n",
       "      <td>2 GB RAM</td>\n",
       "      <td>4000 mAh Battery</td>\n",
       "      <td>6.4 inches</td>\n",
       "      <td>13 MP + 5 MP + 2 MP Triple Rear &amp;amp; 8 MP Fro...</td>\n",
       "      <td>Memory Card Supported, upto 512 GB</td>\n",
       "      <td>9,990</td>\n",
       "      <td>Samsung</td>\n",
       "      <td>32 GB inbuilt</td>\n",
       "      <td>15W Fast Charging</td>\n",
       "      <td>720 x 1560 px Display with Punch Hole</td>\n",
       "      <td>1.8 GHz Processor</td>\n",
       "      <td>Octa Core</td>\n",
       "    </tr>\n",
       "    <tr>\n",
       "      <th>2</th>\n",
       "      <td>Samsung Galaxy A13</td>\n",
       "      <td>4.30</td>\n",
       "      <td>75</td>\n",
       "      <td>Dual Sim, 3G, 4G, VoLTE,</td>\n",
       "      <td>4 GB RAM</td>\n",
       "      <td>5000 mAh Battery</td>\n",
       "      <td>6.6 inches</td>\n",
       "      <td>50 MP Quad Rear &amp;amp; 8 MP Front Camera</td>\n",
       "      <td>Memory Card Supported, upto 1 TB</td>\n",
       "      <td>11,999</td>\n",
       "      <td>Samsung</td>\n",
       "      <td>64 GB inbuilt</td>\n",
       "      <td>25W Fast Charging</td>\n",
       "      <td>1080 x 2408 px Display with Water Drop Notch</td>\n",
       "      <td>2 GHz Processor</td>\n",
       "      <td>Octa Core</td>\n",
       "    </tr>\n",
       "    <tr>\n",
       "      <th>3</th>\n",
       "      <td>Samsung Galaxy F23</td>\n",
       "      <td>4.10</td>\n",
       "      <td>73</td>\n",
       "      <td>Dual Sim, 3G, 4G, VoLTE,</td>\n",
       "      <td>4 GB RAM</td>\n",
       "      <td>6000 mAh Battery</td>\n",
       "      <td>6.4 inches</td>\n",
       "      <td>48 MP Quad Rear &amp;amp; 13 MP Front Camera</td>\n",
       "      <td>Memory Card Supported, upto 1 TB</td>\n",
       "      <td>11,999</td>\n",
       "      <td>Samsung</td>\n",
       "      <td>64 GB inbuilt</td>\n",
       "      <td>NaN</td>\n",
       "      <td>720 x 1600 px</td>\n",
       "      <td>Octa Core</td>\n",
       "      <td>Helio G88</td>\n",
       "    </tr>\n",
       "    <tr>\n",
       "      <th>4</th>\n",
       "      <td>Samsung Galaxy A03s (4GB RAM + 64GB)</td>\n",
       "      <td>4.10</td>\n",
       "      <td>69</td>\n",
       "      <td>Dual Sim, 3G, 4G, VoLTE,</td>\n",
       "      <td>4 GB RAM</td>\n",
       "      <td>5000 mAh Battery</td>\n",
       "      <td>6.5 inches</td>\n",
       "      <td>13 MP + 2 MP + 2 MP Triple Rear &amp;amp; 5 MP Fro...</td>\n",
       "      <td>Memory Card Supported, upto 1 TB</td>\n",
       "      <td>11,999</td>\n",
       "      <td>Samsung</td>\n",
       "      <td>64 GB inbuilt</td>\n",
       "      <td>15W Fast Charging</td>\n",
       "      <td>720 x 1600 px Display with Water Drop Notch</td>\n",
       "      <td>Octa Core</td>\n",
       "      <td>Helio P35</td>\n",
       "    </tr>\n",
       "  </tbody>\n",
       "</table>\n",
       "</div>"
      ],
      "text/plain": [
       "                                   Name  Rating  Spec_score  \\\n",
       "0                 Samsung Galaxy F14 5G    4.65          68   \n",
       "1                    Samsung Galaxy A11    4.20          63   \n",
       "2                    Samsung Galaxy A13    4.30          75   \n",
       "3                    Samsung Galaxy F23    4.10          73   \n",
       "4  Samsung Galaxy A03s (4GB RAM + 64GB)    4.10          69   \n",
       "\n",
       "                       No_of_sim       Ram            Battery     Display  \\\n",
       "0  Dual Sim, 3G, 4G, 5G, VoLTE,   4 GB RAM  6000 mAh Battery   6.6 inches   \n",
       "1      Dual Sim, 3G, 4G, VoLTE,   2 GB RAM  4000 mAh Battery   6.4 inches   \n",
       "2      Dual Sim, 3G, 4G, VoLTE,   4 GB RAM  5000 mAh Battery   6.6 inches   \n",
       "3      Dual Sim, 3G, 4G, VoLTE,   4 GB RAM   6000 mAh Battery  6.4 inches   \n",
       "4      Dual Sim, 3G, 4G, VoLTE,   4 GB RAM  5000 mAh Battery   6.5 inches   \n",
       "\n",
       "                                              Camera  \\\n",
       "0    50 MP + 2 MP Dual Rear &amp; 13 MP Front Camera   \n",
       "1  13 MP + 5 MP + 2 MP Triple Rear &amp; 8 MP Fro...   \n",
       "2            50 MP Quad Rear &amp; 8 MP Front Camera   \n",
       "3           48 MP Quad Rear &amp; 13 MP Front Camera   \n",
       "4  13 MP + 2 MP + 2 MP Triple Rear &amp; 5 MP Fro...   \n",
       "\n",
       "                      External_Memory   Price  company   Inbuilt_memory  \\\n",
       "0    Memory Card Supported, upto 1 TB   9,999  Samsung   128 GB inbuilt   \n",
       "1  Memory Card Supported, upto 512 GB   9,990  Samsung    32 GB inbuilt   \n",
       "2    Memory Card Supported, upto 1 TB  11,999  Samsung    64 GB inbuilt   \n",
       "3    Memory Card Supported, upto 1 TB  11,999  Samsung    64 GB inbuilt   \n",
       "4    Memory Card Supported, upto 1 TB  11,999  Samsung    64 GB inbuilt   \n",
       "\n",
       "        fast_charging                              Screen_resolution  \\\n",
       "0   25W Fast Charging   2408 x 1080 px Display with Water Drop Notch   \n",
       "1   15W Fast Charging          720 x 1560 px Display with Punch Hole   \n",
       "2   25W Fast Charging   1080 x 2408 px Display with Water Drop Notch   \n",
       "3                 NaN                                  720 x 1600 px   \n",
       "4   15W Fast Charging    720 x 1600 px Display with Water Drop Notch   \n",
       "\n",
       "              Processor Processor_name  \n",
       "0   Octa Core Processor    Exynos 1330  \n",
       "1     1.8 GHz Processor      Octa Core  \n",
       "2       2 GHz Processor      Octa Core  \n",
       "3             Octa Core      Helio G88  \n",
       "4             Octa Core      Helio P35  "
      ]
     },
     "execution_count": 272,
     "metadata": {},
     "output_type": "execute_result"
    }
   ],
   "source": [
    "df.head()"
   ]
  },
  {
   "cell_type": "code",
   "execution_count": 273,
   "id": "17beaa72-3a74-4ec7-b3e3-3d7a8d64e885",
   "metadata": {},
   "outputs": [
    {
     "data": {
      "text/plain": [
       "Name                  0\n",
       "Rating                0\n",
       "Spec_score            0\n",
       "No_of_sim             0\n",
       "Ram                   0\n",
       "Battery               0\n",
       "Display               0\n",
       "Camera                0\n",
       "External_Memory       0\n",
       "Price                 0\n",
       "company               0\n",
       "Inbuilt_memory       19\n",
       "fast_charging        89\n",
       "Screen_resolution     2\n",
       "Processor            28\n",
       "Processor_name        0\n",
       "dtype: int64"
      ]
     },
     "execution_count": 273,
     "metadata": {},
     "output_type": "execute_result"
    }
   ],
   "source": [
    "df.isnull().sum()"
   ]
  },
  {
   "cell_type": "code",
   "execution_count": 274,
   "id": "ab97619b-9876-4fb6-a41f-3054aa46a886",
   "metadata": {},
   "outputs": [
    {
     "data": {
      "text/plain": [
       "fast_charging\n",
       " 18W Fast Charging      157\n",
       " 33W Fast Charging      144\n",
       " 67W Fast Charging      101\n",
       " 25W Fast Charging       97\n",
       " 80W Fast Charging       78\n",
       " 100W Fast Charging      70\n",
       " 66W Fast Charging       66\n",
       " 120W Fast Charging      65\n",
       " 15W Fast Charging       61\n",
       " 44W Fast Charging       61\n",
       " 45W Fast Charging       58\n",
       " 65W Fast Charging       50\n",
       " 30W Fast Charging       44\n",
       " 10W Fast Charging       39\n",
       " Fast Charging           39\n",
       " 150W Fast Charging      24\n",
       " 22.5W Fast Charging     20\n",
       " 68W Fast Charging       20\n",
       " 40W Fast Charging       17\n",
       " 35W Fast Charging       14\n",
       " 125W Fast Charging      12\n",
       " 20W Fast Charging       11\n",
       " 200W Fast Charging       7\n",
       " 240W Fast Charging       3\n",
       " 55W Fast Charging        3\n",
       " 90W Fast Charging        3\n",
       " 88W Fast Charging        3\n",
       " 50W Fast Charging        2\n",
       " 250W Fast Charging       2\n",
       " 27W Fast Charging        2\n",
       " 57W Fast Charging        1\n",
       " 60W Fast Charging        1\n",
       " 08W Fast Charging        1\n",
       " 68.2W Fast Charging      1\n",
       " 135W Fast Charging       1\n",
       " 70W Fast Charging        1\n",
       " Water Drop Notch         1\n",
       " 7.5W Fast Charging       1\n",
       "Name: count, dtype: int64"
      ]
     },
     "execution_count": 274,
     "metadata": {},
     "output_type": "execute_result"
    }
   ],
   "source": [
    "df['fast_charging'].value_counts()"
   ]
  },
  {
   "cell_type": "code",
   "execution_count": 275,
   "id": "88dcafd6-5e91-4a49-8c79-f5f12ba70243",
   "metadata": {},
   "outputs": [],
   "source": [
    "df['fast_charging'].fillna(value='Fast Charging',inplace=True)"
   ]
  },
  {
   "cell_type": "code",
   "execution_count": 276,
   "id": "34211594-f227-4320-b53a-1edb78d62f83",
   "metadata": {},
   "outputs": [
    {
     "data": {
      "text/plain": [
       "Screen_resolution\n",
       " 1080 x 2400 px                                 357\n",
       " 720 x 1600 px Display with Water Drop Notch    100\n",
       " 1080 x 2412 px                                  77\n",
       " 720 x 1600 px                                   65\n",
       " 1080 x 2340 px                                  50\n",
       "                                               ... \n",
       " 2340 x 1080 px                                   1\n",
       " 1080 x 1920 px Display                           1\n",
       " 720 x 1600 px Display with Large Notch           1\n",
       " 540 x 960 px Display                             1\n",
       " 720 x 1640 px Display with Water Drop Notch      1\n",
       "Name: count, Length: 141, dtype: int64"
      ]
     },
     "execution_count": 276,
     "metadata": {},
     "output_type": "execute_result"
    }
   ],
   "source": [
    "df['Screen_resolution'].value_counts()"
   ]
  },
  {
   "cell_type": "code",
   "execution_count": 277,
   "id": "94e34f24-9d2d-4614-b80b-11c52803bd63",
   "metadata": {},
   "outputs": [],
   "source": [
    "df['Screen_resolution'].fillna(value='1080 x 2400 px',inplace=True)"
   ]
  },
  {
   "cell_type": "code",
   "execution_count": 278,
   "id": "46b5b396-5802-4543-9ae2-7a579f173c92",
   "metadata": {},
   "outputs": [
    {
     "data": {
      "text/plain": [
       "Processor\n",
       " Octa Core              1237\n",
       " Octa Core Processor      75\n",
       " Quad Core                11\n",
       " 1.6 GHz Processor         3\n",
       " Deca Core                 3\n",
       " 2 GHz Processor           2\n",
       " Nine-Cores                2\n",
       " Nine Core                 2\n",
       " Nine Cores                2\n",
       " 1.8 GHz Processor         1\n",
       " Deca Core Processor       1\n",
       " 1.3 GHz Processor         1\n",
       " 2.3 GHz Processor         1\n",
       " 128 GB inbuilt            1\n",
       "Name: count, dtype: int64"
      ]
     },
     "execution_count": 278,
     "metadata": {},
     "output_type": "execute_result"
    }
   ],
   "source": [
    "df['Processor'].value_counts()"
   ]
  },
  {
   "cell_type": "code",
   "execution_count": 279,
   "id": "224c4379-d5d2-4e42-9776-18be1bd80430",
   "metadata": {},
   "outputs": [],
   "source": [
    "df['Processor'].fillna(value='Octa Core',inplace=True)"
   ]
  },
  {
   "cell_type": "code",
   "execution_count": 280,
   "id": "5fdf2330-fe16-48ed-b098-91ac3dc0eb9d",
   "metadata": {},
   "outputs": [
    {
     "data": {
      "text/plain": [
       "Name                  0\n",
       "Rating                0\n",
       "Spec_score            0\n",
       "No_of_sim             0\n",
       "Ram                   0\n",
       "Battery               0\n",
       "Display               0\n",
       "Camera                0\n",
       "External_Memory       0\n",
       "Price                 0\n",
       "company               0\n",
       "Inbuilt_memory       19\n",
       "fast_charging         0\n",
       "Screen_resolution     0\n",
       "Processor             0\n",
       "Processor_name        0\n",
       "dtype: int64"
      ]
     },
     "execution_count": 280,
     "metadata": {},
     "output_type": "execute_result"
    }
   ],
   "source": [
    "df.isnull().sum()"
   ]
  },
  {
   "cell_type": "code",
   "execution_count": 281,
   "id": "c1b16064-ba95-4d89-ae56-6821316c5b6b",
   "metadata": {},
   "outputs": [
    {
     "data": {
      "text/plain": [
       "Inbuilt_memory\n",
       " 128 GB inbuilt    644\n",
       " 256 GB inbuilt    405\n",
       " 64 GB inbuilt     184\n",
       " 512 GB inbuilt     59\n",
       " 32 GB inbuilt      48\n",
       " 1 TB inbuilt        5\n",
       " 16 GB inbuilt       3\n",
       " Octa Core           1\n",
       " 258 GB inbuilt      1\n",
       " 8 GB inbuilt        1\n",
       "Name: count, dtype: int64"
      ]
     },
     "execution_count": 281,
     "metadata": {},
     "output_type": "execute_result"
    }
   ],
   "source": [
    "df['Inbuilt_memory'].value_counts()"
   ]
  },
  {
   "cell_type": "markdown",
   "id": "2b1f6cc7-12b4-4578-81a9-bb8908047296",
   "metadata": {},
   "source": [
    "As majority of mobiles has inbuilt memeory 128,256 and 64GB. We will null values according to their price ranges.\n",
    "WE will first convert the prices to type int"
   ]
  },
  {
   "cell_type": "code",
   "execution_count": 282,
   "id": "386257c1-d202-4b5c-a799-4a1fbaa35b91",
   "metadata": {},
   "outputs": [],
   "source": [
    "df['Price']=df['Price'].str.replace(',','').astype(int)"
   ]
  },
  {
   "cell_type": "code",
   "execution_count": 283,
   "id": "e0e0f635-ffa6-40dd-bc28-2cd225ee4fd5",
   "metadata": {},
   "outputs": [
    {
     "name": "stdout",
     "output_type": "stream",
     "text": [
      "<class 'pandas.core.frame.DataFrame'>\n",
      "RangeIndex: 1370 entries, 0 to 1369\n",
      "Data columns (total 16 columns):\n",
      " #   Column             Non-Null Count  Dtype  \n",
      "---  ------             --------------  -----  \n",
      " 0   Name               1370 non-null   object \n",
      " 1   Rating             1370 non-null   float64\n",
      " 2   Spec_score         1370 non-null   int64  \n",
      " 3   No_of_sim          1370 non-null   object \n",
      " 4   Ram                1370 non-null   object \n",
      " 5   Battery            1370 non-null   object \n",
      " 6   Display            1370 non-null   object \n",
      " 7   Camera             1370 non-null   object \n",
      " 8   External_Memory    1370 non-null   object \n",
      " 9   Price              1370 non-null   int32  \n",
      " 10  company            1370 non-null   object \n",
      " 11  Inbuilt_memory     1351 non-null   object \n",
      " 12  fast_charging      1370 non-null   object \n",
      " 13  Screen_resolution  1370 non-null   object \n",
      " 14  Processor          1370 non-null   object \n",
      " 15  Processor_name     1370 non-null   object \n",
      "dtypes: float64(1), int32(1), int64(1), object(13)\n",
      "memory usage: 166.0+ KB\n"
     ]
    }
   ],
   "source": [
    "df.info()"
   ]
  },
  {
   "cell_type": "code",
   "execution_count": 284,
   "id": "1350cdcb-75bb-4be7-b82c-650f4240c89e",
   "metadata": {},
   "outputs": [
    {
     "data": {
      "text/plain": [
       "1232     14990\n",
       "1233     14990\n",
       "1239     15990\n",
       "1240     17999\n",
       "1246     24999\n",
       "1252     29990\n",
       "1256     29990\n",
       "1260     32990\n",
       "1261     34990\n",
       "1262     49990\n",
       "1263     46990\n",
       "1264     46999\n",
       "1265     40990\n",
       "1267     45999\n",
       "1269     53990\n",
       "1271     56990\n",
       "1272     52990\n",
       "1275     83999\n",
       "1292    110990\n",
       "Name: Price, dtype: int32"
      ]
     },
     "execution_count": 284,
     "metadata": {},
     "output_type": "execute_result"
    }
   ],
   "source": [
    "df[df['Inbuilt_memory'].isnull()]['Price']"
   ]
  },
  {
   "cell_type": "code",
   "execution_count": 285,
   "id": "002383f1-5a90-4772-8029-e653b6511af7",
   "metadata": {},
   "outputs": [],
   "source": [
    "df.loc[(df['Inbuilt_memory'].isnull()) & (df['Price'] < 25000), 'Inbuilt_memory'] = '64 GB inbuilt'\n",
    "df.loc[(df['Inbuilt_memory'].isnull()) & (df['Price'] < 50000), 'Inbuilt_memory'] = '128 GB inbuilt'\n",
    "df.loc[(df['Inbuilt_memory'].isnull()) & (df['Price'] < 120000), 'Inbuilt_memory'] = '256 GB inbuilt'"
   ]
  },
  {
   "cell_type": "code",
   "execution_count": 286,
   "id": "6a2e67b9-f8f9-48f8-8448-1cda46052ee4",
   "metadata": {},
   "outputs": [
    {
     "data": {
      "text/plain": [
       "Name                 0\n",
       "Rating               0\n",
       "Spec_score           0\n",
       "No_of_sim            0\n",
       "Ram                  0\n",
       "Battery              0\n",
       "Display              0\n",
       "Camera               0\n",
       "External_Memory      0\n",
       "Price                0\n",
       "company              0\n",
       "Inbuilt_memory       0\n",
       "fast_charging        0\n",
       "Screen_resolution    0\n",
       "Processor            0\n",
       "Processor_name       0\n",
       "dtype: int64"
      ]
     },
     "execution_count": 286,
     "metadata": {},
     "output_type": "execute_result"
    }
   ],
   "source": [
    "df.isnull().sum()"
   ]
  },
  {
   "cell_type": "code",
   "execution_count": 287,
   "id": "60061979-b86f-465e-bd53-4536c1e445c6",
   "metadata": {},
   "outputs": [
    {
     "data": {
      "text/plain": [
       "Ram\n",
       "8 GB RAM                                     528\n",
       "4 GB RAM                                     253\n",
       "12 GB RAM                                    246\n",
       "6 GB RAM                                     214\n",
       "16 GB RAM                                     41\n",
       "3 GB RAM                                      38\n",
       "2 GB RAM                                      22\n",
       "256 GB inbuilt                                 8\n",
       "128 GB inbuilt                                 7\n",
       "18 GB RAM                                      4\n",
       "512 GB inbuilt                                 3\n",
       "24 GB RAM                                      2\n",
       "1 GB RAM                                       1\n",
       "Helio G90T                                     1\n",
       "1.5 GB RAM                                     1\n",
       "6000 mAh Battery with 22.5W Fast Charging      1\n",
       "Name: count, dtype: int64"
      ]
     },
     "execution_count": 287,
     "metadata": {},
     "output_type": "execute_result"
    }
   ],
   "source": [
    "df['Ram'].value_counts()"
   ]
  },
  {
   "cell_type": "code",
   "execution_count": 288,
   "id": "d8264298-5f28-42cc-a7cc-471b65c12903",
   "metadata": {},
   "outputs": [],
   "source": [
    "df.loc[(df['Ram']=='6000 mAh Battery with 22.5W Fast Charging') | (df['Ram']=='Helio G90T'), 'Ram'] = '8 GB RAM'"
   ]
  },
  {
   "cell_type": "code",
   "execution_count": 289,
   "id": "a669fa6f-6271-4d9d-8958-cfd330aceace",
   "metadata": {},
   "outputs": [
    {
     "data": {
      "text/plain": [
       "Ram\n",
       "8 GB RAM          530\n",
       "4 GB RAM          253\n",
       "12 GB RAM         246\n",
       "6 GB RAM          214\n",
       "16 GB RAM          41\n",
       "3 GB RAM           38\n",
       "2 GB RAM           22\n",
       "256 GB inbuilt      8\n",
       "128 GB inbuilt      7\n",
       "18 GB RAM           4\n",
       "512 GB inbuilt      3\n",
       "24 GB RAM           2\n",
       "1 GB RAM            1\n",
       "1.5 GB RAM          1\n",
       "Name: count, dtype: int64"
      ]
     },
     "execution_count": 289,
     "metadata": {},
     "output_type": "execute_result"
    }
   ],
   "source": [
    "df['Ram'].value_counts()"
   ]
  },
  {
   "cell_type": "code",
   "execution_count": 290,
   "id": "19e7098a-ebb5-467d-a596-350c9db6443d",
   "metadata": {},
   "outputs": [],
   "source": [
    "df['Ram']=df['Ram'].apply(lambda x:x.split()[0]).astype(float)"
   ]
  },
  {
   "cell_type": "code",
   "execution_count": 291,
   "id": "8085d391-a724-4a1c-a6e0-a947b5aaf9af",
   "metadata": {},
   "outputs": [
    {
     "data": {
      "text/html": [
       "<div>\n",
       "<style scoped>\n",
       "    .dataframe tbody tr th:only-of-type {\n",
       "        vertical-align: middle;\n",
       "    }\n",
       "\n",
       "    .dataframe tbody tr th {\n",
       "        vertical-align: top;\n",
       "    }\n",
       "\n",
       "    .dataframe thead th {\n",
       "        text-align: right;\n",
       "    }\n",
       "</style>\n",
       "<table border=\"1\" class=\"dataframe\">\n",
       "  <thead>\n",
       "    <tr style=\"text-align: right;\">\n",
       "      <th></th>\n",
       "      <th>Name</th>\n",
       "      <th>Rating</th>\n",
       "      <th>Spec_score</th>\n",
       "      <th>No_of_sim</th>\n",
       "      <th>Ram</th>\n",
       "      <th>Battery</th>\n",
       "      <th>Display</th>\n",
       "      <th>Camera</th>\n",
       "      <th>External_Memory</th>\n",
       "      <th>Price</th>\n",
       "      <th>company</th>\n",
       "      <th>Inbuilt_memory</th>\n",
       "      <th>fast_charging</th>\n",
       "      <th>Screen_resolution</th>\n",
       "      <th>Processor</th>\n",
       "      <th>Processor_name</th>\n",
       "    </tr>\n",
       "  </thead>\n",
       "  <tbody>\n",
       "    <tr>\n",
       "      <th>0</th>\n",
       "      <td>Samsung Galaxy F14 5G</td>\n",
       "      <td>4.65</td>\n",
       "      <td>68</td>\n",
       "      <td>Dual Sim, 3G, 4G, 5G, VoLTE,</td>\n",
       "      <td>4.0</td>\n",
       "      <td>6000 mAh Battery</td>\n",
       "      <td>6.6 inches</td>\n",
       "      <td>50 MP + 2 MP Dual Rear &amp;amp; 13 MP Front Camera</td>\n",
       "      <td>Memory Card Supported, upto 1 TB</td>\n",
       "      <td>9999</td>\n",
       "      <td>Samsung</td>\n",
       "      <td>128 GB inbuilt</td>\n",
       "      <td>25W Fast Charging</td>\n",
       "      <td>2408 x 1080 px Display with Water Drop Notch</td>\n",
       "      <td>Octa Core Processor</td>\n",
       "      <td>Exynos 1330</td>\n",
       "    </tr>\n",
       "    <tr>\n",
       "      <th>1</th>\n",
       "      <td>Samsung Galaxy A11</td>\n",
       "      <td>4.20</td>\n",
       "      <td>63</td>\n",
       "      <td>Dual Sim, 3G, 4G, VoLTE,</td>\n",
       "      <td>2.0</td>\n",
       "      <td>4000 mAh Battery</td>\n",
       "      <td>6.4 inches</td>\n",
       "      <td>13 MP + 5 MP + 2 MP Triple Rear &amp;amp; 8 MP Fro...</td>\n",
       "      <td>Memory Card Supported, upto 512 GB</td>\n",
       "      <td>9990</td>\n",
       "      <td>Samsung</td>\n",
       "      <td>32 GB inbuilt</td>\n",
       "      <td>15W Fast Charging</td>\n",
       "      <td>720 x 1560 px Display with Punch Hole</td>\n",
       "      <td>1.8 GHz Processor</td>\n",
       "      <td>Octa Core</td>\n",
       "    </tr>\n",
       "    <tr>\n",
       "      <th>2</th>\n",
       "      <td>Samsung Galaxy A13</td>\n",
       "      <td>4.30</td>\n",
       "      <td>75</td>\n",
       "      <td>Dual Sim, 3G, 4G, VoLTE,</td>\n",
       "      <td>4.0</td>\n",
       "      <td>5000 mAh Battery</td>\n",
       "      <td>6.6 inches</td>\n",
       "      <td>50 MP Quad Rear &amp;amp; 8 MP Front Camera</td>\n",
       "      <td>Memory Card Supported, upto 1 TB</td>\n",
       "      <td>11999</td>\n",
       "      <td>Samsung</td>\n",
       "      <td>64 GB inbuilt</td>\n",
       "      <td>25W Fast Charging</td>\n",
       "      <td>1080 x 2408 px Display with Water Drop Notch</td>\n",
       "      <td>2 GHz Processor</td>\n",
       "      <td>Octa Core</td>\n",
       "    </tr>\n",
       "    <tr>\n",
       "      <th>3</th>\n",
       "      <td>Samsung Galaxy F23</td>\n",
       "      <td>4.10</td>\n",
       "      <td>73</td>\n",
       "      <td>Dual Sim, 3G, 4G, VoLTE,</td>\n",
       "      <td>4.0</td>\n",
       "      <td>6000 mAh Battery</td>\n",
       "      <td>6.4 inches</td>\n",
       "      <td>48 MP Quad Rear &amp;amp; 13 MP Front Camera</td>\n",
       "      <td>Memory Card Supported, upto 1 TB</td>\n",
       "      <td>11999</td>\n",
       "      <td>Samsung</td>\n",
       "      <td>64 GB inbuilt</td>\n",
       "      <td>Fast Charging</td>\n",
       "      <td>720 x 1600 px</td>\n",
       "      <td>Octa Core</td>\n",
       "      <td>Helio G88</td>\n",
       "    </tr>\n",
       "    <tr>\n",
       "      <th>4</th>\n",
       "      <td>Samsung Galaxy A03s (4GB RAM + 64GB)</td>\n",
       "      <td>4.10</td>\n",
       "      <td>69</td>\n",
       "      <td>Dual Sim, 3G, 4G, VoLTE,</td>\n",
       "      <td>4.0</td>\n",
       "      <td>5000 mAh Battery</td>\n",
       "      <td>6.5 inches</td>\n",
       "      <td>13 MP + 2 MP + 2 MP Triple Rear &amp;amp; 5 MP Fro...</td>\n",
       "      <td>Memory Card Supported, upto 1 TB</td>\n",
       "      <td>11999</td>\n",
       "      <td>Samsung</td>\n",
       "      <td>64 GB inbuilt</td>\n",
       "      <td>15W Fast Charging</td>\n",
       "      <td>720 x 1600 px Display with Water Drop Notch</td>\n",
       "      <td>Octa Core</td>\n",
       "      <td>Helio P35</td>\n",
       "    </tr>\n",
       "  </tbody>\n",
       "</table>\n",
       "</div>"
      ],
      "text/plain": [
       "                                   Name  Rating  Spec_score  \\\n",
       "0                 Samsung Galaxy F14 5G    4.65          68   \n",
       "1                    Samsung Galaxy A11    4.20          63   \n",
       "2                    Samsung Galaxy A13    4.30          75   \n",
       "3                    Samsung Galaxy F23    4.10          73   \n",
       "4  Samsung Galaxy A03s (4GB RAM + 64GB)    4.10          69   \n",
       "\n",
       "                       No_of_sim  Ram            Battery     Display  \\\n",
       "0  Dual Sim, 3G, 4G, 5G, VoLTE,   4.0  6000 mAh Battery   6.6 inches   \n",
       "1      Dual Sim, 3G, 4G, VoLTE,   2.0  4000 mAh Battery   6.4 inches   \n",
       "2      Dual Sim, 3G, 4G, VoLTE,   4.0  5000 mAh Battery   6.6 inches   \n",
       "3      Dual Sim, 3G, 4G, VoLTE,   4.0   6000 mAh Battery  6.4 inches   \n",
       "4      Dual Sim, 3G, 4G, VoLTE,   4.0  5000 mAh Battery   6.5 inches   \n",
       "\n",
       "                                              Camera  \\\n",
       "0    50 MP + 2 MP Dual Rear &amp; 13 MP Front Camera   \n",
       "1  13 MP + 5 MP + 2 MP Triple Rear &amp; 8 MP Fro...   \n",
       "2            50 MP Quad Rear &amp; 8 MP Front Camera   \n",
       "3           48 MP Quad Rear &amp; 13 MP Front Camera   \n",
       "4  13 MP + 2 MP + 2 MP Triple Rear &amp; 5 MP Fro...   \n",
       "\n",
       "                      External_Memory  Price  company   Inbuilt_memory  \\\n",
       "0    Memory Card Supported, upto 1 TB   9999  Samsung   128 GB inbuilt   \n",
       "1  Memory Card Supported, upto 512 GB   9990  Samsung    32 GB inbuilt   \n",
       "2    Memory Card Supported, upto 1 TB  11999  Samsung    64 GB inbuilt   \n",
       "3    Memory Card Supported, upto 1 TB  11999  Samsung    64 GB inbuilt   \n",
       "4    Memory Card Supported, upto 1 TB  11999  Samsung    64 GB inbuilt   \n",
       "\n",
       "        fast_charging                              Screen_resolution  \\\n",
       "0   25W Fast Charging   2408 x 1080 px Display with Water Drop Notch   \n",
       "1   15W Fast Charging          720 x 1560 px Display with Punch Hole   \n",
       "2   25W Fast Charging   1080 x 2408 px Display with Water Drop Notch   \n",
       "3       Fast Charging                                  720 x 1600 px   \n",
       "4   15W Fast Charging    720 x 1600 px Display with Water Drop Notch   \n",
       "\n",
       "              Processor Processor_name  \n",
       "0   Octa Core Processor    Exynos 1330  \n",
       "1     1.8 GHz Processor      Octa Core  \n",
       "2       2 GHz Processor      Octa Core  \n",
       "3             Octa Core      Helio G88  \n",
       "4             Octa Core      Helio P35  "
      ]
     },
     "execution_count": 291,
     "metadata": {},
     "output_type": "execute_result"
    }
   ],
   "source": [
    "df.head()"
   ]
  },
  {
   "cell_type": "code",
   "execution_count": 292,
   "id": "70385f2f-b147-4b8f-b9eb-07ff77cdd4af",
   "metadata": {},
   "outputs": [
    {
     "data": {
      "text/plain": [
       "Battery\n",
       "5000 mAh Battery     693\n",
       "4500 mAh Battery     116\n",
       "6000 mAh Battery     102\n",
       "5000 mAh Battery      59\n",
       "4000 mAh Battery      36\n",
       "                    ... \n",
       "4821 mAh Battery       1\n",
       "4730 mAh Battery       1\n",
       "5700 mAh Battery       1\n",
       "3760 mAh Battery       1\n",
       "4500 mAh Battery       1\n",
       "Name: count, Length: 89, dtype: int64"
      ]
     },
     "execution_count": 292,
     "metadata": {},
     "output_type": "execute_result"
    }
   ],
   "source": [
    "df['Battery'].value_counts()\n"
   ]
  },
  {
   "cell_type": "code",
   "execution_count": 293,
   "id": "128809f4-3c7b-4ad2-90ff-aa49401ca440",
   "metadata": {},
   "outputs": [],
   "source": [
    "df.loc[df['Battery']=='6.75 inches, 720 x 1600 px Display ', 'Battery']='5000 mAh Battery'"
   ]
  },
  {
   "cell_type": "code",
   "execution_count": 294,
   "id": "c4838a91-bb38-4cdf-9630-800919167460",
   "metadata": {},
   "outputs": [],
   "source": [
    "df['Battery']=df['Battery'].apply(lambda x:x.split()[0]).astype(int)"
   ]
  },
  {
   "cell_type": "code",
   "execution_count": 295,
   "id": "09bf1992-b4ce-42fe-bb82-c2987b4e164e",
   "metadata": {},
   "outputs": [
    {
     "data": {
      "text/html": [
       "<div>\n",
       "<style scoped>\n",
       "    .dataframe tbody tr th:only-of-type {\n",
       "        vertical-align: middle;\n",
       "    }\n",
       "\n",
       "    .dataframe tbody tr th {\n",
       "        vertical-align: top;\n",
       "    }\n",
       "\n",
       "    .dataframe thead th {\n",
       "        text-align: right;\n",
       "    }\n",
       "</style>\n",
       "<table border=\"1\" class=\"dataframe\">\n",
       "  <thead>\n",
       "    <tr style=\"text-align: right;\">\n",
       "      <th></th>\n",
       "      <th>Name</th>\n",
       "      <th>Rating</th>\n",
       "      <th>Spec_score</th>\n",
       "      <th>No_of_sim</th>\n",
       "      <th>Ram</th>\n",
       "      <th>Battery</th>\n",
       "      <th>Display</th>\n",
       "      <th>Camera</th>\n",
       "      <th>External_Memory</th>\n",
       "      <th>Price</th>\n",
       "      <th>company</th>\n",
       "      <th>Inbuilt_memory</th>\n",
       "      <th>fast_charging</th>\n",
       "      <th>Screen_resolution</th>\n",
       "      <th>Processor</th>\n",
       "      <th>Processor_name</th>\n",
       "    </tr>\n",
       "  </thead>\n",
       "  <tbody>\n",
       "    <tr>\n",
       "      <th>0</th>\n",
       "      <td>Samsung Galaxy F14 5G</td>\n",
       "      <td>4.65</td>\n",
       "      <td>68</td>\n",
       "      <td>Dual Sim, 3G, 4G, 5G, VoLTE,</td>\n",
       "      <td>4.0</td>\n",
       "      <td>6000</td>\n",
       "      <td>6.6 inches</td>\n",
       "      <td>50 MP + 2 MP Dual Rear &amp;amp; 13 MP Front Camera</td>\n",
       "      <td>Memory Card Supported, upto 1 TB</td>\n",
       "      <td>9999</td>\n",
       "      <td>Samsung</td>\n",
       "      <td>128 GB inbuilt</td>\n",
       "      <td>25W Fast Charging</td>\n",
       "      <td>2408 x 1080 px Display with Water Drop Notch</td>\n",
       "      <td>Octa Core Processor</td>\n",
       "      <td>Exynos 1330</td>\n",
       "    </tr>\n",
       "    <tr>\n",
       "      <th>1</th>\n",
       "      <td>Samsung Galaxy A11</td>\n",
       "      <td>4.20</td>\n",
       "      <td>63</td>\n",
       "      <td>Dual Sim, 3G, 4G, VoLTE,</td>\n",
       "      <td>2.0</td>\n",
       "      <td>4000</td>\n",
       "      <td>6.4 inches</td>\n",
       "      <td>13 MP + 5 MP + 2 MP Triple Rear &amp;amp; 8 MP Fro...</td>\n",
       "      <td>Memory Card Supported, upto 512 GB</td>\n",
       "      <td>9990</td>\n",
       "      <td>Samsung</td>\n",
       "      <td>32 GB inbuilt</td>\n",
       "      <td>15W Fast Charging</td>\n",
       "      <td>720 x 1560 px Display with Punch Hole</td>\n",
       "      <td>1.8 GHz Processor</td>\n",
       "      <td>Octa Core</td>\n",
       "    </tr>\n",
       "    <tr>\n",
       "      <th>2</th>\n",
       "      <td>Samsung Galaxy A13</td>\n",
       "      <td>4.30</td>\n",
       "      <td>75</td>\n",
       "      <td>Dual Sim, 3G, 4G, VoLTE,</td>\n",
       "      <td>4.0</td>\n",
       "      <td>5000</td>\n",
       "      <td>6.6 inches</td>\n",
       "      <td>50 MP Quad Rear &amp;amp; 8 MP Front Camera</td>\n",
       "      <td>Memory Card Supported, upto 1 TB</td>\n",
       "      <td>11999</td>\n",
       "      <td>Samsung</td>\n",
       "      <td>64 GB inbuilt</td>\n",
       "      <td>25W Fast Charging</td>\n",
       "      <td>1080 x 2408 px Display with Water Drop Notch</td>\n",
       "      <td>2 GHz Processor</td>\n",
       "      <td>Octa Core</td>\n",
       "    </tr>\n",
       "    <tr>\n",
       "      <th>3</th>\n",
       "      <td>Samsung Galaxy F23</td>\n",
       "      <td>4.10</td>\n",
       "      <td>73</td>\n",
       "      <td>Dual Sim, 3G, 4G, VoLTE,</td>\n",
       "      <td>4.0</td>\n",
       "      <td>6000</td>\n",
       "      <td>6.4 inches</td>\n",
       "      <td>48 MP Quad Rear &amp;amp; 13 MP Front Camera</td>\n",
       "      <td>Memory Card Supported, upto 1 TB</td>\n",
       "      <td>11999</td>\n",
       "      <td>Samsung</td>\n",
       "      <td>64 GB inbuilt</td>\n",
       "      <td>Fast Charging</td>\n",
       "      <td>720 x 1600 px</td>\n",
       "      <td>Octa Core</td>\n",
       "      <td>Helio G88</td>\n",
       "    </tr>\n",
       "    <tr>\n",
       "      <th>4</th>\n",
       "      <td>Samsung Galaxy A03s (4GB RAM + 64GB)</td>\n",
       "      <td>4.10</td>\n",
       "      <td>69</td>\n",
       "      <td>Dual Sim, 3G, 4G, VoLTE,</td>\n",
       "      <td>4.0</td>\n",
       "      <td>5000</td>\n",
       "      <td>6.5 inches</td>\n",
       "      <td>13 MP + 2 MP + 2 MP Triple Rear &amp;amp; 5 MP Fro...</td>\n",
       "      <td>Memory Card Supported, upto 1 TB</td>\n",
       "      <td>11999</td>\n",
       "      <td>Samsung</td>\n",
       "      <td>64 GB inbuilt</td>\n",
       "      <td>15W Fast Charging</td>\n",
       "      <td>720 x 1600 px Display with Water Drop Notch</td>\n",
       "      <td>Octa Core</td>\n",
       "      <td>Helio P35</td>\n",
       "    </tr>\n",
       "  </tbody>\n",
       "</table>\n",
       "</div>"
      ],
      "text/plain": [
       "                                   Name  Rating  Spec_score  \\\n",
       "0                 Samsung Galaxy F14 5G    4.65          68   \n",
       "1                    Samsung Galaxy A11    4.20          63   \n",
       "2                    Samsung Galaxy A13    4.30          75   \n",
       "3                    Samsung Galaxy F23    4.10          73   \n",
       "4  Samsung Galaxy A03s (4GB RAM + 64GB)    4.10          69   \n",
       "\n",
       "                       No_of_sim  Ram  Battery     Display  \\\n",
       "0  Dual Sim, 3G, 4G, 5G, VoLTE,   4.0     6000  6.6 inches   \n",
       "1      Dual Sim, 3G, 4G, VoLTE,   2.0     4000  6.4 inches   \n",
       "2      Dual Sim, 3G, 4G, VoLTE,   4.0     5000  6.6 inches   \n",
       "3      Dual Sim, 3G, 4G, VoLTE,   4.0     6000  6.4 inches   \n",
       "4      Dual Sim, 3G, 4G, VoLTE,   4.0     5000  6.5 inches   \n",
       "\n",
       "                                              Camera  \\\n",
       "0    50 MP + 2 MP Dual Rear &amp; 13 MP Front Camera   \n",
       "1  13 MP + 5 MP + 2 MP Triple Rear &amp; 8 MP Fro...   \n",
       "2            50 MP Quad Rear &amp; 8 MP Front Camera   \n",
       "3           48 MP Quad Rear &amp; 13 MP Front Camera   \n",
       "4  13 MP + 2 MP + 2 MP Triple Rear &amp; 5 MP Fro...   \n",
       "\n",
       "                      External_Memory  Price  company   Inbuilt_memory  \\\n",
       "0    Memory Card Supported, upto 1 TB   9999  Samsung   128 GB inbuilt   \n",
       "1  Memory Card Supported, upto 512 GB   9990  Samsung    32 GB inbuilt   \n",
       "2    Memory Card Supported, upto 1 TB  11999  Samsung    64 GB inbuilt   \n",
       "3    Memory Card Supported, upto 1 TB  11999  Samsung    64 GB inbuilt   \n",
       "4    Memory Card Supported, upto 1 TB  11999  Samsung    64 GB inbuilt   \n",
       "\n",
       "        fast_charging                              Screen_resolution  \\\n",
       "0   25W Fast Charging   2408 x 1080 px Display with Water Drop Notch   \n",
       "1   15W Fast Charging          720 x 1560 px Display with Punch Hole   \n",
       "2   25W Fast Charging   1080 x 2408 px Display with Water Drop Notch   \n",
       "3       Fast Charging                                  720 x 1600 px   \n",
       "4   15W Fast Charging    720 x 1600 px Display with Water Drop Notch   \n",
       "\n",
       "              Processor Processor_name  \n",
       "0   Octa Core Processor    Exynos 1330  \n",
       "1     1.8 GHz Processor      Octa Core  \n",
       "2       2 GHz Processor      Octa Core  \n",
       "3             Octa Core      Helio G88  \n",
       "4             Octa Core      Helio P35  "
      ]
     },
     "execution_count": 295,
     "metadata": {},
     "output_type": "execute_result"
    }
   ],
   "source": [
    "df.head()"
   ]
  },
  {
   "cell_type": "code",
   "execution_count": 296,
   "id": "bfeafa52-df62-4a22-b1a2-98b32f839285",
   "metadata": {},
   "outputs": [
    {
     "data": {
      "text/plain": [
       "Battery\n",
       "5000    753\n",
       "4500    117\n",
       "6000    105\n",
       "4000     44\n",
       "5500     33\n",
       "       ... \n",
       "4620      1\n",
       "4385      1\n",
       "4410      1\n",
       "4355      1\n",
       "4820      1\n",
       "Name: count, Length: 78, dtype: int64"
      ]
     },
     "execution_count": 296,
     "metadata": {},
     "output_type": "execute_result"
    }
   ],
   "source": [
    "df['Battery'].value_counts()"
   ]
  },
  {
   "cell_type": "code",
   "execution_count": 297,
   "id": "481d23c1-0dd8-497a-b750-8c75c69edd80",
   "metadata": {},
   "outputs": [],
   "source": [
    "df.loc[(df['Battery']>6000) & (df['Battery']<=6500), 'Battery']=6500\n",
    "df.loc[(df['Battery']>5500) & (df['Battery']<=6000), 'Battery']=6000\n",
    "df.loc[(df['Battery']>5000) & (df['Battery']<=5500), 'Battery']=5500\n",
    "df.loc[(df['Battery']>4500) & (df['Battery']<=5000), 'Battery']=5000\n",
    "df.loc[(df['Battery']>4000) & (df['Battery']<=4500), 'Battery']=4500\n",
    "df.loc[(df['Battery']>3500) & (df['Battery']<=4000), 'Battery']=4000\n",
    "df.loc[(df['Battery']>3000) & (df['Battery']<=3500), 'Battery']=3500\n",
    "df.loc[(df['Battery']>2500) & (df['Battery']<=3000), 'Battery']=3000\n",
    "df.loc[(df['Battery']>2000) & (df['Battery']<=2500), 'Battery']=2500\n",
    "df.loc[(df['Battery']>1500) & (df['Battery']<=2000), 'Battery']=2000"
   ]
  },
  {
   "cell_type": "code",
   "execution_count": 298,
   "id": "1ffad1fd-6dc3-4625-8820-25260aef3f9d",
   "metadata": {},
   "outputs": [
    {
     "data": {
      "text/plain": [
       "Battery\n",
       "5000     871\n",
       "4500     195\n",
       "6000     114\n",
       "5500     103\n",
       "4000      54\n",
       "3000      12\n",
       "3500      11\n",
       "7000       5\n",
       "2000       1\n",
       "6          1\n",
       "10500      1\n",
       "6500       1\n",
       "2500       1\n",
       "Name: count, dtype: int64"
      ]
     },
     "execution_count": 298,
     "metadata": {},
     "output_type": "execute_result"
    }
   ],
   "source": [
    "df['Battery'].value_counts()"
   ]
  },
  {
   "cell_type": "code",
   "execution_count": 299,
   "id": "4b410afa-9e00-4704-83ae-754637d3d187",
   "metadata": {},
   "outputs": [],
   "source": [
    "df = df[df['Battery'] != 6]"
   ]
  },
  {
   "cell_type": "code",
   "execution_count": 300,
   "id": "d172da6c-1f6b-422b-9d3b-6a4471f1df9f",
   "metadata": {},
   "outputs": [
    {
     "data": {
      "text/plain": [
       "Battery\n",
       "5000     871\n",
       "4500     195\n",
       "6000     114\n",
       "5500     103\n",
       "4000      54\n",
       "3000      12\n",
       "3500      11\n",
       "7000       5\n",
       "2000       1\n",
       "10500      1\n",
       "6500       1\n",
       "2500       1\n",
       "Name: count, dtype: int64"
      ]
     },
     "execution_count": 300,
     "metadata": {},
     "output_type": "execute_result"
    }
   ],
   "source": [
    "df['Battery'].value_counts()"
   ]
  },
  {
   "cell_type": "code",
   "execution_count": 301,
   "id": "1a85e573-bd3c-48be-9ef0-ec9fad5522b1",
   "metadata": {},
   "outputs": [
    {
     "data": {
      "text/plain": [
       "Index(['6.7 inches', '6.67 inches', '6.78 inches', '6.5 inches', '6.6 inches',\n",
       "       '6.8 inches', '6.74 inches', '6.72 inches', '6.56 inches',\n",
       "       '6.58 inches', '6.4 inches', '6.51 inches', '6.55 inches',\n",
       "       '6.43 inches', '6.53 inches', '6.82 inches', '6.52 inches',\n",
       "       '6.73 inches', '6.62 inches', '6.71 inches', '6.79 inches',\n",
       "       '6.64 inches', '6.75 inches', '6.9 inches', '6.1 inches', '6.44 inches',\n",
       "       '6.2 inches', '6.57 inches', '6.81 inches', '6.59 inches', '7.6 inches',\n",
       "       '6.76 inches', '6.3 inches', '6.45 inches', '8.03 inches',\n",
       "       '6.38 inches', '6 inches', '6.83 inches', '7.92 inches', '5 inches',\n",
       "       '6.92 inches', '8 inches', '6.47 inches', '7.8 inches', '7 inches',\n",
       "       '7.9 inches', '7.2 inches', '6.95 inches', '6.28 inches', '5.7 inches',\n",
       "       '5.9 inches', '7.85 inches', '6.26 inches', '6.09 inches', '7.1 inches',\n",
       "       '6.77 inches', '5.2 inches', '6.68 inches', '8.02 inches',\n",
       "       '6.22 inches', '8.2 inches', '6.35 inches', '7.82 inches',\n",
       "       '7.11 inches', '7.45 inches', '6.21 inches', '6.49 inches',\n",
       "       '7.63 inches',\n",
       "       '48 MP + 5 MP + 2 MP Triple Rear &amp; 8 MP Front Camera',\n",
       "       '6.94 inches', '7.09 inches', '4.5 inches', '6.08 inches', '5.5 inches',\n",
       "       '5.99 inches', '12.1 inches', '5.92 inches', '7.4 inches', '8.3 inches',\n",
       "       '6.03 inches', '6.14 inches', '6.34 inches', '7.56 inches',\n",
       "       '5.6 inches', '6.61 inches', '6.69 inches', '7.71 inches', '10 inches'],\n",
       "      dtype='object', name='Display')"
      ]
     },
     "execution_count": 301,
     "metadata": {},
     "output_type": "execute_result"
    }
   ],
   "source": [
    "df['Display'].value_counts().index"
   ]
  },
  {
   "cell_type": "code",
   "execution_count": 302,
   "id": "f162c91f-2305-465e-9a5b-2a8ef1daec84",
   "metadata": {},
   "outputs": [],
   "source": [
    "dict={'4300 mAh Battery with 30W Fast Charging':'6.5 inches','48 MP + 5 MP + 2 MP Triple Rear &amp; 8 MP Front Camera':'6.5 inches'}\n",
    "df['Display']=df['Display'].replace(dict).str.lstrip().apply(lambda x:x.split()[0]).astype(float)"
   ]
  },
  {
   "cell_type": "code",
   "execution_count": 303,
   "id": "f8c1a65b-3c99-430b-8652-a31bef45bb24",
   "metadata": {},
   "outputs": [
    {
     "data": {
      "text/html": [
       "<div>\n",
       "<style scoped>\n",
       "    .dataframe tbody tr th:only-of-type {\n",
       "        vertical-align: middle;\n",
       "    }\n",
       "\n",
       "    .dataframe tbody tr th {\n",
       "        vertical-align: top;\n",
       "    }\n",
       "\n",
       "    .dataframe thead th {\n",
       "        text-align: right;\n",
       "    }\n",
       "</style>\n",
       "<table border=\"1\" class=\"dataframe\">\n",
       "  <thead>\n",
       "    <tr style=\"text-align: right;\">\n",
       "      <th></th>\n",
       "      <th>Name</th>\n",
       "      <th>Rating</th>\n",
       "      <th>Spec_score</th>\n",
       "      <th>No_of_sim</th>\n",
       "      <th>Ram</th>\n",
       "      <th>Battery</th>\n",
       "      <th>Display</th>\n",
       "      <th>Camera</th>\n",
       "      <th>External_Memory</th>\n",
       "      <th>Price</th>\n",
       "      <th>company</th>\n",
       "      <th>Inbuilt_memory</th>\n",
       "      <th>fast_charging</th>\n",
       "      <th>Screen_resolution</th>\n",
       "      <th>Processor</th>\n",
       "      <th>Processor_name</th>\n",
       "    </tr>\n",
       "  </thead>\n",
       "  <tbody>\n",
       "    <tr>\n",
       "      <th>0</th>\n",
       "      <td>Samsung Galaxy F14 5G</td>\n",
       "      <td>4.65</td>\n",
       "      <td>68</td>\n",
       "      <td>Dual Sim, 3G, 4G, 5G, VoLTE,</td>\n",
       "      <td>4.0</td>\n",
       "      <td>6000</td>\n",
       "      <td>6.6</td>\n",
       "      <td>50 MP + 2 MP Dual Rear &amp;amp; 13 MP Front Camera</td>\n",
       "      <td>Memory Card Supported, upto 1 TB</td>\n",
       "      <td>9999</td>\n",
       "      <td>Samsung</td>\n",
       "      <td>128 GB inbuilt</td>\n",
       "      <td>25W Fast Charging</td>\n",
       "      <td>2408 x 1080 px Display with Water Drop Notch</td>\n",
       "      <td>Octa Core Processor</td>\n",
       "      <td>Exynos 1330</td>\n",
       "    </tr>\n",
       "    <tr>\n",
       "      <th>1</th>\n",
       "      <td>Samsung Galaxy A11</td>\n",
       "      <td>4.20</td>\n",
       "      <td>63</td>\n",
       "      <td>Dual Sim, 3G, 4G, VoLTE,</td>\n",
       "      <td>2.0</td>\n",
       "      <td>4000</td>\n",
       "      <td>6.4</td>\n",
       "      <td>13 MP + 5 MP + 2 MP Triple Rear &amp;amp; 8 MP Fro...</td>\n",
       "      <td>Memory Card Supported, upto 512 GB</td>\n",
       "      <td>9990</td>\n",
       "      <td>Samsung</td>\n",
       "      <td>32 GB inbuilt</td>\n",
       "      <td>15W Fast Charging</td>\n",
       "      <td>720 x 1560 px Display with Punch Hole</td>\n",
       "      <td>1.8 GHz Processor</td>\n",
       "      <td>Octa Core</td>\n",
       "    </tr>\n",
       "    <tr>\n",
       "      <th>2</th>\n",
       "      <td>Samsung Galaxy A13</td>\n",
       "      <td>4.30</td>\n",
       "      <td>75</td>\n",
       "      <td>Dual Sim, 3G, 4G, VoLTE,</td>\n",
       "      <td>4.0</td>\n",
       "      <td>5000</td>\n",
       "      <td>6.6</td>\n",
       "      <td>50 MP Quad Rear &amp;amp; 8 MP Front Camera</td>\n",
       "      <td>Memory Card Supported, upto 1 TB</td>\n",
       "      <td>11999</td>\n",
       "      <td>Samsung</td>\n",
       "      <td>64 GB inbuilt</td>\n",
       "      <td>25W Fast Charging</td>\n",
       "      <td>1080 x 2408 px Display with Water Drop Notch</td>\n",
       "      <td>2 GHz Processor</td>\n",
       "      <td>Octa Core</td>\n",
       "    </tr>\n",
       "    <tr>\n",
       "      <th>3</th>\n",
       "      <td>Samsung Galaxy F23</td>\n",
       "      <td>4.10</td>\n",
       "      <td>73</td>\n",
       "      <td>Dual Sim, 3G, 4G, VoLTE,</td>\n",
       "      <td>4.0</td>\n",
       "      <td>6000</td>\n",
       "      <td>6.4</td>\n",
       "      <td>48 MP Quad Rear &amp;amp; 13 MP Front Camera</td>\n",
       "      <td>Memory Card Supported, upto 1 TB</td>\n",
       "      <td>11999</td>\n",
       "      <td>Samsung</td>\n",
       "      <td>64 GB inbuilt</td>\n",
       "      <td>Fast Charging</td>\n",
       "      <td>720 x 1600 px</td>\n",
       "      <td>Octa Core</td>\n",
       "      <td>Helio G88</td>\n",
       "    </tr>\n",
       "    <tr>\n",
       "      <th>4</th>\n",
       "      <td>Samsung Galaxy A03s (4GB RAM + 64GB)</td>\n",
       "      <td>4.10</td>\n",
       "      <td>69</td>\n",
       "      <td>Dual Sim, 3G, 4G, VoLTE,</td>\n",
       "      <td>4.0</td>\n",
       "      <td>5000</td>\n",
       "      <td>6.5</td>\n",
       "      <td>13 MP + 2 MP + 2 MP Triple Rear &amp;amp; 5 MP Fro...</td>\n",
       "      <td>Memory Card Supported, upto 1 TB</td>\n",
       "      <td>11999</td>\n",
       "      <td>Samsung</td>\n",
       "      <td>64 GB inbuilt</td>\n",
       "      <td>15W Fast Charging</td>\n",
       "      <td>720 x 1600 px Display with Water Drop Notch</td>\n",
       "      <td>Octa Core</td>\n",
       "      <td>Helio P35</td>\n",
       "    </tr>\n",
       "  </tbody>\n",
       "</table>\n",
       "</div>"
      ],
      "text/plain": [
       "                                   Name  Rating  Spec_score  \\\n",
       "0                 Samsung Galaxy F14 5G    4.65          68   \n",
       "1                    Samsung Galaxy A11    4.20          63   \n",
       "2                    Samsung Galaxy A13    4.30          75   \n",
       "3                    Samsung Galaxy F23    4.10          73   \n",
       "4  Samsung Galaxy A03s (4GB RAM + 64GB)    4.10          69   \n",
       "\n",
       "                       No_of_sim  Ram  Battery  Display  \\\n",
       "0  Dual Sim, 3G, 4G, 5G, VoLTE,   4.0     6000      6.6   \n",
       "1      Dual Sim, 3G, 4G, VoLTE,   2.0     4000      6.4   \n",
       "2      Dual Sim, 3G, 4G, VoLTE,   4.0     5000      6.6   \n",
       "3      Dual Sim, 3G, 4G, VoLTE,   4.0     6000      6.4   \n",
       "4      Dual Sim, 3G, 4G, VoLTE,   4.0     5000      6.5   \n",
       "\n",
       "                                              Camera  \\\n",
       "0    50 MP + 2 MP Dual Rear &amp; 13 MP Front Camera   \n",
       "1  13 MP + 5 MP + 2 MP Triple Rear &amp; 8 MP Fro...   \n",
       "2            50 MP Quad Rear &amp; 8 MP Front Camera   \n",
       "3           48 MP Quad Rear &amp; 13 MP Front Camera   \n",
       "4  13 MP + 2 MP + 2 MP Triple Rear &amp; 5 MP Fro...   \n",
       "\n",
       "                      External_Memory  Price  company   Inbuilt_memory  \\\n",
       "0    Memory Card Supported, upto 1 TB   9999  Samsung   128 GB inbuilt   \n",
       "1  Memory Card Supported, upto 512 GB   9990  Samsung    32 GB inbuilt   \n",
       "2    Memory Card Supported, upto 1 TB  11999  Samsung    64 GB inbuilt   \n",
       "3    Memory Card Supported, upto 1 TB  11999  Samsung    64 GB inbuilt   \n",
       "4    Memory Card Supported, upto 1 TB  11999  Samsung    64 GB inbuilt   \n",
       "\n",
       "        fast_charging                              Screen_resolution  \\\n",
       "0   25W Fast Charging   2408 x 1080 px Display with Water Drop Notch   \n",
       "1   15W Fast Charging          720 x 1560 px Display with Punch Hole   \n",
       "2   25W Fast Charging   1080 x 2408 px Display with Water Drop Notch   \n",
       "3       Fast Charging                                  720 x 1600 px   \n",
       "4   15W Fast Charging    720 x 1600 px Display with Water Drop Notch   \n",
       "\n",
       "              Processor Processor_name  \n",
       "0   Octa Core Processor    Exynos 1330  \n",
       "1     1.8 GHz Processor      Octa Core  \n",
       "2       2 GHz Processor      Octa Core  \n",
       "3             Octa Core      Helio G88  \n",
       "4             Octa Core      Helio P35  "
      ]
     },
     "execution_count": 303,
     "metadata": {},
     "output_type": "execute_result"
    }
   ],
   "source": [
    "df.head()"
   ]
  },
  {
   "cell_type": "code",
   "execution_count": 304,
   "id": "83bc0cf7-27dc-4993-98d0-09e9d32f2293",
   "metadata": {},
   "outputs": [
    {
     "data": {
      "text/plain": [
       "fast_charging\n",
       " 18W Fast Charging      157\n",
       " 33W Fast Charging      144\n",
       " 67W Fast Charging      101\n",
       " 25W Fast Charging       97\n",
       "Fast Charging            88\n",
       " 80W Fast Charging       78\n",
       " 100W Fast Charging      70\n",
       " 66W Fast Charging       66\n",
       " 120W Fast Charging      65\n",
       " 15W Fast Charging       61\n",
       " 44W Fast Charging       61\n",
       " 45W Fast Charging       58\n",
       " 65W Fast Charging       50\n",
       " 30W Fast Charging       44\n",
       " 10W Fast Charging       39\n",
       " Fast Charging           39\n",
       " 150W Fast Charging      24\n",
       " 22.5W Fast Charging     20\n",
       " 68W Fast Charging       20\n",
       " 40W Fast Charging       17\n",
       " 35W Fast Charging       14\n",
       " 125W Fast Charging      12\n",
       " 20W Fast Charging       11\n",
       " 200W Fast Charging       7\n",
       " 240W Fast Charging       3\n",
       " 88W Fast Charging        3\n",
       " 55W Fast Charging        3\n",
       " 90W Fast Charging        3\n",
       " 250W Fast Charging       2\n",
       " 27W Fast Charging        2\n",
       " 50W Fast Charging        2\n",
       " 135W Fast Charging       1\n",
       " Water Drop Notch         1\n",
       " 70W Fast Charging        1\n",
       " 60W Fast Charging        1\n",
       " 68.2W Fast Charging      1\n",
       " 08W Fast Charging        1\n",
       " 57W Fast Charging        1\n",
       " 7.5W Fast Charging       1\n",
       "Name: count, dtype: int64"
      ]
     },
     "execution_count": 304,
     "metadata": {},
     "output_type": "execute_result"
    }
   ],
   "source": [
    "df['fast_charging'].value_counts()"
   ]
  },
  {
   "cell_type": "code",
   "execution_count": 305,
   "id": "ac7df22b-1445-40c3-b7cd-ccfd6fc44f9a",
   "metadata": {},
   "outputs": [],
   "source": [
    "dictc={'fastcharging':'18W','Fast Charging':'18W','Water Drop Notch':'18W'}\n",
    "df['fast_charging']=df['fast_charging'].str.lstrip().replace(dictc).apply(lambda x:x.split('W')[0]).astype(float)"
   ]
  },
  {
   "cell_type": "code",
   "execution_count": 306,
   "id": "b6004bda-5a2b-487e-97d8-fd2b17ad15f0",
   "metadata": {},
   "outputs": [
    {
     "data": {
      "text/html": [
       "<div>\n",
       "<style scoped>\n",
       "    .dataframe tbody tr th:only-of-type {\n",
       "        vertical-align: middle;\n",
       "    }\n",
       "\n",
       "    .dataframe tbody tr th {\n",
       "        vertical-align: top;\n",
       "    }\n",
       "\n",
       "    .dataframe thead th {\n",
       "        text-align: right;\n",
       "    }\n",
       "</style>\n",
       "<table border=\"1\" class=\"dataframe\">\n",
       "  <thead>\n",
       "    <tr style=\"text-align: right;\">\n",
       "      <th></th>\n",
       "      <th>Name</th>\n",
       "      <th>Rating</th>\n",
       "      <th>Spec_score</th>\n",
       "      <th>No_of_sim</th>\n",
       "      <th>Ram</th>\n",
       "      <th>Battery</th>\n",
       "      <th>Display</th>\n",
       "      <th>Camera</th>\n",
       "      <th>External_Memory</th>\n",
       "      <th>Price</th>\n",
       "      <th>company</th>\n",
       "      <th>Inbuilt_memory</th>\n",
       "      <th>fast_charging</th>\n",
       "      <th>Screen_resolution</th>\n",
       "      <th>Processor</th>\n",
       "      <th>Processor_name</th>\n",
       "    </tr>\n",
       "  </thead>\n",
       "  <tbody>\n",
       "    <tr>\n",
       "      <th>0</th>\n",
       "      <td>Samsung Galaxy F14 5G</td>\n",
       "      <td>4.65</td>\n",
       "      <td>68</td>\n",
       "      <td>Dual Sim, 3G, 4G, 5G, VoLTE,</td>\n",
       "      <td>4.0</td>\n",
       "      <td>6000</td>\n",
       "      <td>6.6</td>\n",
       "      <td>50 MP + 2 MP Dual Rear &amp;amp; 13 MP Front Camera</td>\n",
       "      <td>Memory Card Supported, upto 1 TB</td>\n",
       "      <td>9999</td>\n",
       "      <td>Samsung</td>\n",
       "      <td>128 GB inbuilt</td>\n",
       "      <td>25.0</td>\n",
       "      <td>2408 x 1080 px Display with Water Drop Notch</td>\n",
       "      <td>Octa Core Processor</td>\n",
       "      <td>Exynos 1330</td>\n",
       "    </tr>\n",
       "    <tr>\n",
       "      <th>1</th>\n",
       "      <td>Samsung Galaxy A11</td>\n",
       "      <td>4.20</td>\n",
       "      <td>63</td>\n",
       "      <td>Dual Sim, 3G, 4G, VoLTE,</td>\n",
       "      <td>2.0</td>\n",
       "      <td>4000</td>\n",
       "      <td>6.4</td>\n",
       "      <td>13 MP + 5 MP + 2 MP Triple Rear &amp;amp; 8 MP Fro...</td>\n",
       "      <td>Memory Card Supported, upto 512 GB</td>\n",
       "      <td>9990</td>\n",
       "      <td>Samsung</td>\n",
       "      <td>32 GB inbuilt</td>\n",
       "      <td>15.0</td>\n",
       "      <td>720 x 1560 px Display with Punch Hole</td>\n",
       "      <td>1.8 GHz Processor</td>\n",
       "      <td>Octa Core</td>\n",
       "    </tr>\n",
       "    <tr>\n",
       "      <th>2</th>\n",
       "      <td>Samsung Galaxy A13</td>\n",
       "      <td>4.30</td>\n",
       "      <td>75</td>\n",
       "      <td>Dual Sim, 3G, 4G, VoLTE,</td>\n",
       "      <td>4.0</td>\n",
       "      <td>5000</td>\n",
       "      <td>6.6</td>\n",
       "      <td>50 MP Quad Rear &amp;amp; 8 MP Front Camera</td>\n",
       "      <td>Memory Card Supported, upto 1 TB</td>\n",
       "      <td>11999</td>\n",
       "      <td>Samsung</td>\n",
       "      <td>64 GB inbuilt</td>\n",
       "      <td>25.0</td>\n",
       "      <td>1080 x 2408 px Display with Water Drop Notch</td>\n",
       "      <td>2 GHz Processor</td>\n",
       "      <td>Octa Core</td>\n",
       "    </tr>\n",
       "    <tr>\n",
       "      <th>3</th>\n",
       "      <td>Samsung Galaxy F23</td>\n",
       "      <td>4.10</td>\n",
       "      <td>73</td>\n",
       "      <td>Dual Sim, 3G, 4G, VoLTE,</td>\n",
       "      <td>4.0</td>\n",
       "      <td>6000</td>\n",
       "      <td>6.4</td>\n",
       "      <td>48 MP Quad Rear &amp;amp; 13 MP Front Camera</td>\n",
       "      <td>Memory Card Supported, upto 1 TB</td>\n",
       "      <td>11999</td>\n",
       "      <td>Samsung</td>\n",
       "      <td>64 GB inbuilt</td>\n",
       "      <td>18.0</td>\n",
       "      <td>720 x 1600 px</td>\n",
       "      <td>Octa Core</td>\n",
       "      <td>Helio G88</td>\n",
       "    </tr>\n",
       "    <tr>\n",
       "      <th>4</th>\n",
       "      <td>Samsung Galaxy A03s (4GB RAM + 64GB)</td>\n",
       "      <td>4.10</td>\n",
       "      <td>69</td>\n",
       "      <td>Dual Sim, 3G, 4G, VoLTE,</td>\n",
       "      <td>4.0</td>\n",
       "      <td>5000</td>\n",
       "      <td>6.5</td>\n",
       "      <td>13 MP + 2 MP + 2 MP Triple Rear &amp;amp; 5 MP Fro...</td>\n",
       "      <td>Memory Card Supported, upto 1 TB</td>\n",
       "      <td>11999</td>\n",
       "      <td>Samsung</td>\n",
       "      <td>64 GB inbuilt</td>\n",
       "      <td>15.0</td>\n",
       "      <td>720 x 1600 px Display with Water Drop Notch</td>\n",
       "      <td>Octa Core</td>\n",
       "      <td>Helio P35</td>\n",
       "    </tr>\n",
       "  </tbody>\n",
       "</table>\n",
       "</div>"
      ],
      "text/plain": [
       "                                   Name  Rating  Spec_score  \\\n",
       "0                 Samsung Galaxy F14 5G    4.65          68   \n",
       "1                    Samsung Galaxy A11    4.20          63   \n",
       "2                    Samsung Galaxy A13    4.30          75   \n",
       "3                    Samsung Galaxy F23    4.10          73   \n",
       "4  Samsung Galaxy A03s (4GB RAM + 64GB)    4.10          69   \n",
       "\n",
       "                       No_of_sim  Ram  Battery  Display  \\\n",
       "0  Dual Sim, 3G, 4G, 5G, VoLTE,   4.0     6000      6.6   \n",
       "1      Dual Sim, 3G, 4G, VoLTE,   2.0     4000      6.4   \n",
       "2      Dual Sim, 3G, 4G, VoLTE,   4.0     5000      6.6   \n",
       "3      Dual Sim, 3G, 4G, VoLTE,   4.0     6000      6.4   \n",
       "4      Dual Sim, 3G, 4G, VoLTE,   4.0     5000      6.5   \n",
       "\n",
       "                                              Camera  \\\n",
       "0    50 MP + 2 MP Dual Rear &amp; 13 MP Front Camera   \n",
       "1  13 MP + 5 MP + 2 MP Triple Rear &amp; 8 MP Fro...   \n",
       "2            50 MP Quad Rear &amp; 8 MP Front Camera   \n",
       "3           48 MP Quad Rear &amp; 13 MP Front Camera   \n",
       "4  13 MP + 2 MP + 2 MP Triple Rear &amp; 5 MP Fro...   \n",
       "\n",
       "                      External_Memory  Price  company   Inbuilt_memory  \\\n",
       "0    Memory Card Supported, upto 1 TB   9999  Samsung   128 GB inbuilt   \n",
       "1  Memory Card Supported, upto 512 GB   9990  Samsung    32 GB inbuilt   \n",
       "2    Memory Card Supported, upto 1 TB  11999  Samsung    64 GB inbuilt   \n",
       "3    Memory Card Supported, upto 1 TB  11999  Samsung    64 GB inbuilt   \n",
       "4    Memory Card Supported, upto 1 TB  11999  Samsung    64 GB inbuilt   \n",
       "\n",
       "   fast_charging                              Screen_resolution  \\\n",
       "0           25.0   2408 x 1080 px Display with Water Drop Notch   \n",
       "1           15.0          720 x 1560 px Display with Punch Hole   \n",
       "2           25.0   1080 x 2408 px Display with Water Drop Notch   \n",
       "3           18.0                                  720 x 1600 px   \n",
       "4           15.0    720 x 1600 px Display with Water Drop Notch   \n",
       "\n",
       "              Processor Processor_name  \n",
       "0   Octa Core Processor    Exynos 1330  \n",
       "1     1.8 GHz Processor      Octa Core  \n",
       "2       2 GHz Processor      Octa Core  \n",
       "3             Octa Core      Helio G88  \n",
       "4             Octa Core      Helio P35  "
      ]
     },
     "execution_count": 306,
     "metadata": {},
     "output_type": "execute_result"
    }
   ],
   "source": [
    "df.head()"
   ]
  },
  {
   "cell_type": "code",
   "execution_count": 307,
   "id": "8b88ee82-013c-407a-b3f0-235eace4e0ea",
   "metadata": {},
   "outputs": [
    {
     "data": {
      "text/plain": [
       "Inbuilt_memory\n",
       " 128 GB inbuilt    644\n",
       " 256 GB inbuilt    405\n",
       " 64 GB inbuilt     184\n",
       " 512 GB inbuilt     59\n",
       " 32 GB inbuilt      48\n",
       "128 GB inbuilt       9\n",
       " 1 TB inbuilt        5\n",
       "64 GB inbuilt        5\n",
       "256 GB inbuilt       5\n",
       " 16 GB inbuilt       3\n",
       " 258 GB inbuilt      1\n",
       " 8 GB inbuilt        1\n",
       "Name: count, dtype: int64"
      ]
     },
     "execution_count": 307,
     "metadata": {},
     "output_type": "execute_result"
    }
   ],
   "source": [
    "df['Inbuilt_memory'].value_counts()"
   ]
  },
  {
   "cell_type": "code",
   "execution_count": 308,
   "id": "9a91fac1-5aff-4f2e-a532-7263e096a57d",
   "metadata": {},
   "outputs": [],
   "source": [
    "df['Inbuilt_memory']=df['Inbuilt_memory'].str.lstrip().replace({'1 TB inbuilt':'1000 GB inbuilt'})\n",
    "df['Inbuilt_memory']=df['Inbuilt_memory'].apply(lambda x:x.split('GB')[0]).astype(int)"
   ]
  },
  {
   "cell_type": "code",
   "execution_count": 309,
   "id": "4baf5067-2a0f-4efd-b0ad-623daa06031b",
   "metadata": {},
   "outputs": [
    {
     "data": {
      "text/plain": [
       "Inbuilt_memory\n",
       "128     653\n",
       "256     410\n",
       "64      189\n",
       "512      59\n",
       "32       48\n",
       "1000      5\n",
       "16        3\n",
       "258       1\n",
       "8         1\n",
       "Name: count, dtype: int64"
      ]
     },
     "execution_count": 309,
     "metadata": {},
     "output_type": "execute_result"
    }
   ],
   "source": [
    "df['Inbuilt_memory'].value_counts()"
   ]
  },
  {
   "cell_type": "code",
   "execution_count": 310,
   "id": "43fa99f3-f030-4731-aca9-6571ce6fe3c1",
   "metadata": {},
   "outputs": [],
   "source": [
    "df['numbers'] = df['Camera'].str.findall(r'\\d+')"
   ]
  },
  {
   "cell_type": "code",
   "execution_count": 311,
   "id": "d5177de2-c1b9-4bcf-8caa-c18ee25452a2",
   "metadata": {},
   "outputs": [],
   "source": [
    "df['rear'] = df['numbers'].apply(lambda x: x[0] if x else None)\n",
    "df['front'] = df['numbers'].apply(lambda x: x[-1] if x else None)\n",
    "df.drop(columns=['numbers'],inplace=True)\n",
    "df.drop(columns=['Camera'],inplace=True)"
   ]
  },
  {
   "cell_type": "code",
   "execution_count": 312,
   "id": "f6b7c8cd-2c3d-4cbd-830a-91b49a0e8c5e",
   "metadata": {},
   "outputs": [
    {
     "data": {
      "text/html": [
       "<div>\n",
       "<style scoped>\n",
       "    .dataframe tbody tr th:only-of-type {\n",
       "        vertical-align: middle;\n",
       "    }\n",
       "\n",
       "    .dataframe tbody tr th {\n",
       "        vertical-align: top;\n",
       "    }\n",
       "\n",
       "    .dataframe thead th {\n",
       "        text-align: right;\n",
       "    }\n",
       "</style>\n",
       "<table border=\"1\" class=\"dataframe\">\n",
       "  <thead>\n",
       "    <tr style=\"text-align: right;\">\n",
       "      <th></th>\n",
       "      <th>Name</th>\n",
       "      <th>Rating</th>\n",
       "      <th>Spec_score</th>\n",
       "      <th>No_of_sim</th>\n",
       "      <th>Ram</th>\n",
       "      <th>Battery</th>\n",
       "      <th>Display</th>\n",
       "      <th>External_Memory</th>\n",
       "      <th>Price</th>\n",
       "      <th>company</th>\n",
       "      <th>Inbuilt_memory</th>\n",
       "      <th>fast_charging</th>\n",
       "      <th>Screen_resolution</th>\n",
       "      <th>Processor</th>\n",
       "      <th>Processor_name</th>\n",
       "      <th>rear</th>\n",
       "      <th>front</th>\n",
       "    </tr>\n",
       "  </thead>\n",
       "  <tbody>\n",
       "    <tr>\n",
       "      <th>0</th>\n",
       "      <td>Samsung Galaxy F14 5G</td>\n",
       "      <td>4.65</td>\n",
       "      <td>68</td>\n",
       "      <td>Dual Sim, 3G, 4G, 5G, VoLTE,</td>\n",
       "      <td>4.0</td>\n",
       "      <td>6000</td>\n",
       "      <td>6.6</td>\n",
       "      <td>Memory Card Supported, upto 1 TB</td>\n",
       "      <td>9999</td>\n",
       "      <td>Samsung</td>\n",
       "      <td>128</td>\n",
       "      <td>25.0</td>\n",
       "      <td>2408 x 1080 px Display with Water Drop Notch</td>\n",
       "      <td>Octa Core Processor</td>\n",
       "      <td>Exynos 1330</td>\n",
       "      <td>50</td>\n",
       "      <td>13</td>\n",
       "    </tr>\n",
       "    <tr>\n",
       "      <th>1</th>\n",
       "      <td>Samsung Galaxy A11</td>\n",
       "      <td>4.20</td>\n",
       "      <td>63</td>\n",
       "      <td>Dual Sim, 3G, 4G, VoLTE,</td>\n",
       "      <td>2.0</td>\n",
       "      <td>4000</td>\n",
       "      <td>6.4</td>\n",
       "      <td>Memory Card Supported, upto 512 GB</td>\n",
       "      <td>9990</td>\n",
       "      <td>Samsung</td>\n",
       "      <td>32</td>\n",
       "      <td>15.0</td>\n",
       "      <td>720 x 1560 px Display with Punch Hole</td>\n",
       "      <td>1.8 GHz Processor</td>\n",
       "      <td>Octa Core</td>\n",
       "      <td>13</td>\n",
       "      <td>8</td>\n",
       "    </tr>\n",
       "    <tr>\n",
       "      <th>2</th>\n",
       "      <td>Samsung Galaxy A13</td>\n",
       "      <td>4.30</td>\n",
       "      <td>75</td>\n",
       "      <td>Dual Sim, 3G, 4G, VoLTE,</td>\n",
       "      <td>4.0</td>\n",
       "      <td>5000</td>\n",
       "      <td>6.6</td>\n",
       "      <td>Memory Card Supported, upto 1 TB</td>\n",
       "      <td>11999</td>\n",
       "      <td>Samsung</td>\n",
       "      <td>64</td>\n",
       "      <td>25.0</td>\n",
       "      <td>1080 x 2408 px Display with Water Drop Notch</td>\n",
       "      <td>2 GHz Processor</td>\n",
       "      <td>Octa Core</td>\n",
       "      <td>50</td>\n",
       "      <td>8</td>\n",
       "    </tr>\n",
       "    <tr>\n",
       "      <th>3</th>\n",
       "      <td>Samsung Galaxy F23</td>\n",
       "      <td>4.10</td>\n",
       "      <td>73</td>\n",
       "      <td>Dual Sim, 3G, 4G, VoLTE,</td>\n",
       "      <td>4.0</td>\n",
       "      <td>6000</td>\n",
       "      <td>6.4</td>\n",
       "      <td>Memory Card Supported, upto 1 TB</td>\n",
       "      <td>11999</td>\n",
       "      <td>Samsung</td>\n",
       "      <td>64</td>\n",
       "      <td>18.0</td>\n",
       "      <td>720 x 1600 px</td>\n",
       "      <td>Octa Core</td>\n",
       "      <td>Helio G88</td>\n",
       "      <td>48</td>\n",
       "      <td>13</td>\n",
       "    </tr>\n",
       "    <tr>\n",
       "      <th>4</th>\n",
       "      <td>Samsung Galaxy A03s (4GB RAM + 64GB)</td>\n",
       "      <td>4.10</td>\n",
       "      <td>69</td>\n",
       "      <td>Dual Sim, 3G, 4G, VoLTE,</td>\n",
       "      <td>4.0</td>\n",
       "      <td>5000</td>\n",
       "      <td>6.5</td>\n",
       "      <td>Memory Card Supported, upto 1 TB</td>\n",
       "      <td>11999</td>\n",
       "      <td>Samsung</td>\n",
       "      <td>64</td>\n",
       "      <td>15.0</td>\n",
       "      <td>720 x 1600 px Display with Water Drop Notch</td>\n",
       "      <td>Octa Core</td>\n",
       "      <td>Helio P35</td>\n",
       "      <td>13</td>\n",
       "      <td>5</td>\n",
       "    </tr>\n",
       "  </tbody>\n",
       "</table>\n",
       "</div>"
      ],
      "text/plain": [
       "                                   Name  Rating  Spec_score  \\\n",
       "0                 Samsung Galaxy F14 5G    4.65          68   \n",
       "1                    Samsung Galaxy A11    4.20          63   \n",
       "2                    Samsung Galaxy A13    4.30          75   \n",
       "3                    Samsung Galaxy F23    4.10          73   \n",
       "4  Samsung Galaxy A03s (4GB RAM + 64GB)    4.10          69   \n",
       "\n",
       "                       No_of_sim  Ram  Battery  Display  \\\n",
       "0  Dual Sim, 3G, 4G, 5G, VoLTE,   4.0     6000      6.6   \n",
       "1      Dual Sim, 3G, 4G, VoLTE,   2.0     4000      6.4   \n",
       "2      Dual Sim, 3G, 4G, VoLTE,   4.0     5000      6.6   \n",
       "3      Dual Sim, 3G, 4G, VoLTE,   4.0     6000      6.4   \n",
       "4      Dual Sim, 3G, 4G, VoLTE,   4.0     5000      6.5   \n",
       "\n",
       "                      External_Memory  Price  company  Inbuilt_memory  \\\n",
       "0    Memory Card Supported, upto 1 TB   9999  Samsung             128   \n",
       "1  Memory Card Supported, upto 512 GB   9990  Samsung              32   \n",
       "2    Memory Card Supported, upto 1 TB  11999  Samsung              64   \n",
       "3    Memory Card Supported, upto 1 TB  11999  Samsung              64   \n",
       "4    Memory Card Supported, upto 1 TB  11999  Samsung              64   \n",
       "\n",
       "   fast_charging                              Screen_resolution  \\\n",
       "0           25.0   2408 x 1080 px Display with Water Drop Notch   \n",
       "1           15.0          720 x 1560 px Display with Punch Hole   \n",
       "2           25.0   1080 x 2408 px Display with Water Drop Notch   \n",
       "3           18.0                                  720 x 1600 px   \n",
       "4           15.0    720 x 1600 px Display with Water Drop Notch   \n",
       "\n",
       "              Processor Processor_name rear front  \n",
       "0   Octa Core Processor    Exynos 1330   50    13  \n",
       "1     1.8 GHz Processor      Octa Core   13     8  \n",
       "2       2 GHz Processor      Octa Core   50     8  \n",
       "3             Octa Core      Helio G88   48    13  \n",
       "4             Octa Core      Helio P35   13     5  "
      ]
     },
     "execution_count": 312,
     "metadata": {},
     "output_type": "execute_result"
    }
   ],
   "source": [
    "df.head()"
   ]
  },
  {
   "cell_type": "code",
   "execution_count": 313,
   "id": "f8dc63d0-def1-44c0-a32e-633fd454083a",
   "metadata": {},
   "outputs": [
    {
     "data": {
      "text/plain": [
       "79"
      ]
     },
     "execution_count": 313,
     "metadata": {},
     "output_type": "execute_result"
    }
   ],
   "source": [
    "df['rear'].isnull().sum()"
   ]
  },
  {
   "cell_type": "code",
   "execution_count": 314,
   "id": "aa5af516-e93a-408b-8fb4-fecb74d246ff",
   "metadata": {},
   "outputs": [
    {
     "data": {
      "text/plain": [
       "rear\n",
       "50     659\n",
       "64     213\n",
       "13     111\n",
       "108    106\n",
       "48      77\n",
       "200     35\n",
       "8       29\n",
       "16      20\n",
       "12      15\n",
       "100      7\n",
       "54       5\n",
       "160      3\n",
       "40       3\n",
       "180      3\n",
       "5        2\n",
       "24       1\n",
       "25       1\n",
       "Name: count, dtype: int64"
      ]
     },
     "execution_count": 314,
     "metadata": {},
     "output_type": "execute_result"
    }
   ],
   "source": [
    "df['rear'].value_counts()"
   ]
  },
  {
   "cell_type": "code",
   "execution_count": 315,
   "id": "19b2a9a6-0907-4594-b12f-34ea12ddbe39",
   "metadata": {},
   "outputs": [],
   "source": [
    "df['rear'].fillna(value=50,inplace=True)"
   ]
  },
  {
   "cell_type": "code",
   "execution_count": 316,
   "id": "48f7728d-2a26-4481-9ad3-727bce7b399e",
   "metadata": {},
   "outputs": [
    {
     "data": {
      "text/plain": [
       "0"
      ]
     },
     "execution_count": 316,
     "metadata": {},
     "output_type": "execute_result"
    }
   ],
   "source": [
    "df['rear'].isnull().sum()"
   ]
  },
  {
   "cell_type": "code",
   "execution_count": 317,
   "id": "0619f664-18bf-408c-a557-3a534b06251c",
   "metadata": {},
   "outputs": [
    {
     "data": {
      "text/plain": [
       "79"
      ]
     },
     "execution_count": 317,
     "metadata": {},
     "output_type": "execute_result"
    }
   ],
   "source": [
    "df['front'].isnull().sum()"
   ]
  },
  {
   "cell_type": "code",
   "execution_count": 318,
   "id": "197b56b2-235d-42b4-a6ea-f553f3c288c0",
   "metadata": {},
   "outputs": [
    {
     "data": {
      "text/plain": [
       "front\n",
       "16    359\n",
       "8     300\n",
       "32    238\n",
       "5     128\n",
       "13     96\n",
       "50     67\n",
       "12     27\n",
       "60     23\n",
       "20     16\n",
       "10     10\n",
       "2       9\n",
       "24      5\n",
       "40      5\n",
       "44      3\n",
       "25      2\n",
       "3       2\n",
       "Name: count, dtype: int64"
      ]
     },
     "execution_count": 318,
     "metadata": {},
     "output_type": "execute_result"
    }
   ],
   "source": [
    "df['front'].value_counts()"
   ]
  },
  {
   "cell_type": "code",
   "execution_count": 319,
   "id": "4fa0325c-b3b7-456c-9897-f1cf9ad776cf",
   "metadata": {},
   "outputs": [],
   "source": [
    "df['front'].fillna(value=16,inplace=True)"
   ]
  },
  {
   "cell_type": "code",
   "execution_count": 320,
   "id": "a3aacfd9-0280-465e-8227-4e47f954f317",
   "metadata": {},
   "outputs": [
    {
     "data": {
      "text/plain": [
       "0"
      ]
     },
     "execution_count": 320,
     "metadata": {},
     "output_type": "execute_result"
    }
   ],
   "source": [
    "df['front'].isnull().sum()"
   ]
  },
  {
   "cell_type": "code",
   "execution_count": 321,
   "id": "a72c9be2-c875-4f46-ac0d-36ed0cf5e068",
   "metadata": {},
   "outputs": [],
   "source": [
    "df.drop(columns=['Name','Rating','Spec_score'],inplace=True)"
   ]
  },
  {
   "cell_type": "code",
   "execution_count": 322,
   "id": "40b670a8-6d39-4c46-88fb-4ac41e1d4281",
   "metadata": {},
   "outputs": [
    {
     "data": {
      "text/html": [
       "<div>\n",
       "<style scoped>\n",
       "    .dataframe tbody tr th:only-of-type {\n",
       "        vertical-align: middle;\n",
       "    }\n",
       "\n",
       "    .dataframe tbody tr th {\n",
       "        vertical-align: top;\n",
       "    }\n",
       "\n",
       "    .dataframe thead th {\n",
       "        text-align: right;\n",
       "    }\n",
       "</style>\n",
       "<table border=\"1\" class=\"dataframe\">\n",
       "  <thead>\n",
       "    <tr style=\"text-align: right;\">\n",
       "      <th></th>\n",
       "      <th>No_of_sim</th>\n",
       "      <th>Ram</th>\n",
       "      <th>Battery</th>\n",
       "      <th>Display</th>\n",
       "      <th>External_Memory</th>\n",
       "      <th>Price</th>\n",
       "      <th>company</th>\n",
       "      <th>Inbuilt_memory</th>\n",
       "      <th>fast_charging</th>\n",
       "      <th>Screen_resolution</th>\n",
       "      <th>Processor</th>\n",
       "      <th>Processor_name</th>\n",
       "      <th>rear</th>\n",
       "      <th>front</th>\n",
       "    </tr>\n",
       "  </thead>\n",
       "  <tbody>\n",
       "    <tr>\n",
       "      <th>0</th>\n",
       "      <td>Dual Sim, 3G, 4G, 5G, VoLTE,</td>\n",
       "      <td>4.0</td>\n",
       "      <td>6000</td>\n",
       "      <td>6.6</td>\n",
       "      <td>Memory Card Supported, upto 1 TB</td>\n",
       "      <td>9999</td>\n",
       "      <td>Samsung</td>\n",
       "      <td>128</td>\n",
       "      <td>25.0</td>\n",
       "      <td>2408 x 1080 px Display with Water Drop Notch</td>\n",
       "      <td>Octa Core Processor</td>\n",
       "      <td>Exynos 1330</td>\n",
       "      <td>50</td>\n",
       "      <td>13</td>\n",
       "    </tr>\n",
       "    <tr>\n",
       "      <th>1</th>\n",
       "      <td>Dual Sim, 3G, 4G, VoLTE,</td>\n",
       "      <td>2.0</td>\n",
       "      <td>4000</td>\n",
       "      <td>6.4</td>\n",
       "      <td>Memory Card Supported, upto 512 GB</td>\n",
       "      <td>9990</td>\n",
       "      <td>Samsung</td>\n",
       "      <td>32</td>\n",
       "      <td>15.0</td>\n",
       "      <td>720 x 1560 px Display with Punch Hole</td>\n",
       "      <td>1.8 GHz Processor</td>\n",
       "      <td>Octa Core</td>\n",
       "      <td>13</td>\n",
       "      <td>8</td>\n",
       "    </tr>\n",
       "    <tr>\n",
       "      <th>2</th>\n",
       "      <td>Dual Sim, 3G, 4G, VoLTE,</td>\n",
       "      <td>4.0</td>\n",
       "      <td>5000</td>\n",
       "      <td>6.6</td>\n",
       "      <td>Memory Card Supported, upto 1 TB</td>\n",
       "      <td>11999</td>\n",
       "      <td>Samsung</td>\n",
       "      <td>64</td>\n",
       "      <td>25.0</td>\n",
       "      <td>1080 x 2408 px Display with Water Drop Notch</td>\n",
       "      <td>2 GHz Processor</td>\n",
       "      <td>Octa Core</td>\n",
       "      <td>50</td>\n",
       "      <td>8</td>\n",
       "    </tr>\n",
       "    <tr>\n",
       "      <th>3</th>\n",
       "      <td>Dual Sim, 3G, 4G, VoLTE,</td>\n",
       "      <td>4.0</td>\n",
       "      <td>6000</td>\n",
       "      <td>6.4</td>\n",
       "      <td>Memory Card Supported, upto 1 TB</td>\n",
       "      <td>11999</td>\n",
       "      <td>Samsung</td>\n",
       "      <td>64</td>\n",
       "      <td>18.0</td>\n",
       "      <td>720 x 1600 px</td>\n",
       "      <td>Octa Core</td>\n",
       "      <td>Helio G88</td>\n",
       "      <td>48</td>\n",
       "      <td>13</td>\n",
       "    </tr>\n",
       "    <tr>\n",
       "      <th>4</th>\n",
       "      <td>Dual Sim, 3G, 4G, VoLTE,</td>\n",
       "      <td>4.0</td>\n",
       "      <td>5000</td>\n",
       "      <td>6.5</td>\n",
       "      <td>Memory Card Supported, upto 1 TB</td>\n",
       "      <td>11999</td>\n",
       "      <td>Samsung</td>\n",
       "      <td>64</td>\n",
       "      <td>15.0</td>\n",
       "      <td>720 x 1600 px Display with Water Drop Notch</td>\n",
       "      <td>Octa Core</td>\n",
       "      <td>Helio P35</td>\n",
       "      <td>13</td>\n",
       "      <td>5</td>\n",
       "    </tr>\n",
       "  </tbody>\n",
       "</table>\n",
       "</div>"
      ],
      "text/plain": [
       "                       No_of_sim  Ram  Battery  Display  \\\n",
       "0  Dual Sim, 3G, 4G, 5G, VoLTE,   4.0     6000      6.6   \n",
       "1      Dual Sim, 3G, 4G, VoLTE,   2.0     4000      6.4   \n",
       "2      Dual Sim, 3G, 4G, VoLTE,   4.0     5000      6.6   \n",
       "3      Dual Sim, 3G, 4G, VoLTE,   4.0     6000      6.4   \n",
       "4      Dual Sim, 3G, 4G, VoLTE,   4.0     5000      6.5   \n",
       "\n",
       "                      External_Memory  Price  company  Inbuilt_memory  \\\n",
       "0    Memory Card Supported, upto 1 TB   9999  Samsung             128   \n",
       "1  Memory Card Supported, upto 512 GB   9990  Samsung              32   \n",
       "2    Memory Card Supported, upto 1 TB  11999  Samsung              64   \n",
       "3    Memory Card Supported, upto 1 TB  11999  Samsung              64   \n",
       "4    Memory Card Supported, upto 1 TB  11999  Samsung              64   \n",
       "\n",
       "   fast_charging                              Screen_resolution  \\\n",
       "0           25.0   2408 x 1080 px Display with Water Drop Notch   \n",
       "1           15.0          720 x 1560 px Display with Punch Hole   \n",
       "2           25.0   1080 x 2408 px Display with Water Drop Notch   \n",
       "3           18.0                                  720 x 1600 px   \n",
       "4           15.0    720 x 1600 px Display with Water Drop Notch   \n",
       "\n",
       "              Processor Processor_name rear front  \n",
       "0   Octa Core Processor    Exynos 1330   50    13  \n",
       "1     1.8 GHz Processor      Octa Core   13     8  \n",
       "2       2 GHz Processor      Octa Core   50     8  \n",
       "3             Octa Core      Helio G88   48    13  \n",
       "4             Octa Core      Helio P35   13     5  "
      ]
     },
     "execution_count": 322,
     "metadata": {},
     "output_type": "execute_result"
    }
   ],
   "source": [
    "df.head()"
   ]
  },
  {
   "cell_type": "code",
   "execution_count": 323,
   "id": "ca2e3169-f5b3-4e39-a6ee-0f35c3e66ce2",
   "metadata": {},
   "outputs": [],
   "source": [
    "df['Screen_resolution'] = df['Screen_resolution'].str.extract(r'(\\d{3,4} x \\d{3,4})')"
   ]
  },
  {
   "cell_type": "code",
   "execution_count": 324,
   "id": "5079437e-7e80-4976-9181-897df58e4fa7",
   "metadata": {},
   "outputs": [
    {
     "data": {
      "text/html": [
       "<div>\n",
       "<style scoped>\n",
       "    .dataframe tbody tr th:only-of-type {\n",
       "        vertical-align: middle;\n",
       "    }\n",
       "\n",
       "    .dataframe tbody tr th {\n",
       "        vertical-align: top;\n",
       "    }\n",
       "\n",
       "    .dataframe thead th {\n",
       "        text-align: right;\n",
       "    }\n",
       "</style>\n",
       "<table border=\"1\" class=\"dataframe\">\n",
       "  <thead>\n",
       "    <tr style=\"text-align: right;\">\n",
       "      <th></th>\n",
       "      <th>No_of_sim</th>\n",
       "      <th>Ram</th>\n",
       "      <th>Battery</th>\n",
       "      <th>Display</th>\n",
       "      <th>External_Memory</th>\n",
       "      <th>Price</th>\n",
       "      <th>company</th>\n",
       "      <th>Inbuilt_memory</th>\n",
       "      <th>fast_charging</th>\n",
       "      <th>Screen_resolution</th>\n",
       "      <th>Processor</th>\n",
       "      <th>Processor_name</th>\n",
       "      <th>rear</th>\n",
       "      <th>front</th>\n",
       "    </tr>\n",
       "  </thead>\n",
       "  <tbody>\n",
       "    <tr>\n",
       "      <th>0</th>\n",
       "      <td>Dual Sim, 3G, 4G, 5G, VoLTE,</td>\n",
       "      <td>4.0</td>\n",
       "      <td>6000</td>\n",
       "      <td>6.6</td>\n",
       "      <td>Memory Card Supported, upto 1 TB</td>\n",
       "      <td>9999</td>\n",
       "      <td>Samsung</td>\n",
       "      <td>128</td>\n",
       "      <td>25.0</td>\n",
       "      <td>2408 x 1080</td>\n",
       "      <td>Octa Core Processor</td>\n",
       "      <td>Exynos 1330</td>\n",
       "      <td>50</td>\n",
       "      <td>13</td>\n",
       "    </tr>\n",
       "    <tr>\n",
       "      <th>1</th>\n",
       "      <td>Dual Sim, 3G, 4G, VoLTE,</td>\n",
       "      <td>2.0</td>\n",
       "      <td>4000</td>\n",
       "      <td>6.4</td>\n",
       "      <td>Memory Card Supported, upto 512 GB</td>\n",
       "      <td>9990</td>\n",
       "      <td>Samsung</td>\n",
       "      <td>32</td>\n",
       "      <td>15.0</td>\n",
       "      <td>720 x 1560</td>\n",
       "      <td>1.8 GHz Processor</td>\n",
       "      <td>Octa Core</td>\n",
       "      <td>13</td>\n",
       "      <td>8</td>\n",
       "    </tr>\n",
       "    <tr>\n",
       "      <th>2</th>\n",
       "      <td>Dual Sim, 3G, 4G, VoLTE,</td>\n",
       "      <td>4.0</td>\n",
       "      <td>5000</td>\n",
       "      <td>6.6</td>\n",
       "      <td>Memory Card Supported, upto 1 TB</td>\n",
       "      <td>11999</td>\n",
       "      <td>Samsung</td>\n",
       "      <td>64</td>\n",
       "      <td>25.0</td>\n",
       "      <td>1080 x 2408</td>\n",
       "      <td>2 GHz Processor</td>\n",
       "      <td>Octa Core</td>\n",
       "      <td>50</td>\n",
       "      <td>8</td>\n",
       "    </tr>\n",
       "    <tr>\n",
       "      <th>3</th>\n",
       "      <td>Dual Sim, 3G, 4G, VoLTE,</td>\n",
       "      <td>4.0</td>\n",
       "      <td>6000</td>\n",
       "      <td>6.4</td>\n",
       "      <td>Memory Card Supported, upto 1 TB</td>\n",
       "      <td>11999</td>\n",
       "      <td>Samsung</td>\n",
       "      <td>64</td>\n",
       "      <td>18.0</td>\n",
       "      <td>720 x 1600</td>\n",
       "      <td>Octa Core</td>\n",
       "      <td>Helio G88</td>\n",
       "      <td>48</td>\n",
       "      <td>13</td>\n",
       "    </tr>\n",
       "    <tr>\n",
       "      <th>4</th>\n",
       "      <td>Dual Sim, 3G, 4G, VoLTE,</td>\n",
       "      <td>4.0</td>\n",
       "      <td>5000</td>\n",
       "      <td>6.5</td>\n",
       "      <td>Memory Card Supported, upto 1 TB</td>\n",
       "      <td>11999</td>\n",
       "      <td>Samsung</td>\n",
       "      <td>64</td>\n",
       "      <td>15.0</td>\n",
       "      <td>720 x 1600</td>\n",
       "      <td>Octa Core</td>\n",
       "      <td>Helio P35</td>\n",
       "      <td>13</td>\n",
       "      <td>5</td>\n",
       "    </tr>\n",
       "  </tbody>\n",
       "</table>\n",
       "</div>"
      ],
      "text/plain": [
       "                       No_of_sim  Ram  Battery  Display  \\\n",
       "0  Dual Sim, 3G, 4G, 5G, VoLTE,   4.0     6000      6.6   \n",
       "1      Dual Sim, 3G, 4G, VoLTE,   2.0     4000      6.4   \n",
       "2      Dual Sim, 3G, 4G, VoLTE,   4.0     5000      6.6   \n",
       "3      Dual Sim, 3G, 4G, VoLTE,   4.0     6000      6.4   \n",
       "4      Dual Sim, 3G, 4G, VoLTE,   4.0     5000      6.5   \n",
       "\n",
       "                      External_Memory  Price  company  Inbuilt_memory  \\\n",
       "0    Memory Card Supported, upto 1 TB   9999  Samsung             128   \n",
       "1  Memory Card Supported, upto 512 GB   9990  Samsung              32   \n",
       "2    Memory Card Supported, upto 1 TB  11999  Samsung              64   \n",
       "3    Memory Card Supported, upto 1 TB  11999  Samsung              64   \n",
       "4    Memory Card Supported, upto 1 TB  11999  Samsung              64   \n",
       "\n",
       "   fast_charging Screen_resolution             Processor Processor_name rear  \\\n",
       "0           25.0       2408 x 1080   Octa Core Processor    Exynos 1330   50   \n",
       "1           15.0        720 x 1560     1.8 GHz Processor      Octa Core   13   \n",
       "2           25.0       1080 x 2408       2 GHz Processor      Octa Core   50   \n",
       "3           18.0        720 x 1600             Octa Core      Helio G88   48   \n",
       "4           15.0        720 x 1600             Octa Core      Helio P35   13   \n",
       "\n",
       "  front  \n",
       "0    13  \n",
       "1     8  \n",
       "2     8  \n",
       "3    13  \n",
       "4     5  "
      ]
     },
     "execution_count": 324,
     "metadata": {},
     "output_type": "execute_result"
    }
   ],
   "source": [
    "df.head()"
   ]
  },
  {
   "cell_type": "code",
   "execution_count": 325,
   "id": "98153c50-6047-427d-a131-6525afe21237",
   "metadata": {},
   "outputs": [
    {
     "data": {
      "text/plain": [
       "Index(['1080 x 2400', '720 x 1600', '1080 x 2412', '1080 x 2340',\n",
       "       '1080 x 2408', '1080 x 2460', '720 x 1612', '1260 x 2800',\n",
       "       '1080 x 2388', '1600 x 720',\n",
       "       ...\n",
       "       '1080 x 2246', '1768 x 2208', '540 x 960', '2016 x 2348', '1080 x 2256',\n",
       "       '2340 x 1080', '1224 x 2688', '1612 x 720', '1940 x 3120', '480 x 960'],\n",
       "      dtype='object', name='Screen_resolution', length=102)"
      ]
     },
     "execution_count": 325,
     "metadata": {},
     "output_type": "execute_result"
    }
   ],
   "source": [
    "df['Screen_resolution'].value_counts().index"
   ]
  },
  {
   "cell_type": "code",
   "execution_count": 326,
   "id": "7f538aaa-2208-4957-9223-321036d19bca",
   "metadata": {},
   "outputs": [
    {
     "data": {
      "text/plain": [
       "1"
      ]
     },
     "execution_count": 326,
     "metadata": {},
     "output_type": "execute_result"
    }
   ],
   "source": [
    "df['Screen_resolution'].isnull().sum()"
   ]
  },
  {
   "cell_type": "code",
   "execution_count": 327,
   "id": "05de64cc-e5b2-49ff-828a-57c5e8c8881e",
   "metadata": {},
   "outputs": [],
   "source": [
    "df['Screen_resolution'].fillna(value='1080 x 2400',inplace=True)"
   ]
  },
  {
   "cell_type": "code",
   "execution_count": 328,
   "id": "08867118-81d0-45db-afca-364470564497",
   "metadata": {},
   "outputs": [
    {
     "data": {
      "text/plain": [
       "No_of_sim            0\n",
       "Ram                  0\n",
       "Battery              0\n",
       "Display              0\n",
       "External_Memory      0\n",
       "Price                0\n",
       "company              0\n",
       "Inbuilt_memory       0\n",
       "fast_charging        0\n",
       "Screen_resolution    0\n",
       "Processor            0\n",
       "Processor_name       0\n",
       "rear                 0\n",
       "front                0\n",
       "dtype: int64"
      ]
     },
     "execution_count": 328,
     "metadata": {},
     "output_type": "execute_result"
    }
   ],
   "source": [
    "df.isnull().sum()"
   ]
  },
  {
   "cell_type": "code",
   "execution_count": 335,
   "id": "80744875-5f8a-4e85-b306-3aee132fbbfa",
   "metadata": {},
   "outputs": [],
   "source": [
    "df['Screen_resolution']=df['Screen_resolution'].apply(lambda x: '1080 x 2400' if '1080' in x else x)\n",
    "df['Screen_resolution']=df['Screen_resolution'].apply(lambda x: '720 x 1600' if '720' in x else x)\n"
   ]
  },
  {
   "cell_type": "code",
   "execution_count": 337,
   "id": "aa8239c5-d006-4840-9171-96d2e1110051",
   "metadata": {},
   "outputs": [
    {
     "data": {
      "text/plain": [
       "Screen_resolution\n",
       "1080 x 2400    771\n",
       "720 x 1600     294\n",
       "1260 x 2800     44\n",
       "1240 x 2772     26\n",
       "1440 x 3200     25\n",
       "              ... \n",
       "1864 x 3820      1\n",
       "2016 x 2348      1\n",
       "1800 x 3400      1\n",
       "1264 x 2800      1\n",
       "480 x 960        1\n",
       "Name: count, Length: 67, dtype: int64"
      ]
     },
     "execution_count": 337,
     "metadata": {},
     "output_type": "execute_result"
    }
   ],
   "source": [
    "df['Screen_resolution'].value_counts()"
   ]
  },
  {
   "cell_type": "code",
   "execution_count": 353,
   "id": "f6cdad05-a75f-4632-a995-3ee9faad35e3",
   "metadata": {},
   "outputs": [],
   "source": [
    "df['Screen_resolution'] = df['Screen_resolution'].apply(lambda x: '1440 x 3200' if any(sub in x for sub in ['1440', '13', '15', '16']) else x)\n",
    "df['Screen_resolution']=df['Screen_resolution'].apply(lambda x: '1260 x 2800' if '12' in x else x)\n",
    "df['Screen_resolution'] = df['Screen_resolution'].apply(lambda x: '1080 x 2400' if any(sub in x for sub in ['10', '11']) else x)\n",
    "df['Screen_resolution'] = df['Screen_resolution'].apply(lambda x: '1800 x 3440' if any(sub in x for sub in ['17', '18', '19']) else x)\n",
    "df['Screen_resolution'] = df['Screen_resolution'].apply(lambda x: '2200 x 2480' if any(sub in x for sub in ['20', '21', '22']) else x)\n",
    "df['Screen_resolution'] = df['Screen_resolution'].apply(lambda x: '480 x 960' if any(sub in x for sub in ['480', '960']) else x)"
   ]
  },
  {
   "cell_type": "code",
   "execution_count": 354,
   "id": "01b4c4fb-4f03-4036-9a73-f3615c5d378e",
   "metadata": {},
   "outputs": [
    {
     "data": {
      "text/plain": [
       "Screen_resolution\n",
       "1080 x 2400    775\n",
       "480 x 960      406\n",
       "1260 x 2800    169\n",
       "1800 x 3440     19\n",
       "Name: count, dtype: int64"
      ]
     },
     "execution_count": 354,
     "metadata": {},
     "output_type": "execute_result"
    }
   ],
   "source": [
    "df['Screen_resolution'].value_counts()"
   ]
  },
  {
   "cell_type": "code",
   "execution_count": 355,
   "id": "46e4951a-dc51-4133-a68d-09d819023abb",
   "metadata": {},
   "outputs": [
    {
     "data": {
      "text/plain": [
       "External_Memory\n",
       "Memory Card Supported, upto 1 TB                                               233\n",
       "Memory Card (Hybrid), upto 1 TB                                                161\n",
       "Memory Card Not Supported                                                      142\n",
       "Android v13                                                                    107\n",
       "Android v12                                                                    104\n",
       "                                                                              ... \n",
       "48 MP + 10.8 MP + 10.8 MP Triple Rear &amp; 9.5 MP + 8 MP Dual Front Camera      1\n",
       "50 MP + 10.8 MP + 10.8 MP Triple Rear &amp; 12 MP + 12 MP Dual Front Camera      1\n",
       "Memory Card Supported, upto 32 GB                                                1\n",
       "64 MP + 13 MP + 8 MP Triple Rear &amp; 32 MP Front Camera                        1\n",
       "50 MP + 48 MP + 8 MP Triple Rear &amp; 32 MP Front Camera                        1\n",
       "Name: count, Length: 84, dtype: int64"
      ]
     },
     "execution_count": 355,
     "metadata": {},
     "output_type": "execute_result"
    }
   ],
   "source": [
    "df['External_Memory'].value_counts()"
   ]
  },
  {
   "cell_type": "markdown",
   "id": "70602133-3a2d-4bf0-bb31-57c2334b314c",
   "metadata": {},
   "source": [
    "As External memory contains lots of inconsistant data we will remove this."
   ]
  },
  {
   "cell_type": "code",
   "execution_count": 356,
   "id": "3a8e98ea-75a8-47ce-9f0e-94b405e7d497",
   "metadata": {},
   "outputs": [],
   "source": [
    "df.drop(columns=['External_Memory'],inplace=True)"
   ]
  },
  {
   "cell_type": "code",
   "execution_count": 357,
   "id": "97ad8822-8f0b-4b6c-b459-6546c4e9b8c0",
   "metadata": {},
   "outputs": [
    {
     "data": {
      "text/html": [
       "<div>\n",
       "<style scoped>\n",
       "    .dataframe tbody tr th:only-of-type {\n",
       "        vertical-align: middle;\n",
       "    }\n",
       "\n",
       "    .dataframe tbody tr th {\n",
       "        vertical-align: top;\n",
       "    }\n",
       "\n",
       "    .dataframe thead th {\n",
       "        text-align: right;\n",
       "    }\n",
       "</style>\n",
       "<table border=\"1\" class=\"dataframe\">\n",
       "  <thead>\n",
       "    <tr style=\"text-align: right;\">\n",
       "      <th></th>\n",
       "      <th>No_of_sim</th>\n",
       "      <th>Ram</th>\n",
       "      <th>Battery</th>\n",
       "      <th>Display</th>\n",
       "      <th>Price</th>\n",
       "      <th>company</th>\n",
       "      <th>Inbuilt_memory</th>\n",
       "      <th>fast_charging</th>\n",
       "      <th>Screen_resolution</th>\n",
       "      <th>Processor</th>\n",
       "      <th>Processor_name</th>\n",
       "      <th>rear</th>\n",
       "      <th>front</th>\n",
       "    </tr>\n",
       "  </thead>\n",
       "  <tbody>\n",
       "    <tr>\n",
       "      <th>0</th>\n",
       "      <td>Dual Sim, 3G, 4G, 5G, VoLTE,</td>\n",
       "      <td>4.0</td>\n",
       "      <td>6000</td>\n",
       "      <td>6.6</td>\n",
       "      <td>9999</td>\n",
       "      <td>Samsung</td>\n",
       "      <td>128</td>\n",
       "      <td>25.0</td>\n",
       "      <td>1080 x 2400</td>\n",
       "      <td>Octa Core Processor</td>\n",
       "      <td>Exynos 1330</td>\n",
       "      <td>50</td>\n",
       "      <td>13</td>\n",
       "    </tr>\n",
       "    <tr>\n",
       "      <th>1</th>\n",
       "      <td>Dual Sim, 3G, 4G, VoLTE,</td>\n",
       "      <td>2.0</td>\n",
       "      <td>4000</td>\n",
       "      <td>6.4</td>\n",
       "      <td>9990</td>\n",
       "      <td>Samsung</td>\n",
       "      <td>32</td>\n",
       "      <td>15.0</td>\n",
       "      <td>480 x 960</td>\n",
       "      <td>1.8 GHz Processor</td>\n",
       "      <td>Octa Core</td>\n",
       "      <td>13</td>\n",
       "      <td>8</td>\n",
       "    </tr>\n",
       "    <tr>\n",
       "      <th>2</th>\n",
       "      <td>Dual Sim, 3G, 4G, VoLTE,</td>\n",
       "      <td>4.0</td>\n",
       "      <td>5000</td>\n",
       "      <td>6.6</td>\n",
       "      <td>11999</td>\n",
       "      <td>Samsung</td>\n",
       "      <td>64</td>\n",
       "      <td>25.0</td>\n",
       "      <td>1080 x 2400</td>\n",
       "      <td>2 GHz Processor</td>\n",
       "      <td>Octa Core</td>\n",
       "      <td>50</td>\n",
       "      <td>8</td>\n",
       "    </tr>\n",
       "    <tr>\n",
       "      <th>3</th>\n",
       "      <td>Dual Sim, 3G, 4G, VoLTE,</td>\n",
       "      <td>4.0</td>\n",
       "      <td>6000</td>\n",
       "      <td>6.4</td>\n",
       "      <td>11999</td>\n",
       "      <td>Samsung</td>\n",
       "      <td>64</td>\n",
       "      <td>18.0</td>\n",
       "      <td>480 x 960</td>\n",
       "      <td>Octa Core</td>\n",
       "      <td>Helio G88</td>\n",
       "      <td>48</td>\n",
       "      <td>13</td>\n",
       "    </tr>\n",
       "    <tr>\n",
       "      <th>4</th>\n",
       "      <td>Dual Sim, 3G, 4G, VoLTE,</td>\n",
       "      <td>4.0</td>\n",
       "      <td>5000</td>\n",
       "      <td>6.5</td>\n",
       "      <td>11999</td>\n",
       "      <td>Samsung</td>\n",
       "      <td>64</td>\n",
       "      <td>15.0</td>\n",
       "      <td>480 x 960</td>\n",
       "      <td>Octa Core</td>\n",
       "      <td>Helio P35</td>\n",
       "      <td>13</td>\n",
       "      <td>5</td>\n",
       "    </tr>\n",
       "  </tbody>\n",
       "</table>\n",
       "</div>"
      ],
      "text/plain": [
       "                       No_of_sim  Ram  Battery  Display  Price  company  \\\n",
       "0  Dual Sim, 3G, 4G, 5G, VoLTE,   4.0     6000      6.6   9999  Samsung   \n",
       "1      Dual Sim, 3G, 4G, VoLTE,   2.0     4000      6.4   9990  Samsung   \n",
       "2      Dual Sim, 3G, 4G, VoLTE,   4.0     5000      6.6  11999  Samsung   \n",
       "3      Dual Sim, 3G, 4G, VoLTE,   4.0     6000      6.4  11999  Samsung   \n",
       "4      Dual Sim, 3G, 4G, VoLTE,   4.0     5000      6.5  11999  Samsung   \n",
       "\n",
       "   Inbuilt_memory  fast_charging Screen_resolution             Processor  \\\n",
       "0             128           25.0       1080 x 2400   Octa Core Processor   \n",
       "1              32           15.0         480 x 960     1.8 GHz Processor   \n",
       "2              64           25.0       1080 x 2400       2 GHz Processor   \n",
       "3              64           18.0         480 x 960             Octa Core   \n",
       "4              64           15.0         480 x 960             Octa Core   \n",
       "\n",
       "  Processor_name rear front  \n",
       "0    Exynos 1330   50    13  \n",
       "1      Octa Core   13     8  \n",
       "2      Octa Core   50     8  \n",
       "3      Helio G88   48    13  \n",
       "4      Helio P35   13     5  "
      ]
     },
     "execution_count": 357,
     "metadata": {},
     "output_type": "execute_result"
    }
   ],
   "source": [
    "df.head()"
   ]
  },
  {
   "cell_type": "code",
   "execution_count": 359,
   "id": "084f6181-5a2f-42c1-9671-a599aed9ab5b",
   "metadata": {},
   "outputs": [
    {
     "data": {
      "text/plain": [
       "Processor\n",
       " Octa Core              1237\n",
       " Octa Core Processor      75\n",
       "Octa Core                 27\n",
       " Quad Core                11\n",
       " 1.6 GHz Processor         3\n",
       " Deca Core                 3\n",
       " 2 GHz Processor           2\n",
       " Nine-Cores                2\n",
       " Nine Core                 2\n",
       " Nine Cores                2\n",
       " 1.8 GHz Processor         1\n",
       " Deca Core Processor       1\n",
       " 1.3 GHz Processor         1\n",
       " 2.3 GHz Processor         1\n",
       " 128 GB inbuilt            1\n",
       "Name: count, dtype: int64"
      ]
     },
     "execution_count": 359,
     "metadata": {},
     "output_type": "execute_result"
    }
   ],
   "source": [
    "df['Processor'].value_counts()"
   ]
  },
  {
   "cell_type": "code",
   "execution_count": 360,
   "id": "bca33dfd-b057-42e0-aac5-d5d5d7526f3e",
   "metadata": {},
   "outputs": [],
   "source": [
    "dictp={'Octa Core Processor':'Octa Core','Nine-Cores':'Nine Core','Nine Cores':'Nine Core','Deca Core Processor':'Deca Core','2.3 GHz Processor':'1.6 GHz Processor',\n",
    "      '2 GHz Processor':'1.6 GHz Processor','1.3 GHz Processor':'1.6 GHz Processor','128 GB inbuilt':'Octa Core','1.8 GHz Processor':'1.6 GHz Processor'}"
   ]
  },
  {
   "cell_type": "code",
   "execution_count": 361,
   "id": "1db3d1d4-362b-41d0-b9b9-a0a6d41cdccf",
   "metadata": {},
   "outputs": [],
   "source": [
    "df['Processor']=df['Processor'].str.lstrip().replace(dictp)"
   ]
  },
  {
   "cell_type": "code",
   "execution_count": 362,
   "id": "e69876d7-5aa8-438e-9500-ba38ce62d3d5",
   "metadata": {},
   "outputs": [
    {
     "data": {
      "text/plain": [
       "Processor\n",
       "Octa Core            1340\n",
       "Quad Core              11\n",
       "1.6 GHz Processor       8\n",
       "Nine Core               6\n",
       "Deca Core               4\n",
       "Name: count, dtype: int64"
      ]
     },
     "execution_count": 362,
     "metadata": {},
     "output_type": "execute_result"
    }
   ],
   "source": [
    "df['Processor'].value_counts()"
   ]
  },
  {
   "cell_type": "code",
   "execution_count": 363,
   "id": "11679693-6549-46ef-b4bd-cad604a8dc4e",
   "metadata": {},
   "outputs": [
    {
     "data": {
      "text/plain": [
       "Processor_name\n",
       "Snapdragon 8+ Gen1    58\n",
       "Snapdragon 8 Gen2     55\n",
       "Snapdragon 8 Gen3     44\n",
       "Snapdragon 695        36\n",
       "Snapdragon 680        34\n",
       "                      ..\n",
       "Exynos 1080            1\n",
       "Dimensity 8000         1\n",
       "Dimensity  1100        1\n",
       "Dimensity 920          1\n",
       "Helio A25              1\n",
       "Name: count, Length: 275, dtype: int64"
      ]
     },
     "execution_count": 363,
     "metadata": {},
     "output_type": "execute_result"
    }
   ],
   "source": [
    "df['Processor_name'].value_counts()"
   ]
  },
  {
   "cell_type": "code",
   "execution_count": 364,
   "id": "e2c632dd-11bf-426c-8b63-d699535297ec",
   "metadata": {},
   "outputs": [],
   "source": [
    "df['Processor_name']=df['Processor_name'].apply(lambda x:x.split()[0]).replace({'Sanpdragon':'Snapdragon','4':'Snapdragon','SC9863A':'Snapdragon','No':'Snapdragon','Quad':'Snapdragon'})"
   ]
  },
  {
   "cell_type": "code",
   "execution_count": 365,
   "id": "ca40768a-83ed-4100-af7d-3366c331a592",
   "metadata": {},
   "outputs": [
    {
     "data": {
      "text/plain": [
       "Processor_name\n",
       "Snapdragon    653\n",
       "Dimensity     316\n",
       "Helio         205\n",
       "Exynos         65\n",
       "Octa           33\n",
       "Unisoc         31\n",
       "Kirin          24\n",
       "Tiger          20\n",
       "Google         10\n",
       "Tensor          9\n",
       "Qualcomm        2\n",
       "Samsung         1\n",
       "Name: count, dtype: int64"
      ]
     },
     "execution_count": 365,
     "metadata": {},
     "output_type": "execute_result"
    }
   ],
   "source": [
    "df['Processor_name'].value_counts()"
   ]
  },
  {
   "cell_type": "code",
   "execution_count": 366,
   "id": "743ca383-22be-4f2f-b1d3-3f6197253469",
   "metadata": {},
   "outputs": [
    {
     "data": {
      "text/html": [
       "<div>\n",
       "<style scoped>\n",
       "    .dataframe tbody tr th:only-of-type {\n",
       "        vertical-align: middle;\n",
       "    }\n",
       "\n",
       "    .dataframe tbody tr th {\n",
       "        vertical-align: top;\n",
       "    }\n",
       "\n",
       "    .dataframe thead th {\n",
       "        text-align: right;\n",
       "    }\n",
       "</style>\n",
       "<table border=\"1\" class=\"dataframe\">\n",
       "  <thead>\n",
       "    <tr style=\"text-align: right;\">\n",
       "      <th></th>\n",
       "      <th>No_of_sim</th>\n",
       "      <th>Ram</th>\n",
       "      <th>Battery</th>\n",
       "      <th>Display</th>\n",
       "      <th>Price</th>\n",
       "      <th>company</th>\n",
       "      <th>Inbuilt_memory</th>\n",
       "      <th>fast_charging</th>\n",
       "      <th>Screen_resolution</th>\n",
       "      <th>Processor</th>\n",
       "      <th>Processor_name</th>\n",
       "      <th>rear</th>\n",
       "      <th>front</th>\n",
       "    </tr>\n",
       "  </thead>\n",
       "  <tbody>\n",
       "    <tr>\n",
       "      <th>0</th>\n",
       "      <td>Dual Sim, 3G, 4G, 5G, VoLTE,</td>\n",
       "      <td>4.0</td>\n",
       "      <td>6000</td>\n",
       "      <td>6.6</td>\n",
       "      <td>9999</td>\n",
       "      <td>Samsung</td>\n",
       "      <td>128</td>\n",
       "      <td>25.0</td>\n",
       "      <td>1080 x 2400</td>\n",
       "      <td>Octa Core</td>\n",
       "      <td>Exynos</td>\n",
       "      <td>50</td>\n",
       "      <td>13</td>\n",
       "    </tr>\n",
       "    <tr>\n",
       "      <th>1</th>\n",
       "      <td>Dual Sim, 3G, 4G, VoLTE,</td>\n",
       "      <td>2.0</td>\n",
       "      <td>4000</td>\n",
       "      <td>6.4</td>\n",
       "      <td>9990</td>\n",
       "      <td>Samsung</td>\n",
       "      <td>32</td>\n",
       "      <td>15.0</td>\n",
       "      <td>480 x 960</td>\n",
       "      <td>1.6 GHz Processor</td>\n",
       "      <td>Octa</td>\n",
       "      <td>13</td>\n",
       "      <td>8</td>\n",
       "    </tr>\n",
       "    <tr>\n",
       "      <th>2</th>\n",
       "      <td>Dual Sim, 3G, 4G, VoLTE,</td>\n",
       "      <td>4.0</td>\n",
       "      <td>5000</td>\n",
       "      <td>6.6</td>\n",
       "      <td>11999</td>\n",
       "      <td>Samsung</td>\n",
       "      <td>64</td>\n",
       "      <td>25.0</td>\n",
       "      <td>1080 x 2400</td>\n",
       "      <td>1.6 GHz Processor</td>\n",
       "      <td>Octa</td>\n",
       "      <td>50</td>\n",
       "      <td>8</td>\n",
       "    </tr>\n",
       "    <tr>\n",
       "      <th>3</th>\n",
       "      <td>Dual Sim, 3G, 4G, VoLTE,</td>\n",
       "      <td>4.0</td>\n",
       "      <td>6000</td>\n",
       "      <td>6.4</td>\n",
       "      <td>11999</td>\n",
       "      <td>Samsung</td>\n",
       "      <td>64</td>\n",
       "      <td>18.0</td>\n",
       "      <td>480 x 960</td>\n",
       "      <td>Octa Core</td>\n",
       "      <td>Helio</td>\n",
       "      <td>48</td>\n",
       "      <td>13</td>\n",
       "    </tr>\n",
       "    <tr>\n",
       "      <th>4</th>\n",
       "      <td>Dual Sim, 3G, 4G, VoLTE,</td>\n",
       "      <td>4.0</td>\n",
       "      <td>5000</td>\n",
       "      <td>6.5</td>\n",
       "      <td>11999</td>\n",
       "      <td>Samsung</td>\n",
       "      <td>64</td>\n",
       "      <td>15.0</td>\n",
       "      <td>480 x 960</td>\n",
       "      <td>Octa Core</td>\n",
       "      <td>Helio</td>\n",
       "      <td>13</td>\n",
       "      <td>5</td>\n",
       "    </tr>\n",
       "  </tbody>\n",
       "</table>\n",
       "</div>"
      ],
      "text/plain": [
       "                       No_of_sim  Ram  Battery  Display  Price  company  \\\n",
       "0  Dual Sim, 3G, 4G, 5G, VoLTE,   4.0     6000      6.6   9999  Samsung   \n",
       "1      Dual Sim, 3G, 4G, VoLTE,   2.0     4000      6.4   9990  Samsung   \n",
       "2      Dual Sim, 3G, 4G, VoLTE,   4.0     5000      6.6  11999  Samsung   \n",
       "3      Dual Sim, 3G, 4G, VoLTE,   4.0     6000      6.4  11999  Samsung   \n",
       "4      Dual Sim, 3G, 4G, VoLTE,   4.0     5000      6.5  11999  Samsung   \n",
       "\n",
       "   Inbuilt_memory  fast_charging Screen_resolution          Processor  \\\n",
       "0             128           25.0       1080 x 2400          Octa Core   \n",
       "1              32           15.0         480 x 960  1.6 GHz Processor   \n",
       "2              64           25.0       1080 x 2400  1.6 GHz Processor   \n",
       "3              64           18.0         480 x 960          Octa Core   \n",
       "4              64           15.0         480 x 960          Octa Core   \n",
       "\n",
       "  Processor_name rear front  \n",
       "0         Exynos   50    13  \n",
       "1           Octa   13     8  \n",
       "2           Octa   50     8  \n",
       "3          Helio   48    13  \n",
       "4          Helio   13     5  "
      ]
     },
     "execution_count": 366,
     "metadata": {},
     "output_type": "execute_result"
    }
   ],
   "source": [
    "df.head()"
   ]
  },
  {
   "cell_type": "code",
   "execution_count": 368,
   "id": "eed18b01-3d68-43aa-9bba-c252dd3170a5",
   "metadata": {},
   "outputs": [],
   "source": [
    "df['no_of_sim']=df['No_of_sim'].apply(lambda x:x.split(',')[0])"
   ]
  },
  {
   "cell_type": "code",
   "execution_count": 369,
   "id": "8221efee-e468-4cc7-8576-45f98bc9c69b",
   "metadata": {},
   "outputs": [],
   "source": [
    "df['Is_5G']=df['No_of_sim'].apply(lambda x:'Yes' if '5G' in x else 'No')"
   ]
  },
  {
   "cell_type": "code",
   "execution_count": 371,
   "id": "d3f14454-0af1-4782-a345-31436d2f9280",
   "metadata": {},
   "outputs": [],
   "source": [
    "df.drop(columns=['No_of_sim'],inplace=True)"
   ]
  },
  {
   "cell_type": "code",
   "execution_count": 372,
   "id": "8ec3b45b-19bb-488a-ac88-897d9a14b5c2",
   "metadata": {},
   "outputs": [
    {
     "data": {
      "text/html": [
       "<div>\n",
       "<style scoped>\n",
       "    .dataframe tbody tr th:only-of-type {\n",
       "        vertical-align: middle;\n",
       "    }\n",
       "\n",
       "    .dataframe tbody tr th {\n",
       "        vertical-align: top;\n",
       "    }\n",
       "\n",
       "    .dataframe thead th {\n",
       "        text-align: right;\n",
       "    }\n",
       "</style>\n",
       "<table border=\"1\" class=\"dataframe\">\n",
       "  <thead>\n",
       "    <tr style=\"text-align: right;\">\n",
       "      <th></th>\n",
       "      <th>Ram</th>\n",
       "      <th>Battery</th>\n",
       "      <th>Display</th>\n",
       "      <th>Price</th>\n",
       "      <th>company</th>\n",
       "      <th>Inbuilt_memory</th>\n",
       "      <th>fast_charging</th>\n",
       "      <th>Screen_resolution</th>\n",
       "      <th>Processor</th>\n",
       "      <th>Processor_name</th>\n",
       "      <th>rear</th>\n",
       "      <th>front</th>\n",
       "      <th>no_of_sim</th>\n",
       "      <th>Is_5G</th>\n",
       "    </tr>\n",
       "  </thead>\n",
       "  <tbody>\n",
       "    <tr>\n",
       "      <th>0</th>\n",
       "      <td>4.0</td>\n",
       "      <td>6000</td>\n",
       "      <td>6.6</td>\n",
       "      <td>9999</td>\n",
       "      <td>Samsung</td>\n",
       "      <td>128</td>\n",
       "      <td>25.0</td>\n",
       "      <td>1080 x 2400</td>\n",
       "      <td>Octa Core</td>\n",
       "      <td>Exynos</td>\n",
       "      <td>50</td>\n",
       "      <td>13</td>\n",
       "      <td>Dual Sim</td>\n",
       "      <td>Yes</td>\n",
       "    </tr>\n",
       "    <tr>\n",
       "      <th>1</th>\n",
       "      <td>2.0</td>\n",
       "      <td>4000</td>\n",
       "      <td>6.4</td>\n",
       "      <td>9990</td>\n",
       "      <td>Samsung</td>\n",
       "      <td>32</td>\n",
       "      <td>15.0</td>\n",
       "      <td>480 x 960</td>\n",
       "      <td>1.6 GHz Processor</td>\n",
       "      <td>Octa</td>\n",
       "      <td>13</td>\n",
       "      <td>8</td>\n",
       "      <td>Dual Sim</td>\n",
       "      <td>No</td>\n",
       "    </tr>\n",
       "    <tr>\n",
       "      <th>2</th>\n",
       "      <td>4.0</td>\n",
       "      <td>5000</td>\n",
       "      <td>6.6</td>\n",
       "      <td>11999</td>\n",
       "      <td>Samsung</td>\n",
       "      <td>64</td>\n",
       "      <td>25.0</td>\n",
       "      <td>1080 x 2400</td>\n",
       "      <td>1.6 GHz Processor</td>\n",
       "      <td>Octa</td>\n",
       "      <td>50</td>\n",
       "      <td>8</td>\n",
       "      <td>Dual Sim</td>\n",
       "      <td>No</td>\n",
       "    </tr>\n",
       "    <tr>\n",
       "      <th>3</th>\n",
       "      <td>4.0</td>\n",
       "      <td>6000</td>\n",
       "      <td>6.4</td>\n",
       "      <td>11999</td>\n",
       "      <td>Samsung</td>\n",
       "      <td>64</td>\n",
       "      <td>18.0</td>\n",
       "      <td>480 x 960</td>\n",
       "      <td>Octa Core</td>\n",
       "      <td>Helio</td>\n",
       "      <td>48</td>\n",
       "      <td>13</td>\n",
       "      <td>Dual Sim</td>\n",
       "      <td>No</td>\n",
       "    </tr>\n",
       "    <tr>\n",
       "      <th>4</th>\n",
       "      <td>4.0</td>\n",
       "      <td>5000</td>\n",
       "      <td>6.5</td>\n",
       "      <td>11999</td>\n",
       "      <td>Samsung</td>\n",
       "      <td>64</td>\n",
       "      <td>15.0</td>\n",
       "      <td>480 x 960</td>\n",
       "      <td>Octa Core</td>\n",
       "      <td>Helio</td>\n",
       "      <td>13</td>\n",
       "      <td>5</td>\n",
       "      <td>Dual Sim</td>\n",
       "      <td>No</td>\n",
       "    </tr>\n",
       "  </tbody>\n",
       "</table>\n",
       "</div>"
      ],
      "text/plain": [
       "   Ram  Battery  Display  Price  company  Inbuilt_memory  fast_charging  \\\n",
       "0  4.0     6000      6.6   9999  Samsung             128           25.0   \n",
       "1  2.0     4000      6.4   9990  Samsung              32           15.0   \n",
       "2  4.0     5000      6.6  11999  Samsung              64           25.0   \n",
       "3  4.0     6000      6.4  11999  Samsung              64           18.0   \n",
       "4  4.0     5000      6.5  11999  Samsung              64           15.0   \n",
       "\n",
       "  Screen_resolution          Processor Processor_name rear front no_of_sim  \\\n",
       "0       1080 x 2400          Octa Core         Exynos   50    13  Dual Sim   \n",
       "1         480 x 960  1.6 GHz Processor           Octa   13     8  Dual Sim   \n",
       "2       1080 x 2400  1.6 GHz Processor           Octa   50     8  Dual Sim   \n",
       "3         480 x 960          Octa Core          Helio   48    13  Dual Sim   \n",
       "4         480 x 960          Octa Core          Helio   13     5  Dual Sim   \n",
       "\n",
       "  Is_5G  \n",
       "0   Yes  \n",
       "1    No  \n",
       "2    No  \n",
       "3    No  \n",
       "4    No  "
      ]
     },
     "execution_count": 372,
     "metadata": {},
     "output_type": "execute_result"
    }
   ],
   "source": [
    "df.head()"
   ]
  },
  {
   "cell_type": "code",
   "execution_count": 373,
   "id": "048252ae-c3c3-4d1b-98b1-2b161cb5c8f3",
   "metadata": {},
   "outputs": [
    {
     "data": {
      "text/plain": [
       "Ram                  0\n",
       "Battery              0\n",
       "Display              0\n",
       "Price                0\n",
       "company              0\n",
       "Inbuilt_memory       0\n",
       "fast_charging        0\n",
       "Screen_resolution    0\n",
       "Processor            0\n",
       "Processor_name       0\n",
       "rear                 0\n",
       "front                0\n",
       "no_of_sim            0\n",
       "Is_5G                0\n",
       "dtype: int64"
      ]
     },
     "execution_count": 373,
     "metadata": {},
     "output_type": "execute_result"
    }
   ],
   "source": [
    "df.isnull().sum()"
   ]
  },
  {
   "cell_type": "code",
   "execution_count": 374,
   "id": "ee31fb27-8b06-4007-841a-002da6b9722b",
   "metadata": {},
   "outputs": [
    {
     "name": "stdout",
     "output_type": "stream",
     "text": [
      "<class 'pandas.core.frame.DataFrame'>\n",
      "Index: 1369 entries, 0 to 1369\n",
      "Data columns (total 14 columns):\n",
      " #   Column             Non-Null Count  Dtype  \n",
      "---  ------             --------------  -----  \n",
      " 0   Ram                1369 non-null   float64\n",
      " 1   Battery            1369 non-null   int32  \n",
      " 2   Display            1369 non-null   float64\n",
      " 3   Price              1369 non-null   int32  \n",
      " 4   company            1369 non-null   object \n",
      " 5   Inbuilt_memory     1369 non-null   int32  \n",
      " 6   fast_charging      1369 non-null   float64\n",
      " 7   Screen_resolution  1369 non-null   object \n",
      " 8   Processor          1369 non-null   object \n",
      " 9   Processor_name     1369 non-null   object \n",
      " 10  rear               1369 non-null   object \n",
      " 11  front              1369 non-null   object \n",
      " 12  no_of_sim          1369 non-null   object \n",
      " 13  Is_5G              1369 non-null   object \n",
      "dtypes: float64(3), int32(3), object(8)\n",
      "memory usage: 144.4+ KB\n"
     ]
    }
   ],
   "source": [
    "df.info()"
   ]
  },
  {
   "cell_type": "code",
   "execution_count": 375,
   "id": "d1eabd88-e647-481f-9a33-6f3decb0c5ab",
   "metadata": {},
   "outputs": [
    {
     "data": {
      "text/html": [
       "<div>\n",
       "<style scoped>\n",
       "    .dataframe tbody tr th:only-of-type {\n",
       "        vertical-align: middle;\n",
       "    }\n",
       "\n",
       "    .dataframe tbody tr th {\n",
       "        vertical-align: top;\n",
       "    }\n",
       "\n",
       "    .dataframe thead th {\n",
       "        text-align: right;\n",
       "    }\n",
       "</style>\n",
       "<table border=\"1\" class=\"dataframe\">\n",
       "  <thead>\n",
       "    <tr style=\"text-align: right;\">\n",
       "      <th></th>\n",
       "      <th>Ram</th>\n",
       "      <th>Battery</th>\n",
       "      <th>Display</th>\n",
       "      <th>Price</th>\n",
       "      <th>Inbuilt_memory</th>\n",
       "      <th>fast_charging</th>\n",
       "    </tr>\n",
       "  </thead>\n",
       "  <tbody>\n",
       "    <tr>\n",
       "      <th>count</th>\n",
       "      <td>1369.000000</td>\n",
       "      <td>1369.000000</td>\n",
       "      <td>1369.000000</td>\n",
       "      <td>1369.000000</td>\n",
       "      <td>1369.000000</td>\n",
       "      <td>1369.000000</td>\n",
       "    </tr>\n",
       "    <tr>\n",
       "      <th>mean</th>\n",
       "      <td>10.881300</td>\n",
       "      <td>4989.043097</td>\n",
       "      <td>6.663696</td>\n",
       "      <td>33450.208912</td>\n",
       "      <td>173.628926</td>\n",
       "      <td>49.538130</td>\n",
       "    </tr>\n",
       "    <tr>\n",
       "      <th>std</th>\n",
       "      <td>31.503782</td>\n",
       "      <td>529.009091</td>\n",
       "      <td>0.332628</td>\n",
       "      <td>30459.111565</td>\n",
       "      <td>113.601500</td>\n",
       "      <td>37.118335</td>\n",
       "    </tr>\n",
       "    <tr>\n",
       "      <th>min</th>\n",
       "      <td>1.000000</td>\n",
       "      <td>2000.000000</td>\n",
       "      <td>4.500000</td>\n",
       "      <td>6950.000000</td>\n",
       "      <td>8.000000</td>\n",
       "      <td>7.500000</td>\n",
       "    </tr>\n",
       "    <tr>\n",
       "      <th>25%</th>\n",
       "      <td>6.000000</td>\n",
       "      <td>5000.000000</td>\n",
       "      <td>6.550000</td>\n",
       "      <td>12990.000000</td>\n",
       "      <td>128.000000</td>\n",
       "      <td>18.000000</td>\n",
       "    </tr>\n",
       "    <tr>\n",
       "      <th>50%</th>\n",
       "      <td>8.000000</td>\n",
       "      <td>5000.000000</td>\n",
       "      <td>6.670000</td>\n",
       "      <td>21999.000000</td>\n",
       "      <td>128.000000</td>\n",
       "      <td>33.000000</td>\n",
       "    </tr>\n",
       "    <tr>\n",
       "      <th>75%</th>\n",
       "      <td>8.000000</td>\n",
       "      <td>5000.000000</td>\n",
       "      <td>6.740000</td>\n",
       "      <td>42990.000000</td>\n",
       "      <td>256.000000</td>\n",
       "      <td>67.000000</td>\n",
       "    </tr>\n",
       "    <tr>\n",
       "      <th>max</th>\n",
       "      <td>512.000000</td>\n",
       "      <td>10500.000000</td>\n",
       "      <td>12.100000</td>\n",
       "      <td>214990.000000</td>\n",
       "      <td>1000.000000</td>\n",
       "      <td>250.000000</td>\n",
       "    </tr>\n",
       "  </tbody>\n",
       "</table>\n",
       "</div>"
      ],
      "text/plain": [
       "               Ram       Battery      Display          Price  Inbuilt_memory  \\\n",
       "count  1369.000000   1369.000000  1369.000000    1369.000000     1369.000000   \n",
       "mean     10.881300   4989.043097     6.663696   33450.208912      173.628926   \n",
       "std      31.503782    529.009091     0.332628   30459.111565      113.601500   \n",
       "min       1.000000   2000.000000     4.500000    6950.000000        8.000000   \n",
       "25%       6.000000   5000.000000     6.550000   12990.000000      128.000000   \n",
       "50%       8.000000   5000.000000     6.670000   21999.000000      128.000000   \n",
       "75%       8.000000   5000.000000     6.740000   42990.000000      256.000000   \n",
       "max     512.000000  10500.000000    12.100000  214990.000000     1000.000000   \n",
       "\n",
       "       fast_charging  \n",
       "count    1369.000000  \n",
       "mean       49.538130  \n",
       "std        37.118335  \n",
       "min         7.500000  \n",
       "25%        18.000000  \n",
       "50%        33.000000  \n",
       "75%        67.000000  \n",
       "max       250.000000  "
      ]
     },
     "execution_count": 375,
     "metadata": {},
     "output_type": "execute_result"
    }
   ],
   "source": [
    "df.describe()"
   ]
  },
  {
   "cell_type": "markdown",
   "id": "429a58f2-8e06-4ea4-b3f0-f43485696283",
   "metadata": {},
   "source": [
    "**EDA**"
   ]
  },
  {
   "cell_type": "code",
   "execution_count": 379,
   "id": "b85102c6-f5bc-425a-bf5a-e6f7d0d86415",
   "metadata": {},
   "outputs": [
    {
     "data": {
      "image/png": "[encoded data removed]",
      "text/plain": [
       "<Figure size 640x480 with 1 Axes>"
      ]
     },
     "metadata": {},
     "output_type": "display_data"
    }
   ],
   "source": [
    "sns.barplot(x=df['company'],y=df['Price'])\n",
    "plt.xticks(rotation='vertical')\n",
    "plt.show()"
   ]
  },
  {
   "cell_type": "code",
   "execution_count": 380,
   "id": "62fab1e2-2eb4-4979-aa81-7dc3f67347a8",
   "metadata": {},
   "outputs": [],
   "source": [
    "df['company']=df['company'].replace({'OPPO':'Oppo','iQOO':'IQOO','POCO':'Poco','itel':'Itel'})"
   ]
  },
  {
   "cell_type": "code",
   "execution_count": 381,
   "id": "50ba10fc-7208-4382-8aff-c8e956cc2830",
   "metadata": {},
   "outputs": [
    {
     "data": {
      "image/png": "[encoded data removed]",
      "text/plain": [
       "<Figure size 640x480 with 1 Axes>"
      ]
     },
     "metadata": {},
     "output_type": "display_data"
    }
   ],
   "source": [
    "sns.barplot(x=df['company'],y=df['Price'])\n",
    "plt.xticks(rotation='vertical')\n",
    "plt.show()"
   ]
  },
  {
   "cell_type": "markdown",
   "id": "8a4688c9-d8f9-4cc6-83fc-6d5414a3d83b",
   "metadata": {},
   "source": [
    "Companies Google and Asus have highest prices"
   ]
  },
  {
   "cell_type": "code",
   "execution_count": 384,
   "id": "b88dfd1b-20c0-4b5e-98d0-19be4c4ac807",
   "metadata": {},
   "outputs": [
    {
     "data": {
      "image/png": "[encoded data removed]",
      "text/plain": [
       "<Figure size 640x480 with 1 Axes>"
      ]
     },
     "metadata": {},
     "output_type": "display_data"
    }
   ],
   "source": [
    "sns.countplot(data=df,x='company')\n",
    "plt.xticks(rotation='vertical')\n",
    "plt.show()"
   ]
  },
  {
   "cell_type": "code",
   "execution_count": 387,
   "id": "7ef318b2-9d04-4602-b604-33cd710061d5",
   "metadata": {},
   "outputs": [
    {
     "data": {
      "image/png": "[encoded data removed]",
      "text/plain": [
       "<Figure size 640x480 with 1 Axes>"
      ]
     },
     "metadata": {},
     "output_type": "display_data"
    }
   ],
   "source": [
    "sns.barplot(x=df['Ram'],y=df['Price'])\n",
    "plt.xticks(rotation='vertical')\n",
    "plt.show()"
   ]
  },
  {
   "cell_type": "markdown",
   "id": "9d73e8f6-2a2f-4b29-bbcf-f8670eae821a",
   "metadata": {},
   "source": [
    "Higher Ram have higher prices"
   ]
  },
  {
   "cell_type": "code",
   "execution_count": 390,
   "id": "e8d18d56-1f58-40d0-b2e4-a70e1e6ad2e6",
   "metadata": {},
   "outputs": [
    {
     "data": {
      "image/png": "[encoded data removed]",
      "text/plain": [
       "<Figure size 640x480 with 1 Axes>"
      ]
     },
     "metadata": {},
     "output_type": "display_data"
    }
   ],
   "source": [
    "sns.countplot(data=df,x='Ram')\n",
    "plt.xticks(rotation='vertical')\n",
    "plt.show()"
   ]
  },
  {
   "cell_type": "markdown",
   "id": "cc0323ab-136e-4de7-bc61-4b102f832335",
   "metadata": {},
   "source": [
    "Mobiles with 8 GB ram are more."
   ]
  },
  {
   "cell_type": "code",
   "execution_count": 391,
   "id": "56ee601c-001e-4ddf-b00c-a1c301bff454",
   "metadata": {},
   "outputs": [
    {
     "data": {
      "text/plain": [
       "<Axes: xlabel='Battery', ylabel='Price'>"
      ]
     },
     "execution_count": 391,
     "metadata": {},
     "output_type": "execute_result"
    },
    {
     "data": {
      "image/png": "[encoded data removed]",
      "text/plain": [
       "<Figure size 640x480 with 1 Axes>"
      ]
     },
     "metadata": {},
     "output_type": "display_data"
    }
   ],
   "source": [
    "sns.scatterplot(x=df['Battery'],y=df['Price'])"
   ]
  },
  {
   "cell_type": "markdown",
   "id": "53b89cdf-e4a8-48dc-aead-950a89a70281",
   "metadata": {},
   "source": [
    "There is a outlier in battery and we have to remave it"
   ]
  },
  {
   "cell_type": "code",
   "execution_count": 392,
   "id": "75987594-ca58-44f2-b986-f0f5069b7db6",
   "metadata": {},
   "outputs": [],
   "source": [
    "df=df[df['Battery']<10000]"
   ]
  },
  {
   "cell_type": "code",
   "execution_count": 394,
   "id": "374f722d-cf91-4f3e-8294-3f3d1469a317",
   "metadata": {},
   "outputs": [
    {
     "data": {
      "text/plain": [
       "<Axes: xlabel='Battery', ylabel='Price'>"
      ]
     },
     "execution_count": 394,
     "metadata": {},
     "output_type": "execute_result"
    },
    {
     "data": {
      "image/png": "[encoded data removed]",
      "text/plain": [
       "<Figure size 640x480 with 1 Axes>"
      ]
     },
     "metadata": {},
     "output_type": "display_data"
    }
   ],
   "source": [
    "sns.scatterplot(x=df['Battery'],y=df['Price'])"
   ]
  },
  {
   "cell_type": "code",
   "execution_count": 396,
   "id": "3460689f-214a-48d0-b406-5ed093f0fbb6",
   "metadata": {},
   "outputs": [
    {
     "data": {
      "text/plain": [
       "<Axes: xlabel='no_of_sim', ylabel='count'>"
      ]
     },
     "execution_count": 396,
     "metadata": {},
     "output_type": "execute_result"
    },
    {
     "data": {
      "image/png": "[encoded data removed]",
      "text/plain": [
       "<Figure size 640x480 with 1 Axes>"
      ]
     },
     "metadata": {},
     "output_type": "display_data"
    }
   ],
   "source": [
    "sns.countplot(data=df,x='no_of_sim',hue='Is_5G')"
   ]
  },
  {
   "cell_type": "markdown",
   "id": "b1fa0a6a-e744-4d62-9fda-8cb3d9580f90",
   "metadata": {},
   "source": [
    "Majority of mobiles are dual sim and are 5G"
   ]
  },
  {
   "cell_type": "code",
   "execution_count": 402,
   "id": "973e8a58-27e0-4f33-85e8-6307b3e3ff3d",
   "metadata": {},
   "outputs": [
    {
     "data": {
      "text/plain": [
       "<Axes: >"
      ]
     },
     "execution_count": 402,
     "metadata": {},
     "output_type": "execute_result"
    },
    {
     "data": {
      "image/png": "[encoded data removed]",
      "text/plain": [
       "<Figure size 1000x500 with 1 Axes>"
      ]
     },
     "metadata": {},
     "output_type": "display_data"
    }
   ],
   "source": [
    "plt.figure(figsize=(10,5))\n",
    "plt.subplot(1,2,2)\n",
    "sns.boxplot(df['Display'])"
   ]
  },
  {
   "cell_type": "code",
   "execution_count": 401,
   "id": "26e3202d-f57e-4de7-954d-555fde6df1ae",
   "metadata": {},
   "outputs": [],
   "source": [
    "df=df[df['Display']<9]"
   ]
  },
  {
   "cell_type": "code",
   "execution_count": 403,
   "id": "9fa9f060-5ed4-40ed-bea0-6e7d2e161412",
   "metadata": {},
   "outputs": [
    {
     "data": {
      "image/png": "[encoded data removed]",
      "text/plain": [
       "<Figure size 640x480 with 1 Axes>"
      ]
     },
     "metadata": {},
     "output_type": "display_data"
    }
   ],
   "source": [
    "sns.barplot(x=df['Inbuilt_memory'],y=df['Price'])\n",
    "plt.xticks(rotation='vertical')\n",
    "plt.show()"
   ]
  },
  {
   "cell_type": "markdown",
   "id": "c4ff3b38-8ddb-4235-ba83-caa7e28319f2",
   "metadata": {},
   "source": [
    "As memory increses prices increases"
   ]
  },
  {
   "cell_type": "code",
   "execution_count": 405,
   "id": "2a3c4977-76c7-4373-bc9a-bee1424c610c",
   "metadata": {},
   "outputs": [
    {
     "data": {
      "image/png": "[encoded data removed]",
      "text/plain": [
       "<Figure size 640x480 with 1 Axes>"
      ]
     },
     "metadata": {},
     "output_type": "display_data"
    }
   ],
   "source": [
    "sns.barplot(x=df['fast_charging'],y=df['Price'])\n",
    "plt.xticks(rotation='vertical')\n",
    "plt.show()"
   ]
  },
  {
   "cell_type": "code",
   "execution_count": 406,
   "id": "2dd3deb1-c6f1-405f-b3d0-ecfce39d5602",
   "metadata": {},
   "outputs": [
    {
     "data": {
      "image/png": "[encoded data removed]",
      "text/plain": [
       "<Figure size 640x480 with 1 Axes>"
      ]
     },
     "metadata": {},
     "output_type": "display_data"
    }
   ],
   "source": [
    "sns.barplot(x=df['Processor'],y=df['Price'])\n",
    "plt.xticks(rotation='vertical')\n",
    "plt.show()"
   ]
  },
  {
   "cell_type": "markdown",
   "id": "f4badf90-515a-4c31-8a2c-d2c57451a5a8",
   "metadata": {},
   "source": [
    "Deca core and Nine core processors have high prices"
   ]
  },
  {
   "cell_type": "code",
   "execution_count": 410,
   "id": "09689248-6296-46b7-9e8d-3674898c7c69",
   "metadata": {},
   "outputs": [
    {
     "data": {
      "image/png": "[encoded data removed]",
      "text/plain": [
       "<Figure size 640x480 with 1 Axes>"
      ]
     },
     "metadata": {},
     "output_type": "display_data"
    }
   ],
   "source": [
    "sns.barplot(x=df['Screen_resolution'],y=df['Price'])\n",
    "plt.xticks(rotation='vertical')\n",
    "plt.show()"
   ]
  },
  {
   "cell_type": "markdown",
   "id": "8f93bfcf-0b57-4f98-bf4a-3f337342b8f8",
   "metadata": {},
   "source": [
    "More the resolution more the prices"
   ]
  },
  {
   "cell_type": "code",
   "execution_count": 415,
   "id": "9349b283-153c-4639-a412-e36e95b9e2c2",
   "metadata": {},
   "outputs": [
    {
     "data": {
      "text/html": [
       "<div>\n",
       "<style scoped>\n",
       "    .dataframe tbody tr th:only-of-type {\n",
       "        vertical-align: middle;\n",
       "    }\n",
       "\n",
       "    .dataframe tbody tr th {\n",
       "        vertical-align: top;\n",
       "    }\n",
       "\n",
       "    .dataframe thead th {\n",
       "        text-align: right;\n",
       "    }\n",
       "</style>\n",
       "<table border=\"1\" class=\"dataframe\">\n",
       "  <thead>\n",
       "    <tr style=\"text-align: right;\">\n",
       "      <th></th>\n",
       "      <th>Ram</th>\n",
       "      <th>Battery</th>\n",
       "      <th>Display</th>\n",
       "      <th>Price</th>\n",
       "      <th>company</th>\n",
       "      <th>Inbuilt_memory</th>\n",
       "      <th>fast_charging</th>\n",
       "      <th>Screen_resolution</th>\n",
       "      <th>Processor</th>\n",
       "      <th>Processor_name</th>\n",
       "      <th>rear</th>\n",
       "      <th>front</th>\n",
       "      <th>no_of_sim</th>\n",
       "      <th>Is_5G</th>\n",
       "    </tr>\n",
       "  </thead>\n",
       "  <tbody>\n",
       "    <tr>\n",
       "      <th>count</th>\n",
       "      <td>1367.000000</td>\n",
       "      <td>1367.000000</td>\n",
       "      <td>1367.000000</td>\n",
       "      <td>1367.000000</td>\n",
       "      <td>1367</td>\n",
       "      <td>1367.000000</td>\n",
       "      <td>1367.000000</td>\n",
       "      <td>1367</td>\n",
       "      <td>1367</td>\n",
       "      <td>1367</td>\n",
       "      <td>1367</td>\n",
       "      <td>1367</td>\n",
       "      <td>1367</td>\n",
       "      <td>1367</td>\n",
       "    </tr>\n",
       "    <tr>\n",
       "      <th>unique</th>\n",
       "      <td>NaN</td>\n",
       "      <td>NaN</td>\n",
       "      <td>NaN</td>\n",
       "      <td>NaN</td>\n",
       "      <td>22</td>\n",
       "      <td>NaN</td>\n",
       "      <td>NaN</td>\n",
       "      <td>4</td>\n",
       "      <td>5</td>\n",
       "      <td>12</td>\n",
       "      <td>18</td>\n",
       "      <td>17</td>\n",
       "      <td>2</td>\n",
       "      <td>2</td>\n",
       "    </tr>\n",
       "    <tr>\n",
       "      <th>top</th>\n",
       "      <td>NaN</td>\n",
       "      <td>NaN</td>\n",
       "      <td>NaN</td>\n",
       "      <td>NaN</td>\n",
       "      <td>Vivo</td>\n",
       "      <td>NaN</td>\n",
       "      <td>NaN</td>\n",
       "      <td>1080 x 2400</td>\n",
       "      <td>Octa Core</td>\n",
       "      <td>Snapdragon</td>\n",
       "      <td>50</td>\n",
       "      <td>16</td>\n",
       "      <td>Dual Sim</td>\n",
       "      <td>Yes</td>\n",
       "    </tr>\n",
       "    <tr>\n",
       "      <th>freq</th>\n",
       "      <td>NaN</td>\n",
       "      <td>NaN</td>\n",
       "      <td>NaN</td>\n",
       "      <td>NaN</td>\n",
       "      <td>186</td>\n",
       "      <td>NaN</td>\n",
       "      <td>NaN</td>\n",
       "      <td>775</td>\n",
       "      <td>1338</td>\n",
       "      <td>651</td>\n",
       "      <td>659</td>\n",
       "      <td>359</td>\n",
       "      <td>1340</td>\n",
       "      <td>929</td>\n",
       "    </tr>\n",
       "    <tr>\n",
       "      <th>mean</th>\n",
       "      <td>10.884053</td>\n",
       "      <td>4985.003658</td>\n",
       "      <td>6.657279</td>\n",
       "      <td>33389.433797</td>\n",
       "      <td>NaN</td>\n",
       "      <td>173.602048</td>\n",
       "      <td>49.537454</td>\n",
       "      <td>NaN</td>\n",
       "      <td>NaN</td>\n",
       "      <td>NaN</td>\n",
       "      <td>NaN</td>\n",
       "      <td>NaN</td>\n",
       "      <td>NaN</td>\n",
       "      <td>NaN</td>\n",
       "    </tr>\n",
       "    <tr>\n",
       "      <th>std</th>\n",
       "      <td>31.526545</td>\n",
       "      <td>507.947507</td>\n",
       "      <td>0.284568</td>\n",
       "      <td>30391.130990</td>\n",
       "      <td>NaN</td>\n",
       "      <td>113.656077</td>\n",
       "      <td>37.139798</td>\n",
       "      <td>NaN</td>\n",
       "      <td>NaN</td>\n",
       "      <td>NaN</td>\n",
       "      <td>NaN</td>\n",
       "      <td>NaN</td>\n",
       "      <td>NaN</td>\n",
       "      <td>NaN</td>\n",
       "    </tr>\n",
       "    <tr>\n",
       "      <th>min</th>\n",
       "      <td>1.000000</td>\n",
       "      <td>2000.000000</td>\n",
       "      <td>4.500000</td>\n",
       "      <td>6950.000000</td>\n",
       "      <td>NaN</td>\n",
       "      <td>8.000000</td>\n",
       "      <td>7.500000</td>\n",
       "      <td>NaN</td>\n",
       "      <td>NaN</td>\n",
       "      <td>NaN</td>\n",
       "      <td>NaN</td>\n",
       "      <td>NaN</td>\n",
       "      <td>NaN</td>\n",
       "      <td>NaN</td>\n",
       "    </tr>\n",
       "    <tr>\n",
       "      <th>25%</th>\n",
       "      <td>6.000000</td>\n",
       "      <td>5000.000000</td>\n",
       "      <td>6.540000</td>\n",
       "      <td>12990.000000</td>\n",
       "      <td>NaN</td>\n",
       "      <td>128.000000</td>\n",
       "      <td>18.000000</td>\n",
       "      <td>NaN</td>\n",
       "      <td>NaN</td>\n",
       "      <td>NaN</td>\n",
       "      <td>NaN</td>\n",
       "      <td>NaN</td>\n",
       "      <td>NaN</td>\n",
       "      <td>NaN</td>\n",
       "    </tr>\n",
       "    <tr>\n",
       "      <th>50%</th>\n",
       "      <td>8.000000</td>\n",
       "      <td>5000.000000</td>\n",
       "      <td>6.670000</td>\n",
       "      <td>21999.000000</td>\n",
       "      <td>NaN</td>\n",
       "      <td>128.000000</td>\n",
       "      <td>33.000000</td>\n",
       "      <td>NaN</td>\n",
       "      <td>NaN</td>\n",
       "      <td>NaN</td>\n",
       "      <td>NaN</td>\n",
       "      <td>NaN</td>\n",
       "      <td>NaN</td>\n",
       "      <td>NaN</td>\n",
       "    </tr>\n",
       "    <tr>\n",
       "      <th>75%</th>\n",
       "      <td>8.000000</td>\n",
       "      <td>5000.000000</td>\n",
       "      <td>6.740000</td>\n",
       "      <td>42990.000000</td>\n",
       "      <td>NaN</td>\n",
       "      <td>256.000000</td>\n",
       "      <td>67.000000</td>\n",
       "      <td>NaN</td>\n",
       "      <td>NaN</td>\n",
       "      <td>NaN</td>\n",
       "      <td>NaN</td>\n",
       "      <td>NaN</td>\n",
       "      <td>NaN</td>\n",
       "      <td>NaN</td>\n",
       "    </tr>\n",
       "    <tr>\n",
       "      <th>max</th>\n",
       "      <td>512.000000</td>\n",
       "      <td>7000.000000</td>\n",
       "      <td>8.300000</td>\n",
       "      <td>214990.000000</td>\n",
       "      <td>NaN</td>\n",
       "      <td>1000.000000</td>\n",
       "      <td>250.000000</td>\n",
       "      <td>NaN</td>\n",
       "      <td>NaN</td>\n",
       "      <td>NaN</td>\n",
       "      <td>NaN</td>\n",
       "      <td>NaN</td>\n",
       "      <td>NaN</td>\n",
       "      <td>NaN</td>\n",
       "    </tr>\n",
       "  </tbody>\n",
       "</table>\n",
       "</div>"
      ],
      "text/plain": [
       "                Ram      Battery      Display          Price company  \\\n",
       "count   1367.000000  1367.000000  1367.000000    1367.000000    1367   \n",
       "unique          NaN          NaN          NaN            NaN      22   \n",
       "top             NaN          NaN          NaN            NaN    Vivo   \n",
       "freq            NaN          NaN          NaN            NaN     186   \n",
       "mean      10.884053  4985.003658     6.657279   33389.433797     NaN   \n",
       "std       31.526545   507.947507     0.284568   30391.130990     NaN   \n",
       "min        1.000000  2000.000000     4.500000    6950.000000     NaN   \n",
       "25%        6.000000  5000.000000     6.540000   12990.000000     NaN   \n",
       "50%        8.000000  5000.000000     6.670000   21999.000000     NaN   \n",
       "75%        8.000000  5000.000000     6.740000   42990.000000     NaN   \n",
       "max      512.000000  7000.000000     8.300000  214990.000000     NaN   \n",
       "\n",
       "        Inbuilt_memory  fast_charging Screen_resolution  Processor  \\\n",
       "count      1367.000000    1367.000000              1367       1367   \n",
       "unique             NaN            NaN                 4          5   \n",
       "top                NaN            NaN       1080 x 2400  Octa Core   \n",
       "freq               NaN            NaN               775       1338   \n",
       "mean        173.602048      49.537454               NaN        NaN   \n",
       "std         113.656077      37.139798               NaN        NaN   \n",
       "min           8.000000       7.500000               NaN        NaN   \n",
       "25%         128.000000      18.000000               NaN        NaN   \n",
       "50%         128.000000      33.000000               NaN        NaN   \n",
       "75%         256.000000      67.000000               NaN        NaN   \n",
       "max        1000.000000     250.000000               NaN        NaN   \n",
       "\n",
       "       Processor_name  rear front no_of_sim Is_5G  \n",
       "count            1367  1367  1367      1367  1367  \n",
       "unique             12    18    17         2     2  \n",
       "top        Snapdragon    50    16  Dual Sim   Yes  \n",
       "freq              651   659   359      1340   929  \n",
       "mean              NaN   NaN   NaN       NaN   NaN  \n",
       "std               NaN   NaN   NaN       NaN   NaN  \n",
       "min               NaN   NaN   NaN       NaN   NaN  \n",
       "25%               NaN   NaN   NaN       NaN   NaN  \n",
       "50%               NaN   NaN   NaN       NaN   NaN  \n",
       "75%               NaN   NaN   NaN       NaN   NaN  \n",
       "max               NaN   NaN   NaN       NaN   NaN  "
      ]
     },
     "execution_count": 415,
     "metadata": {},
     "output_type": "execute_result"
    }
   ],
   "source": [
    "df.describe(include='all')"
   ]
  },
  {
   "cell_type": "code",
   "execution_count": 417,
   "id": "46effea1-6888-4c42-904b-2276371f9c67",
   "metadata": {},
   "outputs": [],
   "source": [
    "df['rear']=df['rear'].astype(int)\n",
    "df['front']=df['front'].astype(int)"
   ]
  },
  {
   "cell_type": "code",
   "execution_count": 427,
   "id": "a54619c1-d8b9-4725-b9ec-86dc939389f5",
   "metadata": {},
   "outputs": [
    {
     "data": {
      "text/html": [
       "<div>\n",
       "<style scoped>\n",
       "    .dataframe tbody tr th:only-of-type {\n",
       "        vertical-align: middle;\n",
       "    }\n",
       "\n",
       "    .dataframe tbody tr th {\n",
       "        vertical-align: top;\n",
       "    }\n",
       "\n",
       "    .dataframe thead th {\n",
       "        text-align: right;\n",
       "    }\n",
       "</style>\n",
       "<table border=\"1\" class=\"dataframe\">\n",
       "  <thead>\n",
       "    <tr style=\"text-align: right;\">\n",
       "      <th></th>\n",
       "      <th>Ram</th>\n",
       "      <th>Battery</th>\n",
       "      <th>Display</th>\n",
       "      <th>Price</th>\n",
       "      <th>company</th>\n",
       "      <th>Inbuilt_memory</th>\n",
       "      <th>fast_charging</th>\n",
       "      <th>Screen_resolution</th>\n",
       "      <th>Processor</th>\n",
       "      <th>Processor_name</th>\n",
       "      <th>rear</th>\n",
       "      <th>front</th>\n",
       "      <th>no_of_sim</th>\n",
       "      <th>Is_5G</th>\n",
       "    </tr>\n",
       "  </thead>\n",
       "  <tbody>\n",
       "    <tr>\n",
       "      <th>1277</th>\n",
       "      <td>12.0</td>\n",
       "      <td>4500</td>\n",
       "      <td>6.53</td>\n",
       "      <td>214990</td>\n",
       "      <td>Huawei</td>\n",
       "      <td>512</td>\n",
       "      <td>18.0</td>\n",
       "      <td>1080 x 2400</td>\n",
       "      <td>Octa Core</td>\n",
       "      <td>Kirin</td>\n",
       "      <td>40</td>\n",
       "      <td>32</td>\n",
       "      <td>Dual Sim</td>\n",
       "      <td>Yes</td>\n",
       "    </tr>\n",
       "  </tbody>\n",
       "</table>\n",
       "</div>"
      ],
      "text/plain": [
       "       Ram  Battery  Display   Price company  Inbuilt_memory  fast_charging  \\\n",
       "1277  12.0     4500     6.53  214990  Huawei             512           18.0   \n",
       "\n",
       "     Screen_resolution  Processor Processor_name  rear  front no_of_sim Is_5G  \n",
       "1277       1080 x 2400  Octa Core          Kirin    40     32  Dual Sim   Yes  "
      ]
     },
     "execution_count": 427,
     "metadata": {},
     "output_type": "execute_result"
    }
   ],
   "source": [
    "df[df['Price']>=200000]"
   ]
  },
  {
   "cell_type": "code",
   "execution_count": 428,
   "id": "4037ae1d-2236-4d6a-8981-b8ec3ecdc35b",
   "metadata": {},
   "outputs": [],
   "source": [
    "df=df[df['Price']<200000]"
   ]
  },
  {
   "cell_type": "code",
   "execution_count": 429,
   "id": "5840d6a0-0a44-4bd9-84aa-15255ccd763c",
   "metadata": {},
   "outputs": [
    {
     "name": "stdout",
     "output_type": "stream",
     "text": [
      "<class 'pandas.core.frame.DataFrame'>\n",
      "Index: 1366 entries, 0 to 1366\n",
      "Data columns (total 14 columns):\n",
      " #   Column             Non-Null Count  Dtype  \n",
      "---  ------             --------------  -----  \n",
      " 0   Ram                1366 non-null   float64\n",
      " 1   Battery            1366 non-null   int32  \n",
      " 2   Display            1366 non-null   float64\n",
      " 3   Price              1366 non-null   int32  \n",
      " 4   company            1366 non-null   object \n",
      " 5   Inbuilt_memory     1366 non-null   int32  \n",
      " 6   fast_charging      1366 non-null   float64\n",
      " 7   Screen_resolution  1366 non-null   object \n",
      " 8   Processor          1366 non-null   object \n",
      " 9   Processor_name     1366 non-null   object \n",
      " 10  rear               1366 non-null   int32  \n",
      " 11  front              1366 non-null   int32  \n",
      " 12  no_of_sim          1366 non-null   object \n",
      " 13  Is_5G              1366 non-null   object \n",
      "dtypes: float64(3), int32(5), object(6)\n",
      "memory usage: 133.4+ KB\n"
     ]
    }
   ],
   "source": [
    "df.info()"
   ]
  },
  {
   "cell_type": "code",
   "execution_count": 430,
   "id": "44e4c21e-846a-461e-acbb-661d765d5f1c",
   "metadata": {},
   "outputs": [],
   "source": [
    "df=df.reset_index(drop=True)"
   ]
  },
  {
   "cell_type": "code",
   "execution_count": 431,
   "id": "06eb061c-d352-4f97-9903-a29d877e58d8",
   "metadata": {},
   "outputs": [
    {
     "data": {
      "text/html": [
       "<div>\n",
       "<style scoped>\n",
       "    .dataframe tbody tr th:only-of-type {\n",
       "        vertical-align: middle;\n",
       "    }\n",
       "\n",
       "    .dataframe tbody tr th {\n",
       "        vertical-align: top;\n",
       "    }\n",
       "\n",
       "    .dataframe thead th {\n",
       "        text-align: right;\n",
       "    }\n",
       "</style>\n",
       "<table border=\"1\" class=\"dataframe\">\n",
       "  <thead>\n",
       "    <tr style=\"text-align: right;\">\n",
       "      <th></th>\n",
       "      <th>Ram</th>\n",
       "      <th>Battery</th>\n",
       "      <th>Display</th>\n",
       "      <th>Price</th>\n",
       "      <th>company</th>\n",
       "      <th>Inbuilt_memory</th>\n",
       "      <th>fast_charging</th>\n",
       "      <th>Screen_resolution</th>\n",
       "      <th>Processor</th>\n",
       "      <th>Processor_name</th>\n",
       "      <th>rear</th>\n",
       "      <th>front</th>\n",
       "      <th>no_of_sim</th>\n",
       "      <th>Is_5G</th>\n",
       "    </tr>\n",
       "  </thead>\n",
       "  <tbody>\n",
       "    <tr>\n",
       "      <th>0</th>\n",
       "      <td>4.0</td>\n",
       "      <td>6000</td>\n",
       "      <td>6.60</td>\n",
       "      <td>9999</td>\n",
       "      <td>Samsung</td>\n",
       "      <td>128</td>\n",
       "      <td>25.0</td>\n",
       "      <td>1080 x 2400</td>\n",
       "      <td>Octa Core</td>\n",
       "      <td>Exynos</td>\n",
       "      <td>50</td>\n",
       "      <td>13</td>\n",
       "      <td>Dual Sim</td>\n",
       "      <td>Yes</td>\n",
       "    </tr>\n",
       "    <tr>\n",
       "      <th>1</th>\n",
       "      <td>2.0</td>\n",
       "      <td>4000</td>\n",
       "      <td>6.40</td>\n",
       "      <td>9990</td>\n",
       "      <td>Samsung</td>\n",
       "      <td>32</td>\n",
       "      <td>15.0</td>\n",
       "      <td>480 x 960</td>\n",
       "      <td>1.6 GHz Processor</td>\n",
       "      <td>Octa</td>\n",
       "      <td>13</td>\n",
       "      <td>8</td>\n",
       "      <td>Dual Sim</td>\n",
       "      <td>No</td>\n",
       "    </tr>\n",
       "    <tr>\n",
       "      <th>2</th>\n",
       "      <td>4.0</td>\n",
       "      <td>5000</td>\n",
       "      <td>6.60</td>\n",
       "      <td>11999</td>\n",
       "      <td>Samsung</td>\n",
       "      <td>64</td>\n",
       "      <td>25.0</td>\n",
       "      <td>1080 x 2400</td>\n",
       "      <td>1.6 GHz Processor</td>\n",
       "      <td>Octa</td>\n",
       "      <td>50</td>\n",
       "      <td>8</td>\n",
       "      <td>Dual Sim</td>\n",
       "      <td>No</td>\n",
       "    </tr>\n",
       "    <tr>\n",
       "      <th>3</th>\n",
       "      <td>4.0</td>\n",
       "      <td>6000</td>\n",
       "      <td>6.40</td>\n",
       "      <td>11999</td>\n",
       "      <td>Samsung</td>\n",
       "      <td>64</td>\n",
       "      <td>18.0</td>\n",
       "      <td>480 x 960</td>\n",
       "      <td>Octa Core</td>\n",
       "      <td>Helio</td>\n",
       "      <td>48</td>\n",
       "      <td>13</td>\n",
       "      <td>Dual Sim</td>\n",
       "      <td>No</td>\n",
       "    </tr>\n",
       "    <tr>\n",
       "      <th>4</th>\n",
       "      <td>4.0</td>\n",
       "      <td>5000</td>\n",
       "      <td>6.50</td>\n",
       "      <td>11999</td>\n",
       "      <td>Samsung</td>\n",
       "      <td>64</td>\n",
       "      <td>15.0</td>\n",
       "      <td>480 x 960</td>\n",
       "      <td>Octa Core</td>\n",
       "      <td>Helio</td>\n",
       "      <td>13</td>\n",
       "      <td>5</td>\n",
       "      <td>Dual Sim</td>\n",
       "      <td>No</td>\n",
       "    </tr>\n",
       "    <tr>\n",
       "      <th>...</th>\n",
       "      <td>...</td>\n",
       "      <td>...</td>\n",
       "      <td>...</td>\n",
       "      <td>...</td>\n",
       "      <td>...</td>\n",
       "      <td>...</td>\n",
       "      <td>...</td>\n",
       "      <td>...</td>\n",
       "      <td>...</td>\n",
       "      <td>...</td>\n",
       "      <td>...</td>\n",
       "      <td>...</td>\n",
       "      <td>...</td>\n",
       "      <td>...</td>\n",
       "    </tr>\n",
       "    <tr>\n",
       "      <th>1361</th>\n",
       "      <td>4.0</td>\n",
       "      <td>4000</td>\n",
       "      <td>6.81</td>\n",
       "      <td>19990</td>\n",
       "      <td>TCL</td>\n",
       "      <td>128</td>\n",
       "      <td>18.0</td>\n",
       "      <td>1080 x 2400</td>\n",
       "      <td>Octa Core</td>\n",
       "      <td>Dimensity</td>\n",
       "      <td>50</td>\n",
       "      <td>13</td>\n",
       "      <td>Dual Sim</td>\n",
       "      <td>Yes</td>\n",
       "    </tr>\n",
       "    <tr>\n",
       "      <th>1362</th>\n",
       "      <td>4.0</td>\n",
       "      <td>5000</td>\n",
       "      <td>6.60</td>\n",
       "      <td>18999</td>\n",
       "      <td>TCL</td>\n",
       "      <td>64</td>\n",
       "      <td>15.0</td>\n",
       "      <td>480 x 960</td>\n",
       "      <td>Octa Core</td>\n",
       "      <td>Dimensity</td>\n",
       "      <td>50</td>\n",
       "      <td>8</td>\n",
       "      <td>Dual Sim</td>\n",
       "      <td>Yes</td>\n",
       "    </tr>\n",
       "    <tr>\n",
       "      <th>1363</th>\n",
       "      <td>8.0</td>\n",
       "      <td>5000</td>\n",
       "      <td>6.80</td>\n",
       "      <td>24990</td>\n",
       "      <td>TCL</td>\n",
       "      <td>128</td>\n",
       "      <td>33.0</td>\n",
       "      <td>1260 x 2800</td>\n",
       "      <td>Octa Core</td>\n",
       "      <td>Dimensity</td>\n",
       "      <td>50</td>\n",
       "      <td>16</td>\n",
       "      <td>Dual Sim</td>\n",
       "      <td>No</td>\n",
       "    </tr>\n",
       "    <tr>\n",
       "      <th>1364</th>\n",
       "      <td>6.0</td>\n",
       "      <td>5000</td>\n",
       "      <td>6.60</td>\n",
       "      <td>23990</td>\n",
       "      <td>TCL</td>\n",
       "      <td>256</td>\n",
       "      <td>18.0</td>\n",
       "      <td>480 x 960</td>\n",
       "      <td>Octa Core</td>\n",
       "      <td>Dimensity</td>\n",
       "      <td>50</td>\n",
       "      <td>16</td>\n",
       "      <td>Dual Sim</td>\n",
       "      <td>Yes</td>\n",
       "    </tr>\n",
       "    <tr>\n",
       "      <th>1365</th>\n",
       "      <td>6.0</td>\n",
       "      <td>5000</td>\n",
       "      <td>6.60</td>\n",
       "      <td>22499</td>\n",
       "      <td>TCL</td>\n",
       "      <td>256</td>\n",
       "      <td>15.0</td>\n",
       "      <td>480 x 960</td>\n",
       "      <td>Octa Core</td>\n",
       "      <td>Dimensity</td>\n",
       "      <td>50</td>\n",
       "      <td>8</td>\n",
       "      <td>Dual Sim</td>\n",
       "      <td>Yes</td>\n",
       "    </tr>\n",
       "  </tbody>\n",
       "</table>\n",
       "<p>1366 rows × 14 columns</p>\n",
       "</div>"
      ],
      "text/plain": [
       "      Ram  Battery  Display  Price  company  Inbuilt_memory  fast_charging  \\\n",
       "0     4.0     6000     6.60   9999  Samsung             128           25.0   \n",
       "1     2.0     4000     6.40   9990  Samsung              32           15.0   \n",
       "2     4.0     5000     6.60  11999  Samsung              64           25.0   \n",
       "3     4.0     6000     6.40  11999  Samsung              64           18.0   \n",
       "4     4.0     5000     6.50  11999  Samsung              64           15.0   \n",
       "...   ...      ...      ...    ...      ...             ...            ...   \n",
       "1361  4.0     4000     6.81  19990      TCL             128           18.0   \n",
       "1362  4.0     5000     6.60  18999      TCL              64           15.0   \n",
       "1363  8.0     5000     6.80  24990      TCL             128           33.0   \n",
       "1364  6.0     5000     6.60  23990      TCL             256           18.0   \n",
       "1365  6.0     5000     6.60  22499      TCL             256           15.0   \n",
       "\n",
       "     Screen_resolution          Processor Processor_name  rear  front  \\\n",
       "0          1080 x 2400          Octa Core         Exynos    50     13   \n",
       "1            480 x 960  1.6 GHz Processor           Octa    13      8   \n",
       "2          1080 x 2400  1.6 GHz Processor           Octa    50      8   \n",
       "3            480 x 960          Octa Core          Helio    48     13   \n",
       "4            480 x 960          Octa Core          Helio    13      5   \n",
       "...                ...                ...            ...   ...    ...   \n",
       "1361       1080 x 2400          Octa Core      Dimensity    50     13   \n",
       "1362         480 x 960          Octa Core      Dimensity    50      8   \n",
       "1363       1260 x 2800          Octa Core      Dimensity    50     16   \n",
       "1364         480 x 960          Octa Core      Dimensity    50     16   \n",
       "1365         480 x 960          Octa Core      Dimensity    50      8   \n",
       "\n",
       "     no_of_sim Is_5G  \n",
       "0     Dual Sim   Yes  \n",
       "1     Dual Sim    No  \n",
       "2     Dual Sim    No  \n",
       "3     Dual Sim    No  \n",
       "4     Dual Sim    No  \n",
       "...        ...   ...  \n",
       "1361  Dual Sim   Yes  \n",
       "1362  Dual Sim   Yes  \n",
       "1363  Dual Sim    No  \n",
       "1364  Dual Sim   Yes  \n",
       "1365  Dual Sim   Yes  \n",
       "\n",
       "[1366 rows x 14 columns]"
      ]
     },
     "execution_count": 431,
     "metadata": {},
     "output_type": "execute_result"
    }
   ],
   "source": [
    "df"
   ]
  },
  {
   "cell_type": "code",
   "execution_count": 433,
   "id": "c256557f-c92b-401f-8598-f3e1aed37ce2",
   "metadata": {},
   "outputs": [],
   "source": [
    "df.to_csv('Cleaned Mobile Price.csv')"
   ]
  },
  {
   "cell_type": "markdown",
   "id": "974333d0-39a9-459e-9914-c1f9d88fbfa6",
   "metadata": {},
   "source": [
    "**Model**"
   ]
  },
  {
   "cell_type": "code",
   "execution_count": 435,
   "id": "5c0a1eb0-6bcc-4a4a-99a8-bbeec03a483f",
   "metadata": {},
   "outputs": [],
   "source": [
    "X=df.drop(columns=['Price'])\n",
    "y=df['Price']"
   ]
  },
  {
   "cell_type": "code",
   "execution_count": 438,
   "id": "07f346ce-a02a-44ca-9177-9695dc55b170",
   "metadata": {},
   "outputs": [],
   "source": [
    "from sklearn.model_selection import train_test_split"
   ]
  },
  {
   "cell_type": "code",
   "execution_count": 439,
   "id": "249a5626-8722-4254-bf25-e8ad9dc8d1f1",
   "metadata": {},
   "outputs": [],
   "source": [
    "X_train,X_test,y_train,y_test=train_test_split(X,y,test_size=0.2)"
   ]
  },
  {
   "cell_type": "code",
   "execution_count": 462,
   "id": "dc48fc76-1c4b-481f-badf-d3023ef9ebce",
   "metadata": {},
   "outputs": [],
   "source": [
    "from sklearn.linear_model import LinearRegression\n",
    "from sklearn.preprocessing import OneHotEncoder\n",
    "from sklearn.compose import make_column_transformer\n",
    "from sklearn.pipeline import make_pipeline\n",
    "from sklearn.metrics import r2_score"
   ]
  },
  {
   "cell_type": "code",
   "execution_count": 463,
   "id": "e5f38d1c-23d7-427f-b04b-15fd02a5abbf",
   "metadata": {},
   "outputs": [
    {
     "name": "stdout",
     "output_type": "stream",
     "text": [
      "<class 'pandas.core.frame.DataFrame'>\n",
      "RangeIndex: 1366 entries, 0 to 1365\n",
      "Data columns (total 14 columns):\n",
      " #   Column             Non-Null Count  Dtype  \n",
      "---  ------             --------------  -----  \n",
      " 0   Ram                1366 non-null   float64\n",
      " 1   Battery            1366 non-null   int32  \n",
      " 2   Display            1366 non-null   float64\n",
      " 3   Price              1366 non-null   int32  \n",
      " 4   company            1366 non-null   object \n",
      " 5   Inbuilt_memory     1366 non-null   int32  \n",
      " 6   fast_charging      1366 non-null   float64\n",
      " 7   Screen_resolution  1366 non-null   object \n",
      " 8   Processor          1366 non-null   object \n",
      " 9   Processor_name     1366 non-null   object \n",
      " 10  rear               1366 non-null   int32  \n",
      " 11  front              1366 non-null   int32  \n",
      " 12  no_of_sim          1366 non-null   object \n",
      " 13  Is_5G              1366 non-null   object \n",
      "dtypes: float64(3), int32(5), object(6)\n",
      "memory usage: 122.9+ KB\n"
     ]
    }
   ],
   "source": [
    "df.info()"
   ]
  },
  {
   "cell_type": "code",
   "execution_count": 464,
   "id": "19fa5f05-e449-4d80-83b5-e8774952c5bf",
   "metadata": {},
   "outputs": [
    {
     "data": {
      "text/html": [
       "<style>#sk-container-id-4 {color: black;background-color: white;}#sk-container-id-4 pre{padding: 0;}#sk-container-id-4 div.sk-toggleable {background-color: white;}#sk-container-id-4 label.sk-toggleable__label {cursor: pointer;display: block;width: 100%;margin-bottom: 0;padding: 0.3em;box-sizing: border-box;text-align: center;}#sk-container-id-4 label.sk-toggleable__label-arrow:before {content: \"▸\";float: left;margin-right: 0.25em;color: #696969;}#sk-container-id-4 label.sk-toggleable__label-arrow:hover:before {color: black;}#sk-container-id-4 div.sk-estimator:hover label.sk-toggleable__label-arrow:before {color: black;}#sk-container-id-4 div.sk-toggleable__content {max-height: 0;max-width: 0;overflow: hidden;text-align: left;background-color: #f0f8ff;}#sk-container-id-4 div.sk-toggleable__content pre {margin: 0.2em;color: black;border-radius: 0.25em;background-color: #f0f8ff;}#sk-container-id-4 input.sk-toggleable__control:checked~div.sk-toggleable__content {max-height: 200px;max-width: 100%;overflow: auto;}#sk-container-id-4 input.sk-toggleable__control:checked~label.sk-toggleable__label-arrow:before {content: \"▾\";}#sk-container-id-4 div.sk-estimator input.sk-toggleable__control:checked~label.sk-toggleable__label {background-color: #d4ebff;}#sk-container-id-4 div.sk-label input.sk-toggleable__control:checked~label.sk-toggleable__label {background-color: #d4ebff;}#sk-container-id-4 input.sk-hidden--visually {border: 0;clip: rect(1px 1px 1px 1px);clip: rect(1px, 1px, 1px, 1px);height: 1px;margin: -1px;overflow: hidden;padding: 0;position: absolute;width: 1px;}#sk-container-id-4 div.sk-estimator {font-family: monospace;background-color: #f0f8ff;border: 1px dotted black;border-radius: 0.25em;box-sizing: border-box;margin-bottom: 0.5em;}#sk-container-id-4 div.sk-estimator:hover {background-color: #d4ebff;}#sk-container-id-4 div.sk-parallel-item::after {content: \"\";width: 100%;border-bottom: 1px solid gray;flex-grow: 1;}#sk-container-id-4 div.sk-label:hover label.sk-toggleable__label {background-color: #d4ebff;}#sk-container-id-4 div.sk-serial::before {content: \"\";position: absolute;border-left: 1px solid gray;box-sizing: border-box;top: 0;bottom: 0;left: 50%;z-index: 0;}#sk-container-id-4 div.sk-serial {display: flex;flex-direction: column;align-items: center;background-color: white;padding-right: 0.2em;padding-left: 0.2em;position: relative;}#sk-container-id-4 div.sk-item {position: relative;z-index: 1;}#sk-container-id-4 div.sk-parallel {display: flex;align-items: stretch;justify-content: center;background-color: white;position: relative;}#sk-container-id-4 div.sk-item::before, #sk-container-id-4 div.sk-parallel-item::before {content: \"\";position: absolute;border-left: 1px solid gray;box-sizing: border-box;top: 0;bottom: 0;left: 50%;z-index: -1;}#sk-container-id-4 div.sk-parallel-item {display: flex;flex-direction: column;z-index: 1;position: relative;background-color: white;}#sk-container-id-4 div.sk-parallel-item:first-child::after {align-self: flex-end;width: 50%;}#sk-container-id-4 div.sk-parallel-item:last-child::after {align-self: flex-start;width: 50%;}#sk-container-id-4 div.sk-parallel-item:only-child::after {width: 0;}#sk-container-id-4 div.sk-dashed-wrapped {border: 1px dashed gray;margin: 0 0.4em 0.5em 0.4em;box-sizing: border-box;padding-bottom: 0.4em;background-color: white;}#sk-container-id-4 div.sk-label label {font-family: monospace;font-weight: bold;display: inline-block;line-height: 1.2em;}#sk-container-id-4 div.sk-label-container {text-align: center;}#sk-container-id-4 div.sk-container {/* jupyter's `normalize.less` sets `[hidden] { display: none; }` but bootstrap.min.css set `[hidden] { display: none !important; }` so we also need the `!important` here to be able to override the default hidden behavior on the sphinx rendered scikit-learn.org. See: https://github.com/scikit-learn/scikit-learn/issues/21755 */display: inline-block !important;position: relative;}#sk-container-id-4 div.sk-text-repr-fallback {display: none;}</style><div id=\"sk-container-id-4\" class=\"sk-top-container\"><div class=\"sk-text-repr-fallback\"><pre>OneHotEncoder()</pre><b>In a Jupyter environment, please rerun this cell to show the HTML representation or trust the notebook. <br />On GitHub, the HTML representation is unable to render, please try loading this page with nbviewer.org.</b></div><div class=\"sk-container\" hidden><div class=\"sk-item\"><div class=\"sk-estimator sk-toggleable\"><input class=\"sk-toggleable__control sk-hidden--visually\" id=\"sk-estimator-id-16\" type=\"checkbox\" checked><label for=\"sk-estimator-id-16\" class=\"sk-toggleable__label sk-toggleable__label-arrow\">OneHotEncoder</label><div class=\"sk-toggleable__content\"><pre>OneHotEncoder()</pre></div></div></div></div></div>"
      ],
      "text/plain": [
       "OneHotEncoder()"
      ]
     },
     "execution_count": 464,
     "metadata": {},
     "output_type": "execute_result"
    }
   ],
   "source": [
    "ohe=OneHotEncoder()\n",
    "ohe.fit(X[['company','Screen_resolution','Processor','Processor_name','no_of_sim','Is_5G']])"
   ]
  },
  {
   "cell_type": "code",
   "execution_count": 465,
   "id": "acde4ea8-4711-47f5-9982-4eaac77d6818",
   "metadata": {},
   "outputs": [],
   "source": [
    "column_trans=make_column_transformer((OneHotEncoder(categories=ohe.categories_),['company','Screen_resolution','Processor','Processor_name','no_of_sim','Is_5G']),\n",
    "                                    remainder='passthrough')"
   ]
  },
  {
   "cell_type": "code",
   "execution_count": 466,
   "id": "5d36c6e7-b3b8-47d3-990b-492933eab92c",
   "metadata": {},
   "outputs": [],
   "source": [
    "linear=LinearRegression()"
   ]
  },
  {
   "cell_type": "code",
   "execution_count": 467,
   "id": "ac89329d-623e-4223-b704-db70db221b5a",
   "metadata": {},
   "outputs": [],
   "source": [
    "pipe=make_pipeline(column_trans,linear)"
   ]
  },
  {
   "cell_type": "code",
   "execution_count": 468,
   "id": "be899e0c-dec6-4a34-b07f-d5244368f5d1",
   "metadata": {},
   "outputs": [
    {
     "data": {
      "text/html": [
       "<style>#sk-container-id-5 {color: black;background-color: white;}#sk-container-id-5 pre{padding: 0;}#sk-container-id-5 div.sk-toggleable {background-color: white;}#sk-container-id-5 label.sk-toggleable__label {cursor: pointer;display: block;width: 100%;margin-bottom: 0;padding: 0.3em;box-sizing: border-box;text-align: center;}#sk-container-id-5 label.sk-toggleable__label-arrow:before {content: \"▸\";float: left;margin-right: 0.25em;color: #696969;}#sk-container-id-5 label.sk-toggleable__label-arrow:hover:before {color: black;}#sk-container-id-5 div.sk-estimator:hover label.sk-toggleable__label-arrow:before {color: black;}#sk-container-id-5 div.sk-toggleable__content {max-height: 0;max-width: 0;overflow: hidden;text-align: left;background-color: #f0f8ff;}#sk-container-id-5 div.sk-toggleable__content pre {margin: 0.2em;color: black;border-radius: 0.25em;background-color: #f0f8ff;}#sk-container-id-5 input.sk-toggleable__control:checked~div.sk-toggleable__content {max-height: 200px;max-width: 100%;overflow: auto;}#sk-container-id-5 input.sk-toggleable__control:checked~label.sk-toggleable__label-arrow:before {content: \"▾\";}#sk-container-id-5 div.sk-estimator input.sk-toggleable__control:checked~label.sk-toggleable__label {background-color: #d4ebff;}#sk-container-id-5 div.sk-label input.sk-toggleable__control:checked~label.sk-toggleable__label {background-color: #d4ebff;}#sk-container-id-5 input.sk-hidden--visually {border: 0;clip: rect(1px 1px 1px 1px);clip: rect(1px, 1px, 1px, 1px);height: 1px;margin: -1px;overflow: hidden;padding: 0;position: absolute;width: 1px;}#sk-container-id-5 div.sk-estimator {font-family: monospace;background-color: #f0f8ff;border: 1px dotted black;border-radius: 0.25em;box-sizing: border-box;margin-bottom: 0.5em;}#sk-container-id-5 div.sk-estimator:hover {background-color: #d4ebff;}#sk-container-id-5 div.sk-parallel-item::after {content: \"\";width: 100%;border-bottom: 1px solid gray;flex-grow: 1;}#sk-container-id-5 div.sk-label:hover label.sk-toggleable__label {background-color: #d4ebff;}#sk-container-id-5 div.sk-serial::before {content: \"\";position: absolute;border-left: 1px solid gray;box-sizing: border-box;top: 0;bottom: 0;left: 50%;z-index: 0;}#sk-container-id-5 div.sk-serial {display: flex;flex-direction: column;align-items: center;background-color: white;padding-right: 0.2em;padding-left: 0.2em;position: relative;}#sk-container-id-5 div.sk-item {position: relative;z-index: 1;}#sk-container-id-5 div.sk-parallel {display: flex;align-items: stretch;justify-content: center;background-color: white;position: relative;}#sk-container-id-5 div.sk-item::before, #sk-container-id-5 div.sk-parallel-item::before {content: \"\";position: absolute;border-left: 1px solid gray;box-sizing: border-box;top: 0;bottom: 0;left: 50%;z-index: -1;}#sk-container-id-5 div.sk-parallel-item {display: flex;flex-direction: column;z-index: 1;position: relative;background-color: white;}#sk-container-id-5 div.sk-parallel-item:first-child::after {align-self: flex-end;width: 50%;}#sk-container-id-5 div.sk-parallel-item:last-child::after {align-self: flex-start;width: 50%;}#sk-container-id-5 div.sk-parallel-item:only-child::after {width: 0;}#sk-container-id-5 div.sk-dashed-wrapped {border: 1px dashed gray;margin: 0 0.4em 0.5em 0.4em;box-sizing: border-box;padding-bottom: 0.4em;background-color: white;}#sk-container-id-5 div.sk-label label {font-family: monospace;font-weight: bold;display: inline-block;line-height: 1.2em;}#sk-container-id-5 div.sk-label-container {text-align: center;}#sk-container-id-5 div.sk-container {/* jupyter's `normalize.less` sets `[hidden] { display: none; }` but bootstrap.min.css set `[hidden] { display: none !important; }` so we also need the `!important` here to be able to override the default hidden behavior on the sphinx rendered scikit-learn.org. See: https://github.com/scikit-learn/scikit-learn/issues/21755 */display: inline-block !important;position: relative;}#sk-container-id-5 div.sk-text-repr-fallback {display: none;}</style><div id=\"sk-container-id-5\" class=\"sk-top-container\"><div class=\"sk-text-repr-fallback\"><pre>Pipeline(steps=[(&#x27;columntransformer&#x27;,\n",
       "                 ColumnTransformer(remainder=&#x27;passthrough&#x27;,\n",
       "                                   transformers=[(&#x27;onehotencoder&#x27;,\n",
       "                                                  OneHotEncoder(categories=[array([&#x27;Asus&#x27;, &#x27;Coolpad&#x27;, &#x27;Gionee&#x27;, &#x27;Google&#x27;, &#x27;Honor&#x27;, &#x27;Huawei&#x27;, &#x27;IQOO&#x27;,\n",
       "       &#x27;Itel&#x27;, &#x27;LG&#x27;, &#x27;Lava&#x27;, &#x27;Lenovo&#x27;, &#x27;Motorola&#x27;, &#x27;Nothing&#x27;, &#x27;OnePlus&#x27;,\n",
       "       &#x27;Oppo&#x27;, &#x27;Poco&#x27;, &#x27;Realme&#x27;, &#x27;Samsung&#x27;, &#x27;TCL&#x27;, &#x27;Tecno&#x27;, &#x27;Vivo&#x27;,\n",
       "       &#x27;Xiaomi&#x27;], dtype=object),\n",
       "                                                                            array([&#x27;108...\n",
       "       &#x27;Quad Core&#x27;], dtype=object),\n",
       "                                                                            array([&#x27;Dimensity&#x27;, &#x27;Exynos&#x27;, &#x27;Google&#x27;, &#x27;Helio&#x27;, &#x27;Kirin&#x27;, &#x27;Octa&#x27;,\n",
       "       &#x27;Qualcomm&#x27;, &#x27;Samsung&#x27;, &#x27;Snapdragon&#x27;, &#x27;Tensor&#x27;, &#x27;Tiger&#x27;, &#x27;Unisoc&#x27;],\n",
       "      dtype=object),\n",
       "                                                                            array([&#x27;Dual Sim&#x27;, &#x27;Single Sim&#x27;], dtype=object),\n",
       "                                                                            array([&#x27;No&#x27;, &#x27;Yes&#x27;], dtype=object)]),\n",
       "                                                  [&#x27;company&#x27;,\n",
       "                                                   &#x27;Screen_resolution&#x27;,\n",
       "                                                   &#x27;Processor&#x27;,\n",
       "                                                   &#x27;Processor_name&#x27;,\n",
       "                                                   &#x27;no_of_sim&#x27;, &#x27;Is_5G&#x27;])])),\n",
       "                (&#x27;linearregression&#x27;, LinearRegression())])</pre><b>In a Jupyter environment, please rerun this cell to show the HTML representation or trust the notebook. <br />On GitHub, the HTML representation is unable to render, please try loading this page with nbviewer.org.</b></div><div class=\"sk-container\" hidden><div class=\"sk-item sk-dashed-wrapped\"><div class=\"sk-label-container\"><div class=\"sk-label sk-toggleable\"><input class=\"sk-toggleable__control sk-hidden--visually\" id=\"sk-estimator-id-17\" type=\"checkbox\" ><label for=\"sk-estimator-id-17\" class=\"sk-toggleable__label sk-toggleable__label-arrow\">Pipeline</label><div class=\"sk-toggleable__content\"><pre>Pipeline(steps=[(&#x27;columntransformer&#x27;,\n",
       "                 ColumnTransformer(remainder=&#x27;passthrough&#x27;,\n",
       "                                   transformers=[(&#x27;onehotencoder&#x27;,\n",
       "                                                  OneHotEncoder(categories=[array([&#x27;Asus&#x27;, &#x27;Coolpad&#x27;, &#x27;Gionee&#x27;, &#x27;Google&#x27;, &#x27;Honor&#x27;, &#x27;Huawei&#x27;, &#x27;IQOO&#x27;,\n",
       "       &#x27;Itel&#x27;, &#x27;LG&#x27;, &#x27;Lava&#x27;, &#x27;Lenovo&#x27;, &#x27;Motorola&#x27;, &#x27;Nothing&#x27;, &#x27;OnePlus&#x27;,\n",
       "       &#x27;Oppo&#x27;, &#x27;Poco&#x27;, &#x27;Realme&#x27;, &#x27;Samsung&#x27;, &#x27;TCL&#x27;, &#x27;Tecno&#x27;, &#x27;Vivo&#x27;,\n",
       "       &#x27;Xiaomi&#x27;], dtype=object),\n",
       "                                                                            array([&#x27;108...\n",
       "       &#x27;Quad Core&#x27;], dtype=object),\n",
       "                                                                            array([&#x27;Dimensity&#x27;, &#x27;Exynos&#x27;, &#x27;Google&#x27;, &#x27;Helio&#x27;, &#x27;Kirin&#x27;, &#x27;Octa&#x27;,\n",
       "       &#x27;Qualcomm&#x27;, &#x27;Samsung&#x27;, &#x27;Snapdragon&#x27;, &#x27;Tensor&#x27;, &#x27;Tiger&#x27;, &#x27;Unisoc&#x27;],\n",
       "      dtype=object),\n",
       "                                                                            array([&#x27;Dual Sim&#x27;, &#x27;Single Sim&#x27;], dtype=object),\n",
       "                                                                            array([&#x27;No&#x27;, &#x27;Yes&#x27;], dtype=object)]),\n",
       "                                                  [&#x27;company&#x27;,\n",
       "                                                   &#x27;Screen_resolution&#x27;,\n",
       "                                                   &#x27;Processor&#x27;,\n",
       "                                                   &#x27;Processor_name&#x27;,\n",
       "                                                   &#x27;no_of_sim&#x27;, &#x27;Is_5G&#x27;])])),\n",
       "                (&#x27;linearregression&#x27;, LinearRegression())])</pre></div></div></div><div class=\"sk-serial\"><div class=\"sk-item sk-dashed-wrapped\"><div class=\"sk-label-container\"><div class=\"sk-label sk-toggleable\"><input class=\"sk-toggleable__control sk-hidden--visually\" id=\"sk-estimator-id-18\" type=\"checkbox\" ><label for=\"sk-estimator-id-18\" class=\"sk-toggleable__label sk-toggleable__label-arrow\">columntransformer: ColumnTransformer</label><div class=\"sk-toggleable__content\"><pre>ColumnTransformer(remainder=&#x27;passthrough&#x27;,\n",
       "                  transformers=[(&#x27;onehotencoder&#x27;,\n",
       "                                 OneHotEncoder(categories=[array([&#x27;Asus&#x27;, &#x27;Coolpad&#x27;, &#x27;Gionee&#x27;, &#x27;Google&#x27;, &#x27;Honor&#x27;, &#x27;Huawei&#x27;, &#x27;IQOO&#x27;,\n",
       "       &#x27;Itel&#x27;, &#x27;LG&#x27;, &#x27;Lava&#x27;, &#x27;Lenovo&#x27;, &#x27;Motorola&#x27;, &#x27;Nothing&#x27;, &#x27;OnePlus&#x27;,\n",
       "       &#x27;Oppo&#x27;, &#x27;Poco&#x27;, &#x27;Realme&#x27;, &#x27;Samsung&#x27;, &#x27;TCL&#x27;, &#x27;Tecno&#x27;, &#x27;Vivo&#x27;,\n",
       "       &#x27;Xiaomi&#x27;], dtype=object),\n",
       "                                                           array([&#x27;1080 x 2400&#x27;, &#x27;1260 x 2800&#x27;, &#x27;1800 x 3440&#x27;, &#x27;480 x...\n",
       "                                                           array([&#x27;1.6 GHz Processor&#x27;, &#x27;Deca Core&#x27;, &#x27;Nine Core&#x27;, &#x27;Octa Core&#x27;,\n",
       "       &#x27;Quad Core&#x27;], dtype=object),\n",
       "                                                           array([&#x27;Dimensity&#x27;, &#x27;Exynos&#x27;, &#x27;Google&#x27;, &#x27;Helio&#x27;, &#x27;Kirin&#x27;, &#x27;Octa&#x27;,\n",
       "       &#x27;Qualcomm&#x27;, &#x27;Samsung&#x27;, &#x27;Snapdragon&#x27;, &#x27;Tensor&#x27;, &#x27;Tiger&#x27;, &#x27;Unisoc&#x27;],\n",
       "      dtype=object),\n",
       "                                                           array([&#x27;Dual Sim&#x27;, &#x27;Single Sim&#x27;], dtype=object),\n",
       "                                                           array([&#x27;No&#x27;, &#x27;Yes&#x27;], dtype=object)]),\n",
       "                                 [&#x27;company&#x27;, &#x27;Screen_resolution&#x27;, &#x27;Processor&#x27;,\n",
       "                                  &#x27;Processor_name&#x27;, &#x27;no_of_sim&#x27;, &#x27;Is_5G&#x27;])])</pre></div></div></div><div class=\"sk-parallel\"><div class=\"sk-parallel-item\"><div class=\"sk-item\"><div class=\"sk-label-container\"><div class=\"sk-label sk-toggleable\"><input class=\"sk-toggleable__control sk-hidden--visually\" id=\"sk-estimator-id-19\" type=\"checkbox\" ><label for=\"sk-estimator-id-19\" class=\"sk-toggleable__label sk-toggleable__label-arrow\">onehotencoder</label><div class=\"sk-toggleable__content\"><pre>[&#x27;company&#x27;, &#x27;Screen_resolution&#x27;, &#x27;Processor&#x27;, &#x27;Processor_name&#x27;, &#x27;no_of_sim&#x27;, &#x27;Is_5G&#x27;]</pre></div></div></div><div class=\"sk-serial\"><div class=\"sk-item\"><div class=\"sk-estimator sk-toggleable\"><input class=\"sk-toggleable__control sk-hidden--visually\" id=\"sk-estimator-id-20\" type=\"checkbox\" ><label for=\"sk-estimator-id-20\" class=\"sk-toggleable__label sk-toggleable__label-arrow\">OneHotEncoder</label><div class=\"sk-toggleable__content\"><pre>OneHotEncoder(categories=[array([&#x27;Asus&#x27;, &#x27;Coolpad&#x27;, &#x27;Gionee&#x27;, &#x27;Google&#x27;, &#x27;Honor&#x27;, &#x27;Huawei&#x27;, &#x27;IQOO&#x27;,\n",
       "       &#x27;Itel&#x27;, &#x27;LG&#x27;, &#x27;Lava&#x27;, &#x27;Lenovo&#x27;, &#x27;Motorola&#x27;, &#x27;Nothing&#x27;, &#x27;OnePlus&#x27;,\n",
       "       &#x27;Oppo&#x27;, &#x27;Poco&#x27;, &#x27;Realme&#x27;, &#x27;Samsung&#x27;, &#x27;TCL&#x27;, &#x27;Tecno&#x27;, &#x27;Vivo&#x27;,\n",
       "       &#x27;Xiaomi&#x27;], dtype=object),\n",
       "                          array([&#x27;1080 x 2400&#x27;, &#x27;1260 x 2800&#x27;, &#x27;1800 x 3440&#x27;, &#x27;480 x 960&#x27;],\n",
       "      dtype=object),\n",
       "                          array([&#x27;1.6 GHz Processor&#x27;, &#x27;Deca Core&#x27;, &#x27;Nine Core&#x27;, &#x27;Octa Core&#x27;,\n",
       "       &#x27;Quad Core&#x27;], dtype=object),\n",
       "                          array([&#x27;Dimensity&#x27;, &#x27;Exynos&#x27;, &#x27;Google&#x27;, &#x27;Helio&#x27;, &#x27;Kirin&#x27;, &#x27;Octa&#x27;,\n",
       "       &#x27;Qualcomm&#x27;, &#x27;Samsung&#x27;, &#x27;Snapdragon&#x27;, &#x27;Tensor&#x27;, &#x27;Tiger&#x27;, &#x27;Unisoc&#x27;],\n",
       "      dtype=object),\n",
       "                          array([&#x27;Dual Sim&#x27;, &#x27;Single Sim&#x27;], dtype=object),\n",
       "                          array([&#x27;No&#x27;, &#x27;Yes&#x27;], dtype=object)])</pre></div></div></div></div></div></div><div class=\"sk-parallel-item\"><div class=\"sk-item\"><div class=\"sk-label-container\"><div class=\"sk-label sk-toggleable\"><input class=\"sk-toggleable__control sk-hidden--visually\" id=\"sk-estimator-id-21\" type=\"checkbox\" ><label for=\"sk-estimator-id-21\" class=\"sk-toggleable__label sk-toggleable__label-arrow\">remainder</label><div class=\"sk-toggleable__content\"><pre>[&#x27;Ram&#x27;, &#x27;Battery&#x27;, &#x27;Display&#x27;, &#x27;Inbuilt_memory&#x27;, &#x27;fast_charging&#x27;, &#x27;rear&#x27;, &#x27;front&#x27;]</pre></div></div></div><div class=\"sk-serial\"><div class=\"sk-item\"><div class=\"sk-estimator sk-toggleable\"><input class=\"sk-toggleable__control sk-hidden--visually\" id=\"sk-estimator-id-22\" type=\"checkbox\" ><label for=\"sk-estimator-id-22\" class=\"sk-toggleable__label sk-toggleable__label-arrow\">passthrough</label><div class=\"sk-toggleable__content\"><pre>passthrough</pre></div></div></div></div></div></div></div></div><div class=\"sk-item\"><div class=\"sk-estimator sk-toggleable\"><input class=\"sk-toggleable__control sk-hidden--visually\" id=\"sk-estimator-id-23\" type=\"checkbox\" ><label for=\"sk-estimator-id-23\" class=\"sk-toggleable__label sk-toggleable__label-arrow\">LinearRegression</label><div class=\"sk-toggleable__content\"><pre>LinearRegression()</pre></div></div></div></div></div></div></div>"
      ],
      "text/plain": [
       "Pipeline(steps=[('columntransformer',\n",
       "                 ColumnTransformer(remainder='passthrough',\n",
       "                                   transformers=[('onehotencoder',\n",
       "                                                  OneHotEncoder(categories=[array(['Asus', 'Coolpad', 'Gionee', 'Google', 'Honor', 'Huawei', 'IQOO',\n",
       "       'Itel', 'LG', 'Lava', 'Lenovo', 'Motorola', 'Nothing', 'OnePlus',\n",
       "       'Oppo', 'Poco', 'Realme', 'Samsung', 'TCL', 'Tecno', 'Vivo',\n",
       "       'Xiaomi'], dtype=object),\n",
       "                                                                            array(['108...\n",
       "       'Quad Core'], dtype=object),\n",
       "                                                                            array(['Dimensity', 'Exynos', 'Google', 'Helio', 'Kirin', 'Octa',\n",
       "       'Qualcomm', 'Samsung', 'Snapdragon', 'Tensor', 'Tiger', 'Unisoc'],\n",
       "      dtype=object),\n",
       "                                                                            array(['Dual Sim', 'Single Sim'], dtype=object),\n",
       "                                                                            array(['No', 'Yes'], dtype=object)]),\n",
       "                                                  ['company',\n",
       "                                                   'Screen_resolution',\n",
       "                                                   'Processor',\n",
       "                                                   'Processor_name',\n",
       "                                                   'no_of_sim', 'Is_5G'])])),\n",
       "                ('linearregression', LinearRegression())])"
      ]
     },
     "execution_count": 468,
     "metadata": {},
     "output_type": "execute_result"
    }
   ],
   "source": [
    "pipe.fit(X_train,y_train)"
   ]
  },
  {
   "cell_type": "code",
   "execution_count": 469,
   "id": "69de0432-907d-4a38-a6fe-08588ae40228",
   "metadata": {},
   "outputs": [],
   "source": [
    "y_pred=pipe.predict(X_test)"
   ]
  },
  {
   "cell_type": "code",
   "execution_count": 486,
   "id": "b28db832-82ef-49ba-904e-cc4883e12898",
   "metadata": {},
   "outputs": [
    {
     "data": {
      "text/plain": [
       "0.7451583914643867"
      ]
     },
     "execution_count": 486,
     "metadata": {},
     "output_type": "execute_result"
    }
   ],
   "source": [
    "r2_score(y_test,y_pred)"
   ]
  },
  {
   "cell_type": "code",
   "execution_count": 471,
   "id": "f222e36b-9db2-49c2-9867-24c96eef5594",
   "metadata": {},
   "outputs": [],
   "source": [
    "scores=[]\n",
    "for i in range(1000):\n",
    "    X_train,X_test,y_train,y_test=train_test_split(X,y,test_size=0.1,random_state=i)\n",
    "    linear=LinearRegression()\n",
    "    pipe=make_pipeline(column_trans,linear)\n",
    "    pipe.fit(X_train,y_train)\n",
    "    y_pred=pipe.predict(X_test)\n",
    "    scores.append(r2_score(y_test,y_pred))"
   ]
  },
  {
   "cell_type": "code",
   "execution_count": 472,
   "id": "d0535b82-cf52-489d-adf7-5e2c168078ca",
   "metadata": {},
   "outputs": [
    {
     "data": {
      "text/plain": [
       "984"
      ]
     },
     "execution_count": 472,
     "metadata": {},
     "output_type": "execute_result"
    }
   ],
   "source": [
    "np.argmax(scores)"
   ]
  },
  {
   "cell_type": "code",
   "execution_count": 473,
   "id": "d66636a4-fbef-4ac1-b68a-a1fc595319eb",
   "metadata": {},
   "outputs": [
    {
     "data": {
      "text/plain": [
       "0.8482528259094505"
      ]
     },
     "execution_count": 473,
     "metadata": {},
     "output_type": "execute_result"
    }
   ],
   "source": [
    "scores[np.argmax(scores)]"
   ]
  },
  {
   "cell_type": "code",
   "execution_count": 476,
   "id": "e2ccd785-d985-4f08-ae3d-381a4ec29271",
   "metadata": {},
   "outputs": [],
   "source": [
    "from sklearn.ensemble import BaggingRegressor\n",
    "br=BaggingRegressor(n_estimators=100,bootstrap=True,bootstrap_features=False)"
   ]
  },
  {
   "cell_type": "code",
   "execution_count": 477,
   "id": "c3cb08f6-baf4-4340-8d86-eb9c315908fd",
   "metadata": {},
   "outputs": [],
   "source": [
    "pipet=make_pipeline(column_trans,br)"
   ]
  },
  {
   "cell_type": "code",
   "execution_count": 478,
   "id": "38092e61-0f00-4b3c-85a2-6090a696a1ac",
   "metadata": {},
   "outputs": [
    {
     "data": {
      "text/html": [
       "<style>#sk-container-id-6 {color: black;background-color: white;}#sk-container-id-6 pre{padding: 0;}#sk-container-id-6 div.sk-toggleable {background-color: white;}#sk-container-id-6 label.sk-toggleable__label {cursor: pointer;display: block;width: 100%;margin-bottom: 0;padding: 0.3em;box-sizing: border-box;text-align: center;}#sk-container-id-6 label.sk-toggleable__label-arrow:before {content: \"▸\";float: left;margin-right: 0.25em;color: #696969;}#sk-container-id-6 label.sk-toggleable__label-arrow:hover:before {color: black;}#sk-container-id-6 div.sk-estimator:hover label.sk-toggleable__label-arrow:before {color: black;}#sk-container-id-6 div.sk-toggleable__content {max-height: 0;max-width: 0;overflow: hidden;text-align: left;background-color: #f0f8ff;}#sk-container-id-6 div.sk-toggleable__content pre {margin: 0.2em;color: black;border-radius: 0.25em;background-color: #f0f8ff;}#sk-container-id-6 input.sk-toggleable__control:checked~div.sk-toggleable__content {max-height: 200px;max-width: 100%;overflow: auto;}#sk-container-id-6 input.sk-toggleable__control:checked~label.sk-toggleable__label-arrow:before {content: \"▾\";}#sk-container-id-6 div.sk-estimator input.sk-toggleable__control:checked~label.sk-toggleable__label {background-color: #d4ebff;}#sk-container-id-6 div.sk-label input.sk-toggleable__control:checked~label.sk-toggleable__label {background-color: #d4ebff;}#sk-container-id-6 input.sk-hidden--visually {border: 0;clip: rect(1px 1px 1px 1px);clip: rect(1px, 1px, 1px, 1px);height: 1px;margin: -1px;overflow: hidden;padding: 0;position: absolute;width: 1px;}#sk-container-id-6 div.sk-estimator {font-family: monospace;background-color: #f0f8ff;border: 1px dotted black;border-radius: 0.25em;box-sizing: border-box;margin-bottom: 0.5em;}#sk-container-id-6 div.sk-estimator:hover {background-color: #d4ebff;}#sk-container-id-6 div.sk-parallel-item::after {content: \"\";width: 100%;border-bottom: 1px solid gray;flex-grow: 1;}#sk-container-id-6 div.sk-label:hover label.sk-toggleable__label {background-color: #d4ebff;}#sk-container-id-6 div.sk-serial::before {content: \"\";position: absolute;border-left: 1px solid gray;box-sizing: border-box;top: 0;bottom: 0;left: 50%;z-index: 0;}#sk-container-id-6 div.sk-serial {display: flex;flex-direction: column;align-items: center;background-color: white;padding-right: 0.2em;padding-left: 0.2em;position: relative;}#sk-container-id-6 div.sk-item {position: relative;z-index: 1;}#sk-container-id-6 div.sk-parallel {display: flex;align-items: stretch;justify-content: center;background-color: white;position: relative;}#sk-container-id-6 div.sk-item::before, #sk-container-id-6 div.sk-parallel-item::before {content: \"\";position: absolute;border-left: 1px solid gray;box-sizing: border-box;top: 0;bottom: 0;left: 50%;z-index: -1;}#sk-container-id-6 div.sk-parallel-item {display: flex;flex-direction: column;z-index: 1;position: relative;background-color: white;}#sk-container-id-6 div.sk-parallel-item:first-child::after {align-self: flex-end;width: 50%;}#sk-container-id-6 div.sk-parallel-item:last-child::after {align-self: flex-start;width: 50%;}#sk-container-id-6 div.sk-parallel-item:only-child::after {width: 0;}#sk-container-id-6 div.sk-dashed-wrapped {border: 1px dashed gray;margin: 0 0.4em 0.5em 0.4em;box-sizing: border-box;padding-bottom: 0.4em;background-color: white;}#sk-container-id-6 div.sk-label label {font-family: monospace;font-weight: bold;display: inline-block;line-height: 1.2em;}#sk-container-id-6 div.sk-label-container {text-align: center;}#sk-container-id-6 div.sk-container {/* jupyter's `normalize.less` sets `[hidden] { display: none; }` but bootstrap.min.css set `[hidden] { display: none !important; }` so we also need the `!important` here to be able to override the default hidden behavior on the sphinx rendered scikit-learn.org. See: https://github.com/scikit-learn/scikit-learn/issues/21755 */display: inline-block !important;position: relative;}#sk-container-id-6 div.sk-text-repr-fallback {display: none;}</style><div id=\"sk-container-id-6\" class=\"sk-top-container\"><div class=\"sk-text-repr-fallback\"><pre>Pipeline(steps=[(&#x27;columntransformer&#x27;,\n",
       "                 ColumnTransformer(remainder=&#x27;passthrough&#x27;,\n",
       "                                   transformers=[(&#x27;onehotencoder&#x27;,\n",
       "                                                  OneHotEncoder(categories=[array([&#x27;Asus&#x27;, &#x27;Coolpad&#x27;, &#x27;Gionee&#x27;, &#x27;Google&#x27;, &#x27;Honor&#x27;, &#x27;Huawei&#x27;, &#x27;IQOO&#x27;,\n",
       "       &#x27;Itel&#x27;, &#x27;LG&#x27;, &#x27;Lava&#x27;, &#x27;Lenovo&#x27;, &#x27;Motorola&#x27;, &#x27;Nothing&#x27;, &#x27;OnePlus&#x27;,\n",
       "       &#x27;Oppo&#x27;, &#x27;Poco&#x27;, &#x27;Realme&#x27;, &#x27;Samsung&#x27;, &#x27;TCL&#x27;, &#x27;Tecno&#x27;, &#x27;Vivo&#x27;,\n",
       "       &#x27;Xiaomi&#x27;], dtype=object),\n",
       "                                                                            array([&#x27;108...\n",
       "                                                                            array([&#x27;Dimensity&#x27;, &#x27;Exynos&#x27;, &#x27;Google&#x27;, &#x27;Helio&#x27;, &#x27;Kirin&#x27;, &#x27;Octa&#x27;,\n",
       "       &#x27;Qualcomm&#x27;, &#x27;Samsung&#x27;, &#x27;Snapdragon&#x27;, &#x27;Tensor&#x27;, &#x27;Tiger&#x27;, &#x27;Unisoc&#x27;],\n",
       "      dtype=object),\n",
       "                                                                            array([&#x27;Dual Sim&#x27;, &#x27;Single Sim&#x27;], dtype=object),\n",
       "                                                                            array([&#x27;No&#x27;, &#x27;Yes&#x27;], dtype=object)]),\n",
       "                                                  [&#x27;company&#x27;,\n",
       "                                                   &#x27;Screen_resolution&#x27;,\n",
       "                                                   &#x27;Processor&#x27;,\n",
       "                                                   &#x27;Processor_name&#x27;,\n",
       "                                                   &#x27;no_of_sim&#x27;, &#x27;Is_5G&#x27;])])),\n",
       "                (&#x27;baggingregressor&#x27;, BaggingRegressor(n_estimators=100))])</pre><b>In a Jupyter environment, please rerun this cell to show the HTML representation or trust the notebook. <br />On GitHub, the HTML representation is unable to render, please try loading this page with nbviewer.org.</b></div><div class=\"sk-container\" hidden><div class=\"sk-item sk-dashed-wrapped\"><div class=\"sk-label-container\"><div class=\"sk-label sk-toggleable\"><input class=\"sk-toggleable__control sk-hidden--visually\" id=\"sk-estimator-id-24\" type=\"checkbox\" ><label for=\"sk-estimator-id-24\" class=\"sk-toggleable__label sk-toggleable__label-arrow\">Pipeline</label><div class=\"sk-toggleable__content\"><pre>Pipeline(steps=[(&#x27;columntransformer&#x27;,\n",
       "                 ColumnTransformer(remainder=&#x27;passthrough&#x27;,\n",
       "                                   transformers=[(&#x27;onehotencoder&#x27;,\n",
       "                                                  OneHotEncoder(categories=[array([&#x27;Asus&#x27;, &#x27;Coolpad&#x27;, &#x27;Gionee&#x27;, &#x27;Google&#x27;, &#x27;Honor&#x27;, &#x27;Huawei&#x27;, &#x27;IQOO&#x27;,\n",
       "       &#x27;Itel&#x27;, &#x27;LG&#x27;, &#x27;Lava&#x27;, &#x27;Lenovo&#x27;, &#x27;Motorola&#x27;, &#x27;Nothing&#x27;, &#x27;OnePlus&#x27;,\n",
       "       &#x27;Oppo&#x27;, &#x27;Poco&#x27;, &#x27;Realme&#x27;, &#x27;Samsung&#x27;, &#x27;TCL&#x27;, &#x27;Tecno&#x27;, &#x27;Vivo&#x27;,\n",
       "       &#x27;Xiaomi&#x27;], dtype=object),\n",
       "                                                                            array([&#x27;108...\n",
       "                                                                            array([&#x27;Dimensity&#x27;, &#x27;Exynos&#x27;, &#x27;Google&#x27;, &#x27;Helio&#x27;, &#x27;Kirin&#x27;, &#x27;Octa&#x27;,\n",
       "       &#x27;Qualcomm&#x27;, &#x27;Samsung&#x27;, &#x27;Snapdragon&#x27;, &#x27;Tensor&#x27;, &#x27;Tiger&#x27;, &#x27;Unisoc&#x27;],\n",
       "      dtype=object),\n",
       "                                                                            array([&#x27;Dual Sim&#x27;, &#x27;Single Sim&#x27;], dtype=object),\n",
       "                                                                            array([&#x27;No&#x27;, &#x27;Yes&#x27;], dtype=object)]),\n",
       "                                                  [&#x27;company&#x27;,\n",
       "                                                   &#x27;Screen_resolution&#x27;,\n",
       "                                                   &#x27;Processor&#x27;,\n",
       "                                                   &#x27;Processor_name&#x27;,\n",
       "                                                   &#x27;no_of_sim&#x27;, &#x27;Is_5G&#x27;])])),\n",
       "                (&#x27;baggingregressor&#x27;, BaggingRegressor(n_estimators=100))])</pre></div></div></div><div class=\"sk-serial\"><div class=\"sk-item sk-dashed-wrapped\"><div class=\"sk-label-container\"><div class=\"sk-label sk-toggleable\"><input class=\"sk-toggleable__control sk-hidden--visually\" id=\"sk-estimator-id-25\" type=\"checkbox\" ><label for=\"sk-estimator-id-25\" class=\"sk-toggleable__label sk-toggleable__label-arrow\">columntransformer: ColumnTransformer</label><div class=\"sk-toggleable__content\"><pre>ColumnTransformer(remainder=&#x27;passthrough&#x27;,\n",
       "                  transformers=[(&#x27;onehotencoder&#x27;,\n",
       "                                 OneHotEncoder(categories=[array([&#x27;Asus&#x27;, &#x27;Coolpad&#x27;, &#x27;Gionee&#x27;, &#x27;Google&#x27;, &#x27;Honor&#x27;, &#x27;Huawei&#x27;, &#x27;IQOO&#x27;,\n",
       "       &#x27;Itel&#x27;, &#x27;LG&#x27;, &#x27;Lava&#x27;, &#x27;Lenovo&#x27;, &#x27;Motorola&#x27;, &#x27;Nothing&#x27;, &#x27;OnePlus&#x27;,\n",
       "       &#x27;Oppo&#x27;, &#x27;Poco&#x27;, &#x27;Realme&#x27;, &#x27;Samsung&#x27;, &#x27;TCL&#x27;, &#x27;Tecno&#x27;, &#x27;Vivo&#x27;,\n",
       "       &#x27;Xiaomi&#x27;], dtype=object),\n",
       "                                                           array([&#x27;1080 x 2400&#x27;, &#x27;1260 x 2800&#x27;, &#x27;1800 x 3440&#x27;, &#x27;480 x...\n",
       "                                                           array([&#x27;1.6 GHz Processor&#x27;, &#x27;Deca Core&#x27;, &#x27;Nine Core&#x27;, &#x27;Octa Core&#x27;,\n",
       "       &#x27;Quad Core&#x27;], dtype=object),\n",
       "                                                           array([&#x27;Dimensity&#x27;, &#x27;Exynos&#x27;, &#x27;Google&#x27;, &#x27;Helio&#x27;, &#x27;Kirin&#x27;, &#x27;Octa&#x27;,\n",
       "       &#x27;Qualcomm&#x27;, &#x27;Samsung&#x27;, &#x27;Snapdragon&#x27;, &#x27;Tensor&#x27;, &#x27;Tiger&#x27;, &#x27;Unisoc&#x27;],\n",
       "      dtype=object),\n",
       "                                                           array([&#x27;Dual Sim&#x27;, &#x27;Single Sim&#x27;], dtype=object),\n",
       "                                                           array([&#x27;No&#x27;, &#x27;Yes&#x27;], dtype=object)]),\n",
       "                                 [&#x27;company&#x27;, &#x27;Screen_resolution&#x27;, &#x27;Processor&#x27;,\n",
       "                                  &#x27;Processor_name&#x27;, &#x27;no_of_sim&#x27;, &#x27;Is_5G&#x27;])])</pre></div></div></div><div class=\"sk-parallel\"><div class=\"sk-parallel-item\"><div class=\"sk-item\"><div class=\"sk-label-container\"><div class=\"sk-label sk-toggleable\"><input class=\"sk-toggleable__control sk-hidden--visually\" id=\"sk-estimator-id-26\" type=\"checkbox\" ><label for=\"sk-estimator-id-26\" class=\"sk-toggleable__label sk-toggleable__label-arrow\">onehotencoder</label><div class=\"sk-toggleable__content\"><pre>[&#x27;company&#x27;, &#x27;Screen_resolution&#x27;, &#x27;Processor&#x27;, &#x27;Processor_name&#x27;, &#x27;no_of_sim&#x27;, &#x27;Is_5G&#x27;]</pre></div></div></div><div class=\"sk-serial\"><div class=\"sk-item\"><div class=\"sk-estimator sk-toggleable\"><input class=\"sk-toggleable__control sk-hidden--visually\" id=\"sk-estimator-id-27\" type=\"checkbox\" ><label for=\"sk-estimator-id-27\" class=\"sk-toggleable__label sk-toggleable__label-arrow\">OneHotEncoder</label><div class=\"sk-toggleable__content\"><pre>OneHotEncoder(categories=[array([&#x27;Asus&#x27;, &#x27;Coolpad&#x27;, &#x27;Gionee&#x27;, &#x27;Google&#x27;, &#x27;Honor&#x27;, &#x27;Huawei&#x27;, &#x27;IQOO&#x27;,\n",
       "       &#x27;Itel&#x27;, &#x27;LG&#x27;, &#x27;Lava&#x27;, &#x27;Lenovo&#x27;, &#x27;Motorola&#x27;, &#x27;Nothing&#x27;, &#x27;OnePlus&#x27;,\n",
       "       &#x27;Oppo&#x27;, &#x27;Poco&#x27;, &#x27;Realme&#x27;, &#x27;Samsung&#x27;, &#x27;TCL&#x27;, &#x27;Tecno&#x27;, &#x27;Vivo&#x27;,\n",
       "       &#x27;Xiaomi&#x27;], dtype=object),\n",
       "                          array([&#x27;1080 x 2400&#x27;, &#x27;1260 x 2800&#x27;, &#x27;1800 x 3440&#x27;, &#x27;480 x 960&#x27;],\n",
       "      dtype=object),\n",
       "                          array([&#x27;1.6 GHz Processor&#x27;, &#x27;Deca Core&#x27;, &#x27;Nine Core&#x27;, &#x27;Octa Core&#x27;,\n",
       "       &#x27;Quad Core&#x27;], dtype=object),\n",
       "                          array([&#x27;Dimensity&#x27;, &#x27;Exynos&#x27;, &#x27;Google&#x27;, &#x27;Helio&#x27;, &#x27;Kirin&#x27;, &#x27;Octa&#x27;,\n",
       "       &#x27;Qualcomm&#x27;, &#x27;Samsung&#x27;, &#x27;Snapdragon&#x27;, &#x27;Tensor&#x27;, &#x27;Tiger&#x27;, &#x27;Unisoc&#x27;],\n",
       "      dtype=object),\n",
       "                          array([&#x27;Dual Sim&#x27;, &#x27;Single Sim&#x27;], dtype=object),\n",
       "                          array([&#x27;No&#x27;, &#x27;Yes&#x27;], dtype=object)])</pre></div></div></div></div></div></div><div class=\"sk-parallel-item\"><div class=\"sk-item\"><div class=\"sk-label-container\"><div class=\"sk-label sk-toggleable\"><input class=\"sk-toggleable__control sk-hidden--visually\" id=\"sk-estimator-id-28\" type=\"checkbox\" ><label for=\"sk-estimator-id-28\" class=\"sk-toggleable__label sk-toggleable__label-arrow\">remainder</label><div class=\"sk-toggleable__content\"><pre>[&#x27;Ram&#x27;, &#x27;Battery&#x27;, &#x27;Display&#x27;, &#x27;Inbuilt_memory&#x27;, &#x27;fast_charging&#x27;, &#x27;rear&#x27;, &#x27;front&#x27;]</pre></div></div></div><div class=\"sk-serial\"><div class=\"sk-item\"><div class=\"sk-estimator sk-toggleable\"><input class=\"sk-toggleable__control sk-hidden--visually\" id=\"sk-estimator-id-29\" type=\"checkbox\" ><label for=\"sk-estimator-id-29\" class=\"sk-toggleable__label sk-toggleable__label-arrow\">passthrough</label><div class=\"sk-toggleable__content\"><pre>passthrough</pre></div></div></div></div></div></div></div></div><div class=\"sk-item\"><div class=\"sk-estimator sk-toggleable\"><input class=\"sk-toggleable__control sk-hidden--visually\" id=\"sk-estimator-id-30\" type=\"checkbox\" ><label for=\"sk-estimator-id-30\" class=\"sk-toggleable__label sk-toggleable__label-arrow\">BaggingRegressor</label><div class=\"sk-toggleable__content\"><pre>BaggingRegressor(n_estimators=100)</pre></div></div></div></div></div></div></div>"
      ],
      "text/plain": [
       "Pipeline(steps=[('columntransformer',\n",
       "                 ColumnTransformer(remainder='passthrough',\n",
       "                                   transformers=[('onehotencoder',\n",
       "                                                  OneHotEncoder(categories=[array(['Asus', 'Coolpad', 'Gionee', 'Google', 'Honor', 'Huawei', 'IQOO',\n",
       "       'Itel', 'LG', 'Lava', 'Lenovo', 'Motorola', 'Nothing', 'OnePlus',\n",
       "       'Oppo', 'Poco', 'Realme', 'Samsung', 'TCL', 'Tecno', 'Vivo',\n",
       "       'Xiaomi'], dtype=object),\n",
       "                                                                            array(['108...\n",
       "                                                                            array(['Dimensity', 'Exynos', 'Google', 'Helio', 'Kirin', 'Octa',\n",
       "       'Qualcomm', 'Samsung', 'Snapdragon', 'Tensor', 'Tiger', 'Unisoc'],\n",
       "      dtype=object),\n",
       "                                                                            array(['Dual Sim', 'Single Sim'], dtype=object),\n",
       "                                                                            array(['No', 'Yes'], dtype=object)]),\n",
       "                                                  ['company',\n",
       "                                                   'Screen_resolution',\n",
       "                                                   'Processor',\n",
       "                                                   'Processor_name',\n",
       "                                                   'no_of_sim', 'Is_5G'])])),\n",
       "                ('baggingregressor', BaggingRegressor(n_estimators=100))])"
      ]
     },
     "execution_count": 478,
     "metadata": {},
     "output_type": "execute_result"
    }
   ],
   "source": [
    "pipet.fit(X_train,y_train)"
   ]
  },
  {
   "cell_type": "code",
   "execution_count": 479,
   "id": "c630c9f5-c318-451d-8114-addeb2ba7740",
   "metadata": {},
   "outputs": [],
   "source": [
    "y_predt=pipet.predict(X_test)"
   ]
  },
  {
   "cell_type": "code",
   "execution_count": 488,
   "id": "1b01a219-a717-4be6-95ac-dbc45945a1a2",
   "metadata": {},
   "outputs": [
    {
     "data": {
      "text/plain": [
       "0.8185286270735763"
      ]
     },
     "execution_count": 488,
     "metadata": {},
     "output_type": "execute_result"
    }
   ],
   "source": [
    "r2_score(y_test,y_predt)"
   ]
  },
  {
   "cell_type": "code",
   "execution_count": 481,
   "id": "9390529a-35dd-4f65-837d-1d853854f990",
   "metadata": {},
   "outputs": [],
   "source": [
    "from sklearn.ensemble import RandomForestRegressor\n",
    "\n",
    "rf=RandomForestRegressor(n_estimators=100,bootstrap=True,oob_score=True,min_samples_split=25)"
   ]
  },
  {
   "cell_type": "code",
   "execution_count": 482,
   "id": "8830e452-e85e-4019-821e-1514b20c5710",
   "metadata": {},
   "outputs": [],
   "source": [
    "piper=make_pipeline(column_trans,rf)"
   ]
  },
  {
   "cell_type": "code",
   "execution_count": 483,
   "id": "3400a65c-6d15-4d17-8992-ba5eab8885d3",
   "metadata": {},
   "outputs": [
    {
     "data": {
      "text/html": [
       "<style>#sk-container-id-7 {color: black;background-color: white;}#sk-container-id-7 pre{padding: 0;}#sk-container-id-7 div.sk-toggleable {background-color: white;}#sk-container-id-7 label.sk-toggleable__label {cursor: pointer;display: block;width: 100%;margin-bottom: 0;padding: 0.3em;box-sizing: border-box;text-align: center;}#sk-container-id-7 label.sk-toggleable__label-arrow:before {content: \"▸\";float: left;margin-right: 0.25em;color: #696969;}#sk-container-id-7 label.sk-toggleable__label-arrow:hover:before {color: black;}#sk-container-id-7 div.sk-estimator:hover label.sk-toggleable__label-arrow:before {color: black;}#sk-container-id-7 div.sk-toggleable__content {max-height: 0;max-width: 0;overflow: hidden;text-align: left;background-color: #f0f8ff;}#sk-container-id-7 div.sk-toggleable__content pre {margin: 0.2em;color: black;border-radius: 0.25em;background-color: #f0f8ff;}#sk-container-id-7 input.sk-toggleable__control:checked~div.sk-toggleable__content {max-height: 200px;max-width: 100%;overflow: auto;}#sk-container-id-7 input.sk-toggleable__control:checked~label.sk-toggleable__label-arrow:before {content: \"▾\";}#sk-container-id-7 div.sk-estimator input.sk-toggleable__control:checked~label.sk-toggleable__label {background-color: #d4ebff;}#sk-container-id-7 div.sk-label input.sk-toggleable__control:checked~label.sk-toggleable__label {background-color: #d4ebff;}#sk-container-id-7 input.sk-hidden--visually {border: 0;clip: rect(1px 1px 1px 1px);clip: rect(1px, 1px, 1px, 1px);height: 1px;margin: -1px;overflow: hidden;padding: 0;position: absolute;width: 1px;}#sk-container-id-7 div.sk-estimator {font-family: monospace;background-color: #f0f8ff;border: 1px dotted black;border-radius: 0.25em;box-sizing: border-box;margin-bottom: 0.5em;}#sk-container-id-7 div.sk-estimator:hover {background-color: #d4ebff;}#sk-container-id-7 div.sk-parallel-item::after {content: \"\";width: 100%;border-bottom: 1px solid gray;flex-grow: 1;}#sk-container-id-7 div.sk-label:hover label.sk-toggleable__label {background-color: #d4ebff;}#sk-container-id-7 div.sk-serial::before {content: \"\";position: absolute;border-left: 1px solid gray;box-sizing: border-box;top: 0;bottom: 0;left: 50%;z-index: 0;}#sk-container-id-7 div.sk-serial {display: flex;flex-direction: column;align-items: center;background-color: white;padding-right: 0.2em;padding-left: 0.2em;position: relative;}#sk-container-id-7 div.sk-item {position: relative;z-index: 1;}#sk-container-id-7 div.sk-parallel {display: flex;align-items: stretch;justify-content: center;background-color: white;position: relative;}#sk-container-id-7 div.sk-item::before, #sk-container-id-7 div.sk-parallel-item::before {content: \"\";position: absolute;border-left: 1px solid gray;box-sizing: border-box;top: 0;bottom: 0;left: 50%;z-index: -1;}#sk-container-id-7 div.sk-parallel-item {display: flex;flex-direction: column;z-index: 1;position: relative;background-color: white;}#sk-container-id-7 div.sk-parallel-item:first-child::after {align-self: flex-end;width: 50%;}#sk-container-id-7 div.sk-parallel-item:last-child::after {align-self: flex-start;width: 50%;}#sk-container-id-7 div.sk-parallel-item:only-child::after {width: 0;}#sk-container-id-7 div.sk-dashed-wrapped {border: 1px dashed gray;margin: 0 0.4em 0.5em 0.4em;box-sizing: border-box;padding-bottom: 0.4em;background-color: white;}#sk-container-id-7 div.sk-label label {font-family: monospace;font-weight: bold;display: inline-block;line-height: 1.2em;}#sk-container-id-7 div.sk-label-container {text-align: center;}#sk-container-id-7 div.sk-container {/* jupyter's `normalize.less` sets `[hidden] { display: none; }` but bootstrap.min.css set `[hidden] { display: none !important; }` so we also need the `!important` here to be able to override the default hidden behavior on the sphinx rendered scikit-learn.org. See: https://github.com/scikit-learn/scikit-learn/issues/21755 */display: inline-block !important;position: relative;}#sk-container-id-7 div.sk-text-repr-fallback {display: none;}</style><div id=\"sk-container-id-7\" class=\"sk-top-container\"><div class=\"sk-text-repr-fallback\"><pre>Pipeline(steps=[(&#x27;columntransformer&#x27;,\n",
       "                 ColumnTransformer(remainder=&#x27;passthrough&#x27;,\n",
       "                                   transformers=[(&#x27;onehotencoder&#x27;,\n",
       "                                                  OneHotEncoder(categories=[array([&#x27;Asus&#x27;, &#x27;Coolpad&#x27;, &#x27;Gionee&#x27;, &#x27;Google&#x27;, &#x27;Honor&#x27;, &#x27;Huawei&#x27;, &#x27;IQOO&#x27;,\n",
       "       &#x27;Itel&#x27;, &#x27;LG&#x27;, &#x27;Lava&#x27;, &#x27;Lenovo&#x27;, &#x27;Motorola&#x27;, &#x27;Nothing&#x27;, &#x27;OnePlus&#x27;,\n",
       "       &#x27;Oppo&#x27;, &#x27;Poco&#x27;, &#x27;Realme&#x27;, &#x27;Samsung&#x27;, &#x27;TCL&#x27;, &#x27;Tecno&#x27;, &#x27;Vivo&#x27;,\n",
       "       &#x27;Xiaomi&#x27;], dtype=object),\n",
       "                                                                            array([&#x27;108...\n",
       "                                                                            array([&#x27;Dimensity&#x27;, &#x27;Exynos&#x27;, &#x27;Google&#x27;, &#x27;Helio&#x27;, &#x27;Kirin&#x27;, &#x27;Octa&#x27;,\n",
       "       &#x27;Qualcomm&#x27;, &#x27;Samsung&#x27;, &#x27;Snapdragon&#x27;, &#x27;Tensor&#x27;, &#x27;Tiger&#x27;, &#x27;Unisoc&#x27;],\n",
       "      dtype=object),\n",
       "                                                                            array([&#x27;Dual Sim&#x27;, &#x27;Single Sim&#x27;], dtype=object),\n",
       "                                                                            array([&#x27;No&#x27;, &#x27;Yes&#x27;], dtype=object)]),\n",
       "                                                  [&#x27;company&#x27;,\n",
       "                                                   &#x27;Screen_resolution&#x27;,\n",
       "                                                   &#x27;Processor&#x27;,\n",
       "                                                   &#x27;Processor_name&#x27;,\n",
       "                                                   &#x27;no_of_sim&#x27;, &#x27;Is_5G&#x27;])])),\n",
       "                (&#x27;randomforestregressor&#x27;,\n",
       "                 RandomForestRegressor(min_samples_split=25, oob_score=True))])</pre><b>In a Jupyter environment, please rerun this cell to show the HTML representation or trust the notebook. <br />On GitHub, the HTML representation is unable to render, please try loading this page with nbviewer.org.</b></div><div class=\"sk-container\" hidden><div class=\"sk-item sk-dashed-wrapped\"><div class=\"sk-label-container\"><div class=\"sk-label sk-toggleable\"><input class=\"sk-toggleable__control sk-hidden--visually\" id=\"sk-estimator-id-31\" type=\"checkbox\" ><label for=\"sk-estimator-id-31\" class=\"sk-toggleable__label sk-toggleable__label-arrow\">Pipeline</label><div class=\"sk-toggleable__content\"><pre>Pipeline(steps=[(&#x27;columntransformer&#x27;,\n",
       "                 ColumnTransformer(remainder=&#x27;passthrough&#x27;,\n",
       "                                   transformers=[(&#x27;onehotencoder&#x27;,\n",
       "                                                  OneHotEncoder(categories=[array([&#x27;Asus&#x27;, &#x27;Coolpad&#x27;, &#x27;Gionee&#x27;, &#x27;Google&#x27;, &#x27;Honor&#x27;, &#x27;Huawei&#x27;, &#x27;IQOO&#x27;,\n",
       "       &#x27;Itel&#x27;, &#x27;LG&#x27;, &#x27;Lava&#x27;, &#x27;Lenovo&#x27;, &#x27;Motorola&#x27;, &#x27;Nothing&#x27;, &#x27;OnePlus&#x27;,\n",
       "       &#x27;Oppo&#x27;, &#x27;Poco&#x27;, &#x27;Realme&#x27;, &#x27;Samsung&#x27;, &#x27;TCL&#x27;, &#x27;Tecno&#x27;, &#x27;Vivo&#x27;,\n",
       "       &#x27;Xiaomi&#x27;], dtype=object),\n",
       "                                                                            array([&#x27;108...\n",
       "                                                                            array([&#x27;Dimensity&#x27;, &#x27;Exynos&#x27;, &#x27;Google&#x27;, &#x27;Helio&#x27;, &#x27;Kirin&#x27;, &#x27;Octa&#x27;,\n",
       "       &#x27;Qualcomm&#x27;, &#x27;Samsung&#x27;, &#x27;Snapdragon&#x27;, &#x27;Tensor&#x27;, &#x27;Tiger&#x27;, &#x27;Unisoc&#x27;],\n",
       "      dtype=object),\n",
       "                                                                            array([&#x27;Dual Sim&#x27;, &#x27;Single Sim&#x27;], dtype=object),\n",
       "                                                                            array([&#x27;No&#x27;, &#x27;Yes&#x27;], dtype=object)]),\n",
       "                                                  [&#x27;company&#x27;,\n",
       "                                                   &#x27;Screen_resolution&#x27;,\n",
       "                                                   &#x27;Processor&#x27;,\n",
       "                                                   &#x27;Processor_name&#x27;,\n",
       "                                                   &#x27;no_of_sim&#x27;, &#x27;Is_5G&#x27;])])),\n",
       "                (&#x27;randomforestregressor&#x27;,\n",
       "                 RandomForestRegressor(min_samples_split=25, oob_score=True))])</pre></div></div></div><div class=\"sk-serial\"><div class=\"sk-item sk-dashed-wrapped\"><div class=\"sk-label-container\"><div class=\"sk-label sk-toggleable\"><input class=\"sk-toggleable__control sk-hidden--visually\" id=\"sk-estimator-id-32\" type=\"checkbox\" ><label for=\"sk-estimator-id-32\" class=\"sk-toggleable__label sk-toggleable__label-arrow\">columntransformer: ColumnTransformer</label><div class=\"sk-toggleable__content\"><pre>ColumnTransformer(remainder=&#x27;passthrough&#x27;,\n",
       "                  transformers=[(&#x27;onehotencoder&#x27;,\n",
       "                                 OneHotEncoder(categories=[array([&#x27;Asus&#x27;, &#x27;Coolpad&#x27;, &#x27;Gionee&#x27;, &#x27;Google&#x27;, &#x27;Honor&#x27;, &#x27;Huawei&#x27;, &#x27;IQOO&#x27;,\n",
       "       &#x27;Itel&#x27;, &#x27;LG&#x27;, &#x27;Lava&#x27;, &#x27;Lenovo&#x27;, &#x27;Motorola&#x27;, &#x27;Nothing&#x27;, &#x27;OnePlus&#x27;,\n",
       "       &#x27;Oppo&#x27;, &#x27;Poco&#x27;, &#x27;Realme&#x27;, &#x27;Samsung&#x27;, &#x27;TCL&#x27;, &#x27;Tecno&#x27;, &#x27;Vivo&#x27;,\n",
       "       &#x27;Xiaomi&#x27;], dtype=object),\n",
       "                                                           array([&#x27;1080 x 2400&#x27;, &#x27;1260 x 2800&#x27;, &#x27;1800 x 3440&#x27;, &#x27;480 x...\n",
       "                                                           array([&#x27;1.6 GHz Processor&#x27;, &#x27;Deca Core&#x27;, &#x27;Nine Core&#x27;, &#x27;Octa Core&#x27;,\n",
       "       &#x27;Quad Core&#x27;], dtype=object),\n",
       "                                                           array([&#x27;Dimensity&#x27;, &#x27;Exynos&#x27;, &#x27;Google&#x27;, &#x27;Helio&#x27;, &#x27;Kirin&#x27;, &#x27;Octa&#x27;,\n",
       "       &#x27;Qualcomm&#x27;, &#x27;Samsung&#x27;, &#x27;Snapdragon&#x27;, &#x27;Tensor&#x27;, &#x27;Tiger&#x27;, &#x27;Unisoc&#x27;],\n",
       "      dtype=object),\n",
       "                                                           array([&#x27;Dual Sim&#x27;, &#x27;Single Sim&#x27;], dtype=object),\n",
       "                                                           array([&#x27;No&#x27;, &#x27;Yes&#x27;], dtype=object)]),\n",
       "                                 [&#x27;company&#x27;, &#x27;Screen_resolution&#x27;, &#x27;Processor&#x27;,\n",
       "                                  &#x27;Processor_name&#x27;, &#x27;no_of_sim&#x27;, &#x27;Is_5G&#x27;])])</pre></div></div></div><div class=\"sk-parallel\"><div class=\"sk-parallel-item\"><div class=\"sk-item\"><div class=\"sk-label-container\"><div class=\"sk-label sk-toggleable\"><input class=\"sk-toggleable__control sk-hidden--visually\" id=\"sk-estimator-id-33\" type=\"checkbox\" ><label for=\"sk-estimator-id-33\" class=\"sk-toggleable__label sk-toggleable__label-arrow\">onehotencoder</label><div class=\"sk-toggleable__content\"><pre>[&#x27;company&#x27;, &#x27;Screen_resolution&#x27;, &#x27;Processor&#x27;, &#x27;Processor_name&#x27;, &#x27;no_of_sim&#x27;, &#x27;Is_5G&#x27;]</pre></div></div></div><div class=\"sk-serial\"><div class=\"sk-item\"><div class=\"sk-estimator sk-toggleable\"><input class=\"sk-toggleable__control sk-hidden--visually\" id=\"sk-estimator-id-34\" type=\"checkbox\" ><label for=\"sk-estimator-id-34\" class=\"sk-toggleable__label sk-toggleable__label-arrow\">OneHotEncoder</label><div class=\"sk-toggleable__content\"><pre>OneHotEncoder(categories=[array([&#x27;Asus&#x27;, &#x27;Coolpad&#x27;, &#x27;Gionee&#x27;, &#x27;Google&#x27;, &#x27;Honor&#x27;, &#x27;Huawei&#x27;, &#x27;IQOO&#x27;,\n",
       "       &#x27;Itel&#x27;, &#x27;LG&#x27;, &#x27;Lava&#x27;, &#x27;Lenovo&#x27;, &#x27;Motorola&#x27;, &#x27;Nothing&#x27;, &#x27;OnePlus&#x27;,\n",
       "       &#x27;Oppo&#x27;, &#x27;Poco&#x27;, &#x27;Realme&#x27;, &#x27;Samsung&#x27;, &#x27;TCL&#x27;, &#x27;Tecno&#x27;, &#x27;Vivo&#x27;,\n",
       "       &#x27;Xiaomi&#x27;], dtype=object),\n",
       "                          array([&#x27;1080 x 2400&#x27;, &#x27;1260 x 2800&#x27;, &#x27;1800 x 3440&#x27;, &#x27;480 x 960&#x27;],\n",
       "      dtype=object),\n",
       "                          array([&#x27;1.6 GHz Processor&#x27;, &#x27;Deca Core&#x27;, &#x27;Nine Core&#x27;, &#x27;Octa Core&#x27;,\n",
       "       &#x27;Quad Core&#x27;], dtype=object),\n",
       "                          array([&#x27;Dimensity&#x27;, &#x27;Exynos&#x27;, &#x27;Google&#x27;, &#x27;Helio&#x27;, &#x27;Kirin&#x27;, &#x27;Octa&#x27;,\n",
       "       &#x27;Qualcomm&#x27;, &#x27;Samsung&#x27;, &#x27;Snapdragon&#x27;, &#x27;Tensor&#x27;, &#x27;Tiger&#x27;, &#x27;Unisoc&#x27;],\n",
       "      dtype=object),\n",
       "                          array([&#x27;Dual Sim&#x27;, &#x27;Single Sim&#x27;], dtype=object),\n",
       "                          array([&#x27;No&#x27;, &#x27;Yes&#x27;], dtype=object)])</pre></div></div></div></div></div></div><div class=\"sk-parallel-item\"><div class=\"sk-item\"><div class=\"sk-label-container\"><div class=\"sk-label sk-toggleable\"><input class=\"sk-toggleable__control sk-hidden--visually\" id=\"sk-estimator-id-35\" type=\"checkbox\" ><label for=\"sk-estimator-id-35\" class=\"sk-toggleable__label sk-toggleable__label-arrow\">remainder</label><div class=\"sk-toggleable__content\"><pre>[&#x27;Ram&#x27;, &#x27;Battery&#x27;, &#x27;Display&#x27;, &#x27;Inbuilt_memory&#x27;, &#x27;fast_charging&#x27;, &#x27;rear&#x27;, &#x27;front&#x27;]</pre></div></div></div><div class=\"sk-serial\"><div class=\"sk-item\"><div class=\"sk-estimator sk-toggleable\"><input class=\"sk-toggleable__control sk-hidden--visually\" id=\"sk-estimator-id-36\" type=\"checkbox\" ><label for=\"sk-estimator-id-36\" class=\"sk-toggleable__label sk-toggleable__label-arrow\">passthrough</label><div class=\"sk-toggleable__content\"><pre>passthrough</pre></div></div></div></div></div></div></div></div><div class=\"sk-item\"><div class=\"sk-estimator sk-toggleable\"><input class=\"sk-toggleable__control sk-hidden--visually\" id=\"sk-estimator-id-37\" type=\"checkbox\" ><label for=\"sk-estimator-id-37\" class=\"sk-toggleable__label sk-toggleable__label-arrow\">RandomForestRegressor</label><div class=\"sk-toggleable__content\"><pre>RandomForestRegressor(min_samples_split=25, oob_score=True)</pre></div></div></div></div></div></div></div>"
      ],
      "text/plain": [
       "Pipeline(steps=[('columntransformer',\n",
       "                 ColumnTransformer(remainder='passthrough',\n",
       "                                   transformers=[('onehotencoder',\n",
       "                                                  OneHotEncoder(categories=[array(['Asus', 'Coolpad', 'Gionee', 'Google', 'Honor', 'Huawei', 'IQOO',\n",
       "       'Itel', 'LG', 'Lava', 'Lenovo', 'Motorola', 'Nothing', 'OnePlus',\n",
       "       'Oppo', 'Poco', 'Realme', 'Samsung', 'TCL', 'Tecno', 'Vivo',\n",
       "       'Xiaomi'], dtype=object),\n",
       "                                                                            array(['108...\n",
       "                                                                            array(['Dimensity', 'Exynos', 'Google', 'Helio', 'Kirin', 'Octa',\n",
       "       'Qualcomm', 'Samsung', 'Snapdragon', 'Tensor', 'Tiger', 'Unisoc'],\n",
       "      dtype=object),\n",
       "                                                                            array(['Dual Sim', 'Single Sim'], dtype=object),\n",
       "                                                                            array(['No', 'Yes'], dtype=object)]),\n",
       "                                                  ['company',\n",
       "                                                   'Screen_resolution',\n",
       "                                                   'Processor',\n",
       "                                                   'Processor_name',\n",
       "                                                   'no_of_sim', 'Is_5G'])])),\n",
       "                ('randomforestregressor',\n",
       "                 RandomForestRegressor(min_samples_split=25, oob_score=True))])"
      ]
     },
     "execution_count": 483,
     "metadata": {},
     "output_type": "execute_result"
    }
   ],
   "source": [
    "piper.fit(X_train,y_train)"
   ]
  },
  {
   "cell_type": "code",
   "execution_count": 484,
   "id": "ffd9bad4-4bca-47e3-a1d3-07c4f5439211",
   "metadata": {},
   "outputs": [],
   "source": [
    "y_predr=piper.predict(X_test)"
   ]
  },
  {
   "cell_type": "code",
   "execution_count": 487,
   "id": "f8a49c8a-9f41-4319-9ff0-f30a1e6ab57c",
   "metadata": {},
   "outputs": [
    {
     "data": {
      "text/plain": [
       "0.792159330639445"
      ]
     },
     "execution_count": 487,
     "metadata": {},
     "output_type": "execute_result"
    }
   ],
   "source": [
    "r2_score(y_test,y_predr)"
   ]
  },
  {
   "cell_type": "code",
   "execution_count": 504,
   "id": "2816dafd-c6a8-4302-b6fd-11344eeb1e8a",
   "metadata": {},
   "outputs": [],
   "source": [
    "sc=[]\n",
    "random_states = []"
   ]
  },
  {
   "cell_type": "code",
   "execution_count": 506,
   "id": "bd35b2bd-3172-4df4-8f16-4baa495d7037",
   "metadata": {},
   "outputs": [
    {
     "name": "stdout",
     "output_type": "stream",
     "text": [
      "Iteration 1/100, R^2 score: 0.804821525234287\n",
      "Iteration 2/100, R^2 score: 0.8156693043064066\n",
      "Iteration 3/100, R^2 score: 0.8050463242365132\n",
      "Iteration 4/100, R^2 score: 0.8312172440019219\n",
      "Iteration 5/100, R^2 score: 0.8152457127484546\n",
      "Iteration 6/100, R^2 score: 0.8164389452301417\n",
      "Iteration 7/100, R^2 score: 0.7912513819166229\n",
      "Iteration 8/100, R^2 score: 0.7856436538710992\n",
      "Iteration 9/100, R^2 score: 0.615756410303032\n",
      "Iteration 10/100, R^2 score: 0.8196102365715877\n",
      "Iteration 11/100, R^2 score: 0.7900947475674519\n",
      "Iteration 12/100, R^2 score: 0.7443574645168449\n",
      "Iteration 13/100, R^2 score: 0.8024726917888059\n",
      "Iteration 14/100, R^2 score: 0.8889400149447537\n",
      "Iteration 15/100, R^2 score: 0.85241755080524\n",
      "Iteration 16/100, R^2 score: 0.8414038389654389\n",
      "Iteration 17/100, R^2 score: 0.8408547510410496\n",
      "Iteration 18/100, R^2 score: 0.8243159741324285\n",
      "Iteration 19/100, R^2 score: 0.8229682498597409\n",
      "Iteration 20/100, R^2 score: 0.8261510069532493\n",
      "Iteration 21/100, R^2 score: 0.8313034192765915\n",
      "Iteration 22/100, R^2 score: 0.6127659518565853\n",
      "Iteration 23/100, R^2 score: 0.8221156365827693\n",
      "Iteration 24/100, R^2 score: 0.8596202001910696\n",
      "Iteration 25/100, R^2 score: 0.7892513716109424\n",
      "Iteration 26/100, R^2 score: 0.7773798619397366\n",
      "Iteration 27/100, R^2 score: 0.7612959036233996\n",
      "Iteration 28/100, R^2 score: 0.7016205687696837\n",
      "Iteration 29/100, R^2 score: 0.8363389543564723\n",
      "Iteration 30/100, R^2 score: 0.7537340287140399\n",
      "Iteration 31/100, R^2 score: 0.8620602661163268\n",
      "Iteration 32/100, R^2 score: 0.8059827517023289\n",
      "Iteration 33/100, R^2 score: 0.7916668162479471\n",
      "Iteration 34/100, R^2 score: 0.8126242460925438\n",
      "Iteration 35/100, R^2 score: 0.6834770988429398\n",
      "Iteration 36/100, R^2 score: 0.833336814829355\n",
      "Iteration 37/100, R^2 score: 0.78822276253311\n",
      "Iteration 38/100, R^2 score: 0.7389290987827394\n",
      "Iteration 39/100, R^2 score: 0.6978364534865608\n",
      "Iteration 40/100, R^2 score: 0.6828358396498091\n",
      "Iteration 41/100, R^2 score: 0.9161052673147663\n",
      "Iteration 42/100, R^2 score: 0.8774724167805007\n",
      "Iteration 43/100, R^2 score: 0.8806878319065671\n",
      "Iteration 44/100, R^2 score: 0.8621072200768983\n",
      "Iteration 45/100, R^2 score: 0.776056791064939\n",
      "Iteration 46/100, R^2 score: 0.8161979029757379\n",
      "Iteration 47/100, R^2 score: 0.8835185715090452\n",
      "Iteration 48/100, R^2 score: 0.8638306703697991\n",
      "Iteration 49/100, R^2 score: 0.8222672954709597\n",
      "Iteration 50/100, R^2 score: 0.8375445623655183\n",
      "Iteration 51/100, R^2 score: 0.709943555882695\n",
      "Iteration 52/100, R^2 score: 0.8192968987134249\n",
      "Iteration 53/100, R^2 score: 0.828906393724393\n",
      "Iteration 54/100, R^2 score: 0.7683062984208041\n",
      "Iteration 55/100, R^2 score: 0.8585906547031116\n",
      "Iteration 56/100, R^2 score: 0.8701310404055734\n",
      "Iteration 57/100, R^2 score: 0.8627955117364758\n",
      "Iteration 58/100, R^2 score: 0.834812877576484\n",
      "Iteration 59/100, R^2 score: 0.7796931164992844\n",
      "Iteration 60/100, R^2 score: 0.8443143656412615\n",
      "Iteration 61/100, R^2 score: 0.8199651345950766\n",
      "Iteration 62/100, R^2 score: 0.7387683480924099\n",
      "Iteration 63/100, R^2 score: 0.8360897272295372\n",
      "Iteration 64/100, R^2 score: 0.787741505772136\n",
      "Iteration 65/100, R^2 score: 0.825976723334127\n",
      "Iteration 66/100, R^2 score: 0.8135687946064504\n",
      "Iteration 67/100, R^2 score: 0.7772878597952577\n",
      "Iteration 68/100, R^2 score: 0.8387700758470735\n",
      "Iteration 69/100, R^2 score: 0.7460411992344829\n",
      "Iteration 70/100, R^2 score: 0.8276927088751631\n",
      "Iteration 71/100, R^2 score: 0.7754229468469567\n",
      "Iteration 72/100, R^2 score: 0.7792888285808406\n",
      "Iteration 73/100, R^2 score: 0.8108876072789171\n",
      "Iteration 74/100, R^2 score: 0.7119013818581623\n",
      "Iteration 75/100, R^2 score: 0.8742001819282539\n",
      "Iteration 76/100, R^2 score: 0.8249837612324009\n",
      "Iteration 77/100, R^2 score: 0.8086668630281972\n",
      "Iteration 78/100, R^2 score: 0.8688308521905486\n",
      "Iteration 79/100, R^2 score: 0.7709840693237615\n",
      "Iteration 80/100, R^2 score: 0.692343878794843\n",
      "Iteration 81/100, R^2 score: 0.8304199043409036\n",
      "Iteration 82/100, R^2 score: 0.8041609275356172\n",
      "Iteration 83/100, R^2 score: 0.7751511851716553\n",
      "Iteration 84/100, R^2 score: 0.8326350066881995\n",
      "Iteration 85/100, R^2 score: 0.8724874340464578\n",
      "Iteration 86/100, R^2 score: 0.7489362478339798\n",
      "Iteration 87/100, R^2 score: 0.8940537129070254\n",
      "Iteration 88/100, R^2 score: 0.8734952319787708\n",
      "Iteration 89/100, R^2 score: 0.8333625156747007\n",
      "Iteration 90/100, R^2 score: 0.7249856014288916\n",
      "Iteration 91/100, R^2 score: 0.7955994535450347\n",
      "Iteration 92/100, R^2 score: 0.7360055648640302\n",
      "Iteration 93/100, R^2 score: 0.8353600824315552\n",
      "Iteration 94/100, R^2 score: 0.7886067917318985\n",
      "Iteration 95/100, R^2 score: 0.8399683000112736\n",
      "Iteration 96/100, R^2 score: 0.7701589327746621\n",
      "Iteration 97/100, R^2 score: 0.82669358596718\n",
      "Iteration 98/100, R^2 score: 0.8453039671630598\n",
      "Iteration 99/100, R^2 score: 0.8496734932567336\n",
      "Iteration 100/100, R^2 score: 0.8143686245707807\n"
     ]
    }
   ],
   "source": [
    "num_iterations = 100\n",
    "\n",
    "for i in range(num_iterations):\n",
    "    try:\n",
    "        X_train, X_test, y_train, y_test = train_test_split(X, y, test_size=0.1, random_state=i)\n",
    "        br = BaggingRegressor(n_estimators=100, bootstrap=True, bootstrap_features=False, random_state=i)\n",
    "        pipet = make_pipeline(column_trans, br)\n",
    "        pipet.fit(X_train, y_train)\n",
    "        y_predt = pipet.predict(X_test)\n",
    "        score = r2_score(y_test, y_predt)\n",
    "        sc.append(score)\n",
    "        random_states.append(i)\n",
    "        print(f\"Iteration {i+1}/{num_iterations}, R^2 score: {score}\")\n",
    "    except Exception as e:\n",
    "        print(f\"Error in iteration {i+1}: {e}\")"
   ]
  },
  {
   "cell_type": "code",
   "execution_count": 507,
   "id": "08f86565-7ad9-41c6-9947-f69375006b81",
   "metadata": {},
   "outputs": [],
   "source": [
    "best_index = np.argmax(sc)\n",
    "best_random_state = random_states[best_index]\n",
    "best_score = sc[best_index]"
   ]
  },
  {
   "cell_type": "code",
   "execution_count": 508,
   "id": "f6f3d07c-98e0-4e0b-b798-c953ed6ccc9d",
   "metadata": {},
   "outputs": [
    {
     "name": "stdout",
     "output_type": "stream",
     "text": [
      "Best random state: 40, Best R^2 score: 0.9161052673147663\n"
     ]
    }
   ],
   "source": [
    "print(f\"Best random state: {best_random_state}, Best R^2 score: {best_score}\")"
   ]
  },
  {
   "cell_type": "code",
   "execution_count": 509,
   "id": "2eaec2b5-7147-439e-be12-b6155bdd6a9a",
   "metadata": {},
   "outputs": [],
   "source": [
    "X_train, X_test, y_train, y_test = train_test_split(X, y, test_size=0.1, random_state=best_random_state)\n",
    "br = BaggingRegressor(n_estimators=100, bootstrap=True, bootstrap_features=False, random_state=best_random_state)\n",
    "pipet = make_pipeline(column_trans, br)\n",
    "pipet.fit(X_train, y_train)\n",
    "y_predt = pipet.predict(X_test)\n",
    "final_score = r2_score(y_test, y_predt)"
   ]
  },
  {
   "cell_type": "code",
   "execution_count": 510,
   "id": "0dc0cb27-d708-4ca6-a4f8-550b44bd291b",
   "metadata": {},
   "outputs": [
    {
     "name": "stdout",
     "output_type": "stream",
     "text": [
      "R^2 score with best random state: 0.9161052673147663\n"
     ]
    }
   ],
   "source": [
    "print(f\"R^2 score with best random state: {final_score}\")"
   ]
  },
  {
   "cell_type": "code",
   "execution_count": 513,
   "id": "7f2c7bfb-e1ca-4921-ad71-4bf8b6177555",
   "metadata": {},
   "outputs": [
    {
     "name": "stdout",
     "output_type": "stream",
     "text": [
      "Collecting pickle-mixin\n",
      "  Downloading pickle-mixin-1.0.2.tar.gz (5.1 kB)\n",
      "  Preparing metadata (setup.py): started\n",
      "  Preparing metadata (setup.py): finished with status 'done'\n",
      "Building wheels for collected packages: pickle-mixin\n",
      "  Building wheel for pickle-mixin (setup.py): started\n",
      "  Building wheel for pickle-mixin (setup.py): finished with status 'done'\n",
      "  Created wheel for pickle-mixin: filename=pickle_mixin-1.0.2-py3-none-any.whl size=6016 sha256=7fde77a4097701fa9320cecfe77570139a03cfab21462798190a02cbabc1a749\n",
      "  Stored in directory: c:\\users\\gaura\\appdata\\local\\pip\\cache\\wheels\\d0\\9c\\0d\\8709be17c02b72bf04ea60d8ec64fc46a1554c0fb81e048dd6\n",
      "Successfully built pickle-mixin\n",
      "Installing collected packages: pickle-mixin\n",
      "Successfully installed pickle-mixin-1.0.2\n"
     ]
    }
   ],
   "source": [
    "!pip install pickle-mixin"
   ]
  },
  {
   "cell_type": "code",
   "execution_count": 514,
   "id": "6f1e7845-def5-471f-a3c0-591ad14d08f4",
   "metadata": {},
   "outputs": [],
   "source": [
    "import pickle"
   ]
  },
  {
   "cell_type": "code",
   "execution_count": 515,
   "id": "97710878-53a7-46e9-88bf-1346bb7f90c1",
   "metadata": {},
   "outputs": [],
   "source": [
    "pickle.dump(pipet,open('BaggingRegressorModel.pkl','wb'))"
   ]
  },
  {
   "cell_type": "code",
   "execution_count": 516,
   "id": "1cfa2afa-0d06-4c47-90de-b25de4dc86e4",
   "metadata": {},
   "outputs": [
    {
     "data": {
      "text/html": [
       "<div>\n",
       "<style scoped>\n",
       "    .dataframe tbody tr th:only-of-type {\n",
       "        vertical-align: middle;\n",
       "    }\n",
       "\n",
       "    .dataframe tbody tr th {\n",
       "        vertical-align: top;\n",
       "    }\n",
       "\n",
       "    .dataframe thead th {\n",
       "        text-align: right;\n",
       "    }\n",
       "</style>\n",
       "<table border=\"1\" class=\"dataframe\">\n",
       "  <thead>\n",
       "    <tr style=\"text-align: right;\">\n",
       "      <th></th>\n",
       "      <th>Ram</th>\n",
       "      <th>Battery</th>\n",
       "      <th>Display</th>\n",
       "      <th>company</th>\n",
       "      <th>Inbuilt_memory</th>\n",
       "      <th>fast_charging</th>\n",
       "      <th>Screen_resolution</th>\n",
       "      <th>Processor</th>\n",
       "      <th>Processor_name</th>\n",
       "      <th>rear</th>\n",
       "      <th>front</th>\n",
       "      <th>no_of_sim</th>\n",
       "      <th>Is_5G</th>\n",
       "    </tr>\n",
       "  </thead>\n",
       "  <tbody>\n",
       "    <tr>\n",
       "      <th>0</th>\n",
       "      <td>4.0</td>\n",
       "      <td>6000</td>\n",
       "      <td>6.60</td>\n",
       "      <td>Samsung</td>\n",
       "      <td>128</td>\n",
       "      <td>25.0</td>\n",
       "      <td>1080 x 2400</td>\n",
       "      <td>Octa Core</td>\n",
       "      <td>Exynos</td>\n",
       "      <td>50</td>\n",
       "      <td>13</td>\n",
       "      <td>Dual Sim</td>\n",
       "      <td>Yes</td>\n",
       "    </tr>\n",
       "    <tr>\n",
       "      <th>1</th>\n",
       "      <td>2.0</td>\n",
       "      <td>4000</td>\n",
       "      <td>6.40</td>\n",
       "      <td>Samsung</td>\n",
       "      <td>32</td>\n",
       "      <td>15.0</td>\n",
       "      <td>480 x 960</td>\n",
       "      <td>1.6 GHz Processor</td>\n",
       "      <td>Octa</td>\n",
       "      <td>13</td>\n",
       "      <td>8</td>\n",
       "      <td>Dual Sim</td>\n",
       "      <td>No</td>\n",
       "    </tr>\n",
       "    <tr>\n",
       "      <th>2</th>\n",
       "      <td>4.0</td>\n",
       "      <td>5000</td>\n",
       "      <td>6.60</td>\n",
       "      <td>Samsung</td>\n",
       "      <td>64</td>\n",
       "      <td>25.0</td>\n",
       "      <td>1080 x 2400</td>\n",
       "      <td>1.6 GHz Processor</td>\n",
       "      <td>Octa</td>\n",
       "      <td>50</td>\n",
       "      <td>8</td>\n",
       "      <td>Dual Sim</td>\n",
       "      <td>No</td>\n",
       "    </tr>\n",
       "    <tr>\n",
       "      <th>3</th>\n",
       "      <td>4.0</td>\n",
       "      <td>6000</td>\n",
       "      <td>6.40</td>\n",
       "      <td>Samsung</td>\n",
       "      <td>64</td>\n",
       "      <td>18.0</td>\n",
       "      <td>480 x 960</td>\n",
       "      <td>Octa Core</td>\n",
       "      <td>Helio</td>\n",
       "      <td>48</td>\n",
       "      <td>13</td>\n",
       "      <td>Dual Sim</td>\n",
       "      <td>No</td>\n",
       "    </tr>\n",
       "    <tr>\n",
       "      <th>4</th>\n",
       "      <td>4.0</td>\n",
       "      <td>5000</td>\n",
       "      <td>6.50</td>\n",
       "      <td>Samsung</td>\n",
       "      <td>64</td>\n",
       "      <td>15.0</td>\n",
       "      <td>480 x 960</td>\n",
       "      <td>Octa Core</td>\n",
       "      <td>Helio</td>\n",
       "      <td>13</td>\n",
       "      <td>5</td>\n",
       "      <td>Dual Sim</td>\n",
       "      <td>No</td>\n",
       "    </tr>\n",
       "    <tr>\n",
       "      <th>...</th>\n",
       "      <td>...</td>\n",
       "      <td>...</td>\n",
       "      <td>...</td>\n",
       "      <td>...</td>\n",
       "      <td>...</td>\n",
       "      <td>...</td>\n",
       "      <td>...</td>\n",
       "      <td>...</td>\n",
       "      <td>...</td>\n",
       "      <td>...</td>\n",
       "      <td>...</td>\n",
       "      <td>...</td>\n",
       "      <td>...</td>\n",
       "    </tr>\n",
       "    <tr>\n",
       "      <th>1361</th>\n",
       "      <td>4.0</td>\n",
       "      <td>4000</td>\n",
       "      <td>6.81</td>\n",
       "      <td>TCL</td>\n",
       "      <td>128</td>\n",
       "      <td>18.0</td>\n",
       "      <td>1080 x 2400</td>\n",
       "      <td>Octa Core</td>\n",
       "      <td>Dimensity</td>\n",
       "      <td>50</td>\n",
       "      <td>13</td>\n",
       "      <td>Dual Sim</td>\n",
       "      <td>Yes</td>\n",
       "    </tr>\n",
       "    <tr>\n",
       "      <th>1362</th>\n",
       "      <td>4.0</td>\n",
       "      <td>5000</td>\n",
       "      <td>6.60</td>\n",
       "      <td>TCL</td>\n",
       "      <td>64</td>\n",
       "      <td>15.0</td>\n",
       "      <td>480 x 960</td>\n",
       "      <td>Octa Core</td>\n",
       "      <td>Dimensity</td>\n",
       "      <td>50</td>\n",
       "      <td>8</td>\n",
       "      <td>Dual Sim</td>\n",
       "      <td>Yes</td>\n",
       "    </tr>\n",
       "    <tr>\n",
       "      <th>1363</th>\n",
       "      <td>8.0</td>\n",
       "      <td>5000</td>\n",
       "      <td>6.80</td>\n",
       "      <td>TCL</td>\n",
       "      <td>128</td>\n",
       "      <td>33.0</td>\n",
       "      <td>1260 x 2800</td>\n",
       "      <td>Octa Core</td>\n",
       "      <td>Dimensity</td>\n",
       "      <td>50</td>\n",
       "      <td>16</td>\n",
       "      <td>Dual Sim</td>\n",
       "      <td>No</td>\n",
       "    </tr>\n",
       "    <tr>\n",
       "      <th>1364</th>\n",
       "      <td>6.0</td>\n",
       "      <td>5000</td>\n",
       "      <td>6.60</td>\n",
       "      <td>TCL</td>\n",
       "      <td>256</td>\n",
       "      <td>18.0</td>\n",
       "      <td>480 x 960</td>\n",
       "      <td>Octa Core</td>\n",
       "      <td>Dimensity</td>\n",
       "      <td>50</td>\n",
       "      <td>16</td>\n",
       "      <td>Dual Sim</td>\n",
       "      <td>Yes</td>\n",
       "    </tr>\n",
       "    <tr>\n",
       "      <th>1365</th>\n",
       "      <td>6.0</td>\n",
       "      <td>5000</td>\n",
       "      <td>6.60</td>\n",
       "      <td>TCL</td>\n",
       "      <td>256</td>\n",
       "      <td>15.0</td>\n",
       "      <td>480 x 960</td>\n",
       "      <td>Octa Core</td>\n",
       "      <td>Dimensity</td>\n",
       "      <td>50</td>\n",
       "      <td>8</td>\n",
       "      <td>Dual Sim</td>\n",
       "      <td>Yes</td>\n",
       "    </tr>\n",
       "  </tbody>\n",
       "</table>\n",
       "<p>1366 rows × 13 columns</p>\n",
       "</div>"
      ],
      "text/plain": [
       "      Ram  Battery  Display  company  Inbuilt_memory  fast_charging  \\\n",
       "0     4.0     6000     6.60  Samsung             128           25.0   \n",
       "1     2.0     4000     6.40  Samsung              32           15.0   \n",
       "2     4.0     5000     6.60  Samsung              64           25.0   \n",
       "3     4.0     6000     6.40  Samsung              64           18.0   \n",
       "4     4.0     5000     6.50  Samsung              64           15.0   \n",
       "...   ...      ...      ...      ...             ...            ...   \n",
       "1361  4.0     4000     6.81      TCL             128           18.0   \n",
       "1362  4.0     5000     6.60      TCL              64           15.0   \n",
       "1363  8.0     5000     6.80      TCL             128           33.0   \n",
       "1364  6.0     5000     6.60      TCL             256           18.0   \n",
       "1365  6.0     5000     6.60      TCL             256           15.0   \n",
       "\n",
       "     Screen_resolution          Processor Processor_name  rear  front  \\\n",
       "0          1080 x 2400          Octa Core         Exynos    50     13   \n",
       "1            480 x 960  1.6 GHz Processor           Octa    13      8   \n",
       "2          1080 x 2400  1.6 GHz Processor           Octa    50      8   \n",
       "3            480 x 960          Octa Core          Helio    48     13   \n",
       "4            480 x 960          Octa Core          Helio    13      5   \n",
       "...                ...                ...            ...   ...    ...   \n",
       "1361       1080 x 2400          Octa Core      Dimensity    50     13   \n",
       "1362         480 x 960          Octa Core      Dimensity    50      8   \n",
       "1363       1260 x 2800          Octa Core      Dimensity    50     16   \n",
       "1364         480 x 960          Octa Core      Dimensity    50     16   \n",
       "1365         480 x 960          Octa Core      Dimensity    50      8   \n",
       "\n",
       "     no_of_sim Is_5G  \n",
       "0     Dual Sim   Yes  \n",
       "1     Dual Sim    No  \n",
       "2     Dual Sim    No  \n",
       "3     Dual Sim    No  \n",
       "4     Dual Sim    No  \n",
       "...        ...   ...  \n",
       "1361  Dual Sim   Yes  \n",
       "1362  Dual Sim   Yes  \n",
       "1363  Dual Sim    No  \n",
       "1364  Dual Sim   Yes  \n",
       "1365  Dual Sim   Yes  \n",
       "\n",
       "[1366 rows x 13 columns]"
      ]
     },
     "execution_count": 516,
     "metadata": {},
     "output_type": "execute_result"
    }
   ],
   "source": [
    "X\n"
   ]
  },
  {
   "cell_type": "code",
   "execution_count": null,
   "id": "85d94a3a-bc5c-4b7d-9128-eb8bc6a39f38",
   "metadata": {},
   "outputs": [],
   "source": []
  }
 ],
 "metadata": {
  "kernelspec": {
   "display_name": "Python 3 (ipykernel)",
   "language": "python",
   "name": "python3"
  },
  "language_info": {
   "codemirror_mode": {
    "name": "ipython",
    "version": 3
   },
   "file_extension": ".py",
   "mimetype": "text/x-python",
   "name": "python",
   "nbconvert_exporter": "python",
   "pygments_lexer": "ipython3",
   "version": "3.11.7"
  }
 },
 "nbformat": 4,
 "nbformat_minor": 5
}
